{
 "cells": [
  {
   "cell_type": "markdown",
   "id": "51624c62",
   "metadata": {},
   "source": [
    "## Assignment 2 (Machine Learning using Sklearn and TensorFlow)\n",
    "### Angel Team:\n",
    "\n",
    "* Andres Salguero  - C0932873\n",
    "\n",
    "* Andrea Franco - C0931897\n",
    "\n",
    "* Vishv Patel - C0938107\n",
    "\n",
    "* Rajkumar Patel - C0934637\n",
    "\n",
    "* Harpreet kaur - C0936410\n",
    "\n",
    "* Gurpreet kaur - C0936411\n"
   ]
  },
  {
   "cell_type": "markdown",
   "id": "b5c246e6",
   "metadata": {},
   "source": [
    "## Project: Traffic collision analysis \n",
    "This project aims at building a machine learning classification model in oder to predict whether the person just fatal or non fatal injury in a collision based on various features.the dataset used in this project is from Kaggle.\n",
    "\n",
    "The classification models which are used in this project are evaluated on the basis of classification report and accuracy score to know which model is performing the best.\n",
    "\n",
    "The classification models which will be used are Random Forest classifier, Gradient boosting Classifier, SVM amd logistic regression. Then the results from all these model are saved in csv file and then uploaded to competition to know whether the models are under-fitting or over-fitting."
   ]
  },
  {
   "cell_type": "markdown",
   "id": "5ff359e5",
   "metadata": {},
   "source": [
    "## Dataset"
   ]
  },
  {
   "cell_type": "markdown",
   "id": "011a77e5",
   "metadata": {},
   "source": [
    "### Killed or Seriously Injured (KSI) dataset\n",
    "\n",
    "This dataset includes all traffic collisions events where a person was either Killed or Seriously Injured (KSI) from 2006 – 2022.\n",
    "\n",
    "This Killed or Seriously Injured (KSI) dataset is a subset from all traffic collision events.\n",
    "\n",
    "The source of the data comes from police reports where an officer attended an event related to a traffic collision. Please note that this dataset does not include all traffic collision events. The KSI data only includes events where a person sustained a major or fatal injury in a traffic collision event.\n",
    "\n",
    "**Data Fields Description:**\n",
    "\n",
    "* INDEX_ : Unique Identifier\n",
    "* ACCNUM : Accident Number\n",
    "* YEAR : Year Collision Occurred\n",
    "* DATE : Date Collision Occurred (time is displayed in UTC format)\n",
    "* TIME : Time Collision Occurred\n",
    "* STREET1 : Street Collision Occurred\n",
    "* STREET2 : Street Collision Occurred\n",
    "* OFFSET : Distance and direction of the Collision\n",
    "* ROAD_CLASS : Road Classification\n",
    "* DISTRICT : City District\n",
    "* WARDNUM : City of Toronto Ward collision occurred\n",
    "* LATITUDE : Latitude\n",
    "* LONGITUDE : Longitude\n",
    "* LOCCOORD : Location Coordinate\n",
    "* ACCLOC : Collision Location\n",
    "* TRAFFCTL : Traffic Control Type\n",
    "* VISIBILITY : Environment Condition\n",
    "* LIGHT : Light Condition\n",
    "* RDSFCOND : Road Surface Condition\n",
    "* ACCLASS : Classification of Accident\n",
    "* IMPACTYPE : Initial Impact Type\n",
    "* INVTYPE : Involvement Type\n",
    "* INVAGE : Age of Involved Party\n",
    "* INJURY : Severity of Injury\n",
    "* FATAL_NO : Sequential Number\n",
    "* INITDIR : Initial Direction of Travel\n",
    "* VEHTYPE : Type of Vehicle\n",
    "* MANOEUVER : Vehicle Manoeuver\n",
    "* DRIVACT : Apparent Driver Action\n",
    "* DRIVCOND : Driver Condition\n",
    "* PEDTYPE : Pedestrian Crash Type - detail\n",
    "* PEDACT : Pedestrian Action\n",
    "* PEDCOND : Condition of Pedestrian\n",
    "* CYCLISTYPE : Cyclist Crash Type - detail\n",
    "* CYCACT : Cyclist Action\n",
    "* CYCCOND : Cyclist Condition\n",
    "* PEDESTRIAN : Pedestrian Involved In Collision\n",
    "* CYCLIST : Cyclists Involved in Collision\n",
    "* AUTOMOBILE : Driver Involved in Collision\n",
    "* MOTORCYCLE : Motorcyclist Involved in Collision\n",
    "* TRUCK : Truck Driver Involved in Collision\n",
    "* TRSN_CITY_VEH : Transit or City Vehicle Involved in Collision\n",
    "* EMERG_VEH : Emergency Vehicle Involved in Collision\n",
    "* PASSENGER : Passenger Involved in Collision\n",
    "* SPEEDING : Speeding Related Collision\n",
    "* AG_DRIV : Aggressive and Distracted Driving Collision\n",
    "* REDLIGHT : Red Light Related Collision\n",
    "* ALCOHOL : Alcohol Related Collision\n",
    "* DISABILITY : Medical or Physical Disability Related Collision\n",
    "* HOOD_158 Unique ID : for City of Toronto Neighbourhood (new)\n",
    "* NEIGHBOURHOOD_158 : City of Toronto Neighbourhood name (new)\n",
    "* HOOD_140 : Unique ID for City of Toronto Neighbourhood (old)\n",
    "* NEIGHBOURHOOD_140 : City of Toronto Neighbourhood name (old)\n",
    "* DIVISION : Toronto Police Service Division\n",
    "* ObjectID : Unique Identifier (auto generated)\n",
    "\n",
    "**Credits to:** Toronto Police Service Public Safety Data Portal\n",
    "\n",
    "**Objective:** Build a Binary classification model based on certain features would predict if the incident would result in fatality or not.\n"
   ]
  },
  {
   "cell_type": "markdown",
   "id": "a51eb944",
   "metadata": {},
   "source": [
    "## Libraries:\n",
    "In this code cell will be importing the libraries which are necessary for the project."
   ]
  },
  {
   "cell_type": "code",
   "execution_count": 302,
   "id": "75fd114b-ba7e-4a9b-a721-1165f45a6b64",
   "metadata": {},
   "outputs": [],
   "source": [
    "import numpy as np\n",
    "import pandas as pd\n",
    "import matplotlib.pyplot as plt\n",
    "import seaborn as sns\n",
    "# import machine learning libraries\n",
    "from sklearn.model_selection import train_test_split\n",
    "from sklearn.ensemble import RandomForestClassifier , GradientBoostingClassifier\n",
    "from sklearn.svm import SVC\n",
    "from sklearn.linear_model import LogisticRegression\n",
    "from sklearn.model_selection import train_test_split,GridSearchCV\n",
    "from sklearn.metrics import accuracy_score,roc_curve,auc,classification_report,confusion_matrix\n",
    "from sklearn.preprocessing import OneHotEncoder, LabelEncoder\n",
    "from sklearn.compose import ColumnTransformer\n",
    "from sklearn.model_selection import learning_curve\n",
    "\n",
    "# Tensorflow libraries\n",
    "import tensorflow as tf\n",
    "from tensorflow import keras\n",
    "from tensorflow.keras.models import Sequential\n"
   ]
  },
  {
   "cell_type": "markdown",
   "id": "c4b6885e",
   "metadata": {},
   "source": [
    "In this the dataset is loaded using pandas function (pd.read_csv)"
   ]
  },
  {
   "cell_type": "code",
   "execution_count": 303,
   "id": "64082c4b-4882-48e5-bc68-b5c7950594f1",
   "metadata": {},
   "outputs": [],
   "source": [
    "# loading dataset\n",
    "train_df = pd.read_csv(\"train.csv\")\n",
    "test_df = pd.read_csv(\"test.csv\")"
   ]
  },
  {
   "cell_type": "markdown",
   "id": "1b6a8a59",
   "metadata": {},
   "source": [
    "In this the copy of test dataset is made using (copy) function in oder to use the object id make comparison and check the over-fitting and under-fitting of models."
   ]
  },
  {
   "cell_type": "code",
   "execution_count": 304,
   "id": "8521aa82-ac7b-41f9-9232-0d9cd66a47d9",
   "metadata": {},
   "outputs": [
    {
     "data": {
      "text/html": [
       "<div>\n",
       "<style scoped>\n",
       "    .dataframe tbody tr th:only-of-type {\n",
       "        vertical-align: middle;\n",
       "    }\n",
       "\n",
       "    .dataframe tbody tr th {\n",
       "        vertical-align: top;\n",
       "    }\n",
       "\n",
       "    .dataframe thead th {\n",
       "        text-align: right;\n",
       "    }\n",
       "</style>\n",
       "<table border=\"1\" class=\"dataframe\">\n",
       "  <thead>\n",
       "    <tr style=\"text-align: right;\">\n",
       "      <th></th>\n",
       "      <th>X</th>\n",
       "      <th>Y</th>\n",
       "      <th>OBJECTID</th>\n",
       "      <th>INDEX_</th>\n",
       "      <th>ACCNUM</th>\n",
       "      <th>DATE</th>\n",
       "      <th>TIME</th>\n",
       "      <th>STREET1</th>\n",
       "      <th>STREET2</th>\n",
       "      <th>OFFSET</th>\n",
       "      <th>...</th>\n",
       "      <th>SPEEDING</th>\n",
       "      <th>AG_DRIV</th>\n",
       "      <th>REDLIGHT</th>\n",
       "      <th>ALCOHOL</th>\n",
       "      <th>DISABILITY</th>\n",
       "      <th>HOOD_158</th>\n",
       "      <th>NEIGHBOURHOOD_158</th>\n",
       "      <th>HOOD_140</th>\n",
       "      <th>NEIGHBOURHOOD_140</th>\n",
       "      <th>DIVISION</th>\n",
       "    </tr>\n",
       "  </thead>\n",
       "  <tbody>\n",
       "    <tr>\n",
       "      <th>0</th>\n",
       "      <td>637398.2785</td>\n",
       "      <td>4849101.813</td>\n",
       "      <td>15001</td>\n",
       "      <td>80972086</td>\n",
       "      <td>NaN</td>\n",
       "      <td>2018/09/26 08:00:00+00</td>\n",
       "      <td>2053</td>\n",
       "      <td>3850 SHEPPARD AVE E</td>\n",
       "      <td>NaN</td>\n",
       "      <td>90 m East of</td>\n",
       "      <td>...</td>\n",
       "      <td>NaN</td>\n",
       "      <td>Yes</td>\n",
       "      <td>NaN</td>\n",
       "      <td>NaN</td>\n",
       "      <td>NaN</td>\n",
       "      <td>118</td>\n",
       "      <td>Tam O'Shanter-Sullivan</td>\n",
       "      <td>118</td>\n",
       "      <td>Tam O'Shanter-Sullivan (118)</td>\n",
       "      <td>D42</td>\n",
       "    </tr>\n",
       "    <tr>\n",
       "      <th>1</th>\n",
       "      <td>637398.2785</td>\n",
       "      <td>4849101.813</td>\n",
       "      <td>15002</td>\n",
       "      <td>80972617</td>\n",
       "      <td>NaN</td>\n",
       "      <td>2018/09/26 08:00:00+00</td>\n",
       "      <td>2053</td>\n",
       "      <td>3850 SHEPPARD AVE E</td>\n",
       "      <td>NaN</td>\n",
       "      <td>90 m East of</td>\n",
       "      <td>...</td>\n",
       "      <td>NaN</td>\n",
       "      <td>Yes</td>\n",
       "      <td>NaN</td>\n",
       "      <td>NaN</td>\n",
       "      <td>NaN</td>\n",
       "      <td>118</td>\n",
       "      <td>Tam O'Shanter-Sullivan</td>\n",
       "      <td>118</td>\n",
       "      <td>Tam O'Shanter-Sullivan (118)</td>\n",
       "      <td>D42</td>\n",
       "    </tr>\n",
       "    <tr>\n",
       "      <th>2</th>\n",
       "      <td>639017.8028</td>\n",
       "      <td>4843417.954</td>\n",
       "      <td>15003</td>\n",
       "      <td>80972182</td>\n",
       "      <td>NaN</td>\n",
       "      <td>2018/09/28 08:00:00+00</td>\n",
       "      <td>806</td>\n",
       "      <td>EGLINTON AVE E</td>\n",
       "      <td>ROSEMOUNT DR</td>\n",
       "      <td>NaN</td>\n",
       "      <td>...</td>\n",
       "      <td>NaN</td>\n",
       "      <td>NaN</td>\n",
       "      <td>NaN</td>\n",
       "      <td>NaN</td>\n",
       "      <td>NaN</td>\n",
       "      <td>125</td>\n",
       "      <td>Ionview</td>\n",
       "      <td>125</td>\n",
       "      <td>Ionview (125)</td>\n",
       "      <td>D41</td>\n",
       "    </tr>\n",
       "    <tr>\n",
       "      <th>3</th>\n",
       "      <td>639017.8028</td>\n",
       "      <td>4843417.954</td>\n",
       "      <td>15004</td>\n",
       "      <td>80972183</td>\n",
       "      <td>NaN</td>\n",
       "      <td>2018/09/28 08:00:00+00</td>\n",
       "      <td>806</td>\n",
       "      <td>EGLINTON AVE E</td>\n",
       "      <td>ROSEMOUNT DR</td>\n",
       "      <td>NaN</td>\n",
       "      <td>...</td>\n",
       "      <td>NaN</td>\n",
       "      <td>NaN</td>\n",
       "      <td>NaN</td>\n",
       "      <td>NaN</td>\n",
       "      <td>NaN</td>\n",
       "      <td>125</td>\n",
       "      <td>Ionview</td>\n",
       "      <td>125</td>\n",
       "      <td>Ionview (125)</td>\n",
       "      <td>D41</td>\n",
       "    </tr>\n",
       "    <tr>\n",
       "      <th>4</th>\n",
       "      <td>620810.2466</td>\n",
       "      <td>4838690.153</td>\n",
       "      <td>15005</td>\n",
       "      <td>80972485</td>\n",
       "      <td>NaN</td>\n",
       "      <td>2018/09/28 08:00:00+00</td>\n",
       "      <td>1018</td>\n",
       "      <td>1277 JANE ST</td>\n",
       "      <td>NaN</td>\n",
       "      <td>4 m North of</td>\n",
       "      <td>...</td>\n",
       "      <td>NaN</td>\n",
       "      <td>NaN</td>\n",
       "      <td>NaN</td>\n",
       "      <td>NaN</td>\n",
       "      <td>NaN</td>\n",
       "      <td>115</td>\n",
       "      <td>Mount Dennis</td>\n",
       "      <td>115</td>\n",
       "      <td>Mount Dennis (115)</td>\n",
       "      <td>D12</td>\n",
       "    </tr>\n",
       "  </tbody>\n",
       "</table>\n",
       "<p>5 rows × 53 columns</p>\n",
       "</div>"
      ],
      "text/plain": [
       "             X            Y  OBJECTID    INDEX_  ACCNUM  \\\n",
       "0  637398.2785  4849101.813     15001  80972086     NaN   \n",
       "1  637398.2785  4849101.813     15002  80972617     NaN   \n",
       "2  639017.8028  4843417.954     15003  80972182     NaN   \n",
       "3  639017.8028  4843417.954     15004  80972183     NaN   \n",
       "4  620810.2466  4838690.153     15005  80972485     NaN   \n",
       "\n",
       "                     DATE  TIME              STREET1       STREET2  \\\n",
       "0  2018/09/26 08:00:00+00  2053  3850 SHEPPARD AVE E           NaN   \n",
       "1  2018/09/26 08:00:00+00  2053  3850 SHEPPARD AVE E           NaN   \n",
       "2  2018/09/28 08:00:00+00   806       EGLINTON AVE E  ROSEMOUNT DR   \n",
       "3  2018/09/28 08:00:00+00   806       EGLINTON AVE E  ROSEMOUNT DR   \n",
       "4  2018/09/28 08:00:00+00  1018         1277 JANE ST           NaN   \n",
       "\n",
       "         OFFSET  ... SPEEDING AG_DRIV  REDLIGHT  ALCOHOL DISABILITY HOOD_158  \\\n",
       "0  90 m East of  ...      NaN     Yes       NaN      NaN        NaN      118   \n",
       "1  90 m East of  ...      NaN     Yes       NaN      NaN        NaN      118   \n",
       "2           NaN  ...      NaN     NaN       NaN      NaN        NaN      125   \n",
       "3           NaN  ...      NaN     NaN       NaN      NaN        NaN      125   \n",
       "4  4 m North of  ...      NaN     NaN       NaN      NaN        NaN      115   \n",
       "\n",
       "        NEIGHBOURHOOD_158 HOOD_140             NEIGHBOURHOOD_140 DIVISION  \n",
       "0  Tam O'Shanter-Sullivan      118  Tam O'Shanter-Sullivan (118)      D42  \n",
       "1  Tam O'Shanter-Sullivan      118  Tam O'Shanter-Sullivan (118)      D42  \n",
       "2                 Ionview      125                 Ionview (125)      D41  \n",
       "3                 Ionview      125                 Ionview (125)      D41  \n",
       "4            Mount Dennis      115            Mount Dennis (115)      D12  \n",
       "\n",
       "[5 rows x 53 columns]"
      ]
     },
     "execution_count": 304,
     "metadata": {},
     "output_type": "execute_result"
    }
   ],
   "source": [
    "# creating copy for accessing object id from this\n",
    "object_id_col = test_df.copy()\n",
    "object_id_col.head()"
   ]
  },
  {
   "cell_type": "markdown",
   "id": "c9d605f1",
   "metadata": {},
   "source": [
    "## Exploratory data analysis"
   ]
  },
  {
   "cell_type": "markdown",
   "id": "9c692f56",
   "metadata": {},
   "source": [
    "In this step we will using some function like head, info to get insights of our datasets."
   ]
  },
  {
   "cell_type": "code",
   "execution_count": 305,
   "id": "bb5396dc-fb5b-47dd-b575-4c1b12a5312c",
   "metadata": {},
   "outputs": [
    {
     "data": {
      "text/html": [
       "<div>\n",
       "<style scoped>\n",
       "    .dataframe tbody tr th:only-of-type {\n",
       "        vertical-align: middle;\n",
       "    }\n",
       "\n",
       "    .dataframe tbody tr th {\n",
       "        vertical-align: top;\n",
       "    }\n",
       "\n",
       "    .dataframe thead th {\n",
       "        text-align: right;\n",
       "    }\n",
       "</style>\n",
       "<table border=\"1\" class=\"dataframe\">\n",
       "  <thead>\n",
       "    <tr style=\"text-align: right;\">\n",
       "      <th></th>\n",
       "      <th>X</th>\n",
       "      <th>Y</th>\n",
       "      <th>OBJECTID</th>\n",
       "      <th>INDEX_</th>\n",
       "      <th>ACCNUM</th>\n",
       "      <th>DATE</th>\n",
       "      <th>TIME</th>\n",
       "      <th>STREET1</th>\n",
       "      <th>STREET2</th>\n",
       "      <th>OFFSET</th>\n",
       "      <th>...</th>\n",
       "      <th>SPEEDING</th>\n",
       "      <th>AG_DRIV</th>\n",
       "      <th>REDLIGHT</th>\n",
       "      <th>ALCOHOL</th>\n",
       "      <th>DISABILITY</th>\n",
       "      <th>HOOD_158</th>\n",
       "      <th>NEIGHBOURHOOD_158</th>\n",
       "      <th>HOOD_140</th>\n",
       "      <th>NEIGHBOURHOOD_140</th>\n",
       "      <th>DIVISION</th>\n",
       "    </tr>\n",
       "  </thead>\n",
       "  <tbody>\n",
       "    <tr>\n",
       "      <th>0</th>\n",
       "      <td>635468.3685</td>\n",
       "      <td>4839880.764</td>\n",
       "      <td>1</td>\n",
       "      <td>3389067</td>\n",
       "      <td>893184.0</td>\n",
       "      <td>2006/01/01 10:00:00+00</td>\n",
       "      <td>236</td>\n",
       "      <td>WOODBINE AVE</td>\n",
       "      <td>O CONNOR DR</td>\n",
       "      <td>NaN</td>\n",
       "      <td>...</td>\n",
       "      <td>Yes</td>\n",
       "      <td>Yes</td>\n",
       "      <td>NaN</td>\n",
       "      <td>Yes</td>\n",
       "      <td>NaN</td>\n",
       "      <td>60</td>\n",
       "      <td>Woodbine-Lumsden</td>\n",
       "      <td>60</td>\n",
       "      <td>Woodbine-Lumsden (60)</td>\n",
       "      <td>D55</td>\n",
       "    </tr>\n",
       "    <tr>\n",
       "      <th>1</th>\n",
       "      <td>635468.3685</td>\n",
       "      <td>4839880.764</td>\n",
       "      <td>2</td>\n",
       "      <td>3389068</td>\n",
       "      <td>893184.0</td>\n",
       "      <td>2006/01/01 10:00:00+00</td>\n",
       "      <td>236</td>\n",
       "      <td>WOODBINE AVE</td>\n",
       "      <td>O CONNOR DR</td>\n",
       "      <td>NaN</td>\n",
       "      <td>...</td>\n",
       "      <td>Yes</td>\n",
       "      <td>Yes</td>\n",
       "      <td>NaN</td>\n",
       "      <td>Yes</td>\n",
       "      <td>NaN</td>\n",
       "      <td>60</td>\n",
       "      <td>Woodbine-Lumsden</td>\n",
       "      <td>60</td>\n",
       "      <td>Woodbine-Lumsden (60)</td>\n",
       "      <td>D55</td>\n",
       "    </tr>\n",
       "    <tr>\n",
       "      <th>2</th>\n",
       "      <td>635468.3685</td>\n",
       "      <td>4839880.764</td>\n",
       "      <td>3</td>\n",
       "      <td>3389069</td>\n",
       "      <td>893184.0</td>\n",
       "      <td>2006/01/01 10:00:00+00</td>\n",
       "      <td>236</td>\n",
       "      <td>WOODBINE AVE</td>\n",
       "      <td>O CONNOR DR</td>\n",
       "      <td>NaN</td>\n",
       "      <td>...</td>\n",
       "      <td>Yes</td>\n",
       "      <td>Yes</td>\n",
       "      <td>NaN</td>\n",
       "      <td>Yes</td>\n",
       "      <td>NaN</td>\n",
       "      <td>60</td>\n",
       "      <td>Woodbine-Lumsden</td>\n",
       "      <td>60</td>\n",
       "      <td>Woodbine-Lumsden (60)</td>\n",
       "      <td>D55</td>\n",
       "    </tr>\n",
       "    <tr>\n",
       "      <th>3</th>\n",
       "      <td>635468.3685</td>\n",
       "      <td>4839880.764</td>\n",
       "      <td>4</td>\n",
       "      <td>3389070</td>\n",
       "      <td>893184.0</td>\n",
       "      <td>2006/01/01 10:00:00+00</td>\n",
       "      <td>236</td>\n",
       "      <td>WOODBINE AVE</td>\n",
       "      <td>O CONNOR DR</td>\n",
       "      <td>NaN</td>\n",
       "      <td>...</td>\n",
       "      <td>Yes</td>\n",
       "      <td>Yes</td>\n",
       "      <td>NaN</td>\n",
       "      <td>Yes</td>\n",
       "      <td>NaN</td>\n",
       "      <td>60</td>\n",
       "      <td>Woodbine-Lumsden</td>\n",
       "      <td>60</td>\n",
       "      <td>Woodbine-Lumsden (60)</td>\n",
       "      <td>D55</td>\n",
       "    </tr>\n",
       "    <tr>\n",
       "      <th>4</th>\n",
       "      <td>635468.3685</td>\n",
       "      <td>4839880.764</td>\n",
       "      <td>5</td>\n",
       "      <td>3389071</td>\n",
       "      <td>893184.0</td>\n",
       "      <td>2006/01/01 10:00:00+00</td>\n",
       "      <td>236</td>\n",
       "      <td>WOODBINE AVE</td>\n",
       "      <td>O CONNOR DR</td>\n",
       "      <td>NaN</td>\n",
       "      <td>...</td>\n",
       "      <td>Yes</td>\n",
       "      <td>Yes</td>\n",
       "      <td>NaN</td>\n",
       "      <td>Yes</td>\n",
       "      <td>NaN</td>\n",
       "      <td>60</td>\n",
       "      <td>Woodbine-Lumsden</td>\n",
       "      <td>60</td>\n",
       "      <td>Woodbine-Lumsden (60)</td>\n",
       "      <td>D55</td>\n",
       "    </tr>\n",
       "  </tbody>\n",
       "</table>\n",
       "<p>5 rows × 54 columns</p>\n",
       "</div>"
      ],
      "text/plain": [
       "             X            Y  OBJECTID   INDEX_    ACCNUM  \\\n",
       "0  635468.3685  4839880.764         1  3389067  893184.0   \n",
       "1  635468.3685  4839880.764         2  3389068  893184.0   \n",
       "2  635468.3685  4839880.764         3  3389069  893184.0   \n",
       "3  635468.3685  4839880.764         4  3389070  893184.0   \n",
       "4  635468.3685  4839880.764         5  3389071  893184.0   \n",
       "\n",
       "                     DATE  TIME       STREET1      STREET2 OFFSET  ...  \\\n",
       "0  2006/01/01 10:00:00+00   236  WOODBINE AVE  O CONNOR DR    NaN  ...   \n",
       "1  2006/01/01 10:00:00+00   236  WOODBINE AVE  O CONNOR DR    NaN  ...   \n",
       "2  2006/01/01 10:00:00+00   236  WOODBINE AVE  O CONNOR DR    NaN  ...   \n",
       "3  2006/01/01 10:00:00+00   236  WOODBINE AVE  O CONNOR DR    NaN  ...   \n",
       "4  2006/01/01 10:00:00+00   236  WOODBINE AVE  O CONNOR DR    NaN  ...   \n",
       "\n",
       "  SPEEDING AG_DRIV  REDLIGHT  ALCOHOL DISABILITY HOOD_158 NEIGHBOURHOOD_158  \\\n",
       "0      Yes     Yes       NaN      Yes        NaN       60  Woodbine-Lumsden   \n",
       "1      Yes     Yes       NaN      Yes        NaN       60  Woodbine-Lumsden   \n",
       "2      Yes     Yes       NaN      Yes        NaN       60  Woodbine-Lumsden   \n",
       "3      Yes     Yes       NaN      Yes        NaN       60  Woodbine-Lumsden   \n",
       "4      Yes     Yes       NaN      Yes        NaN       60  Woodbine-Lumsden   \n",
       "\n",
       "  HOOD_140      NEIGHBOURHOOD_140 DIVISION  \n",
       "0       60  Woodbine-Lumsden (60)      D55  \n",
       "1       60  Woodbine-Lumsden (60)      D55  \n",
       "2       60  Woodbine-Lumsden (60)      D55  \n",
       "3       60  Woodbine-Lumsden (60)      D55  \n",
       "4       60  Woodbine-Lumsden (60)      D55  \n",
       "\n",
       "[5 rows x 54 columns]"
      ]
     },
     "execution_count": 305,
     "metadata": {},
     "output_type": "execute_result"
    }
   ],
   "source": [
    "train_df.head()"
   ]
  },
  {
   "cell_type": "code",
   "execution_count": 306,
   "id": "f418d51e",
   "metadata": {},
   "outputs": [
    {
     "data": {
      "text/plain": [
       "(15000, 54)"
      ]
     },
     "execution_count": 306,
     "metadata": {},
     "output_type": "execute_result"
    }
   ],
   "source": [
    "# number of raws and columns\n",
    "train_df.shape"
   ]
  },
  {
   "cell_type": "code",
   "execution_count": 307,
   "id": "d15f4f10-fc37-4eb9-866c-821582920cdd",
   "metadata": {},
   "outputs": [
    {
     "name": "stdout",
     "output_type": "stream",
     "text": [
      "<class 'pandas.core.frame.DataFrame'>\n",
      "RangeIndex: 15000 entries, 0 to 14999\n",
      "Data columns (total 54 columns):\n",
      " #   Column             Non-Null Count  Dtype  \n",
      "---  ------             --------------  -----  \n",
      " 0   X                  15000 non-null  float64\n",
      " 1   Y                  15000 non-null  float64\n",
      " 2   OBJECTID           15000 non-null  int64  \n",
      " 3   INDEX_             15000 non-null  int64  \n",
      " 4   ACCNUM             11302 non-null  float64\n",
      " 5   DATE               15000 non-null  object \n",
      " 6   TIME               15000 non-null  int64  \n",
      " 7   STREET1            15000 non-null  object \n",
      " 8   STREET2            13657 non-null  object \n",
      " 9   OFFSET             1928 non-null   object \n",
      " 10  ROAD_CLASS         14643 non-null  object \n",
      " 11  DISTRICT           14984 non-null  object \n",
      " 12  LATITUDE           15000 non-null  float64\n",
      " 13  LONGITUDE          15000 non-null  float64\n",
      " 14  ACCLOC             9550 non-null   object \n",
      " 15  TRAFFCTL           14971 non-null  object \n",
      " 16  VISIBILITY         14986 non-null  object \n",
      " 17  LIGHT              15000 non-null  object \n",
      " 18  RDSFCOND           14981 non-null  object \n",
      " 19  ACCLASS            15000 non-null  object \n",
      " 20  IMPACTYPE          15000 non-null  object \n",
      " 21  INVTYPE            14990 non-null  object \n",
      " 22  INVAGE             15000 non-null  object \n",
      " 23  INJURY             7811 non-null   object \n",
      " 24  FATAL_NO           593 non-null    float64\n",
      " 25  INITDIR            10502 non-null  object \n",
      " 26  VEHTYPE            12944 non-null  object \n",
      " 27  MANOEUVER          8486 non-null   object \n",
      " 28  DRIVACT            7425 non-null   object \n",
      " 29  DRIVCOND           7421 non-null   object \n",
      " 30  PEDTYPE            2460 non-null   object \n",
      " 31  PEDACT             2450 non-null   object \n",
      " 32  PEDCOND            2445 non-null   object \n",
      " 33  CYCLISTYPE         635 non-null    object \n",
      " 34  CYCACT             621 non-null    object \n",
      " 35  CYCCOND            620 non-null    object \n",
      " 36  PEDESTRIAN         5966 non-null   object \n",
      " 37  CYCLIST            1578 non-null   object \n",
      " 38  AUTOMOBILE         13672 non-null  object \n",
      " 39  MOTORCYCLE         1162 non-null   object \n",
      " 40  TRUCK              933 non-null    object \n",
      " 41  TRSN_CITY_VEH      923 non-null    object \n",
      " 42  EMERG_VEH          19 non-null     object \n",
      " 43  PASSENGER          5633 non-null   object \n",
      " 44  SPEEDING           1998 non-null   object \n",
      " 45  AG_DRIV            7696 non-null   object \n",
      " 46  REDLIGHT           1275 non-null   object \n",
      " 47  ALCOHOL            672 non-null    object \n",
      " 48  DISABILITY         420 non-null    object \n",
      " 49  HOOD_158           15000 non-null  object \n",
      " 50  NEIGHBOURHOOD_158  15000 non-null  object \n",
      " 51  HOOD_140           15000 non-null  object \n",
      " 52  NEIGHBOURHOOD_140  15000 non-null  object \n",
      " 53  DIVISION           15000 non-null  object \n",
      "dtypes: float64(6), int64(3), object(45)\n",
      "memory usage: 6.2+ MB\n"
     ]
    }
   ],
   "source": [
    "# information of dataset such as how many non-null values , datatypes of columns, number of rows and columns\n",
    "train_df.info()"
   ]
  },
  {
   "cell_type": "markdown",
   "id": "66a222bc",
   "metadata": {},
   "source": [
    "### Unique values"
   ]
  },
  {
   "cell_type": "markdown",
   "id": "ac0d0d6c",
   "metadata": {},
   "source": [
    "In this we are making a function that will tell us about all the unique values in our datset and printing it "
   ]
  },
  {
   "cell_type": "code",
   "execution_count": 308,
   "id": "1c61b6f2-decb-4fd3-b2dc-5df455f2384e",
   "metadata": {},
   "outputs": [],
   "source": [
    "#created function for printing unique value from all column\n",
    "def count_func():\n",
    "    count= 0\n",
    "    for column in train_df.columns:# loop which call each column one by one\n",
    "        unique_value= train_df[column].unique() # getting unique value in each column\n",
    "        unique_number= train_df[column].nunique() # getting number of unique value in each column\n",
    "        count+=1\n",
    "        print(f\"{count}. unique value number in {column} : {unique_number} \\n\") # print the number of unique values\n",
    "        print(f\"{count}. unique value in {column}: {unique_value} \\n\")  # print the unique value\n",
    "        print(\"-------\" * 10)"
   ]
  },
  {
   "cell_type": "code",
   "execution_count": 309,
   "id": "c6e876e4-299a-4517-9aa6-8b13ece8ec5f",
   "metadata": {},
   "outputs": [
    {
     "name": "stdout",
     "output_type": "stream",
     "text": [
      "1. unique value number in X : 4695 \n",
      "\n",
      "1. unique value in X: [635468.3685 635711.8004 628520.911  ... 641202.6999 627158.8849\n",
      " 638360.8419] \n",
      "\n",
      "----------------------------------------------------------------------\n",
      "2. unique value number in Y : 4695 \n",
      "\n",
      "2. unique value in Y: [4839880.764 4838250.056 4834554.582 ... 4842218.457 4836916.84\n",
      " 4852316.818] \n",
      "\n",
      "----------------------------------------------------------------------\n",
      "3. unique value number in OBJECTID : 15000 \n",
      "\n",
      "3. unique value in OBJECTID: [    1     2     3 ... 14998 14999 15000] \n",
      "\n",
      "----------------------------------------------------------------------\n",
      "4. unique value number in INDEX_ : 15000 \n",
      "\n",
      "4. unique value in INDEX_: [ 3389067  3389068  3389069 ... 80972829 80972190 80972191] \n",
      "\n",
      "----------------------------------------------------------------------\n",
      "5. unique value number in ACCNUM : 3822 \n",
      "\n",
      "5. unique value in ACCNUM: [8.93184000e+05 9.09646000e+05 8.84090000e+05 ... 4.00356472e+09\n",
      " 1.78057130e+08 1.88016123e+08] \n",
      "\n",
      "----------------------------------------------------------------------\n",
      "6. unique value number in DATE : 3082 \n",
      "\n",
      "6. unique value in DATE: ['2006/01/01 10:00:00+00' '2006/01/02 10:00:00+00'\n",
      " '2006/01/04 10:00:00+00' ... '2018/09/23 08:00:00+00'\n",
      " '2018/09/24 08:00:00+00' '2018/09/26 08:00:00+00'] \n",
      "\n",
      "----------------------------------------------------------------------\n",
      "7. unique value number in TIME : 1276 \n",
      "\n",
      "7. unique value in TIME: [ 236  315  705 ... 1712  729  408] \n",
      "\n",
      "----------------------------------------------------------------------\n",
      "8. unique value number in STREET1 : 1547 \n",
      "\n",
      "8. unique value in STREET1: ['WOODBINE AVE' 'DANFORTH AVE' 'BATHURST ST' ... '2265 MIDLAND AVE'\n",
      " 'DEWHURST BLVD' 'MELITA AVE'] \n",
      "\n",
      "----------------------------------------------------------------------\n",
      "9. unique value number in STREET2 : 2344 \n",
      "\n",
      "9. unique value in STREET2: ['O CONNOR DR' 'WEST LYNN AVE' 'DUNDAS ST W' ... 'DOCTOR O LANE'\n",
      " 'CHESTNUT ST' 'BRIMWOOD BLVD'] \n",
      "\n",
      "----------------------------------------------------------------------\n",
      "10. unique value number in OFFSET : 335 \n",
      "\n",
      "10. unique value in OFFSET: [nan '60 NORTH OF' '1 m West of' '234 m South ' '450 m West o'\n",
      " '7 m West of' '314 m  of' '192 m East o' '2 m North of' '100 m East o'\n",
      " '51 m South o' '43 m West of' '5 m North of' '8 m North of' '6 m West of'\n",
      " '30 m North o' '25 m East of' '60 m East of' '44 m North o'\n",
      " '132 m West o' '48 m East of' '30 m South o' '500 m East o'\n",
      " '1 m North of' '58 m North o' '500 m North ' '12 m West of'\n",
      " '80 m West of' '97 m South o' '100 m South ' '17 m West of'\n",
      " '280 m East o' '4 m North of' '10 m East of' '25 m West of'\n",
      " '18 m East of' '41 m South o' '50 m East of' '39 m East of'\n",
      " '10 m South o' '76 m West of' '50 m West of' '15 m East of'\n",
      " '220 m South ' '10 m North o' '4 m South of' '100 m North '\n",
      " '55 m North o' '25 m South o' '14 m West of' '200 m North '\n",
      " '65 m East of' '27 m East of' '64 m North o' '28 m East of'\n",
      " '85 m West of' '55 m West of' '200 m South ' '40 m West of'\n",
      " '58 m West of' '46 m North o' '4 m West of' '70 m West of' '15 m South o'\n",
      " '246 m North ' '49 m East of' '37 m West of' '23 m East of'\n",
      " '60 m North o' '6 m North of' '3 m  of' '2 m West of' '20 m North o'\n",
      " '120 m West o' '50 m South o' '545 m North ' '5 m East of' '185 m South '\n",
      " '98 m West of' '3 m West of' '6 m South of' '12 m South o' '31 m North o'\n",
      " '20 m East of' '24 m South o' '125 m East o' '9 m West of' '20 m South o'\n",
      " '4 m East of' '35 m North o' '17 m North o' '33 m West of' '374 m West o'\n",
      " '80 m East of' '300 m East o' '38 m North o' '1 m East of' '5 m West of'\n",
      " '11 m South o' '5 m South of' '100 m West o' '40 m East of'\n",
      " '22 m East of' '10 m West of' '26 m South o' '73 m West of'\n",
      " '167 m East o' '12 m East of' '15 m West of' '18 m South o'\n",
      " '40 m North o' '9 m East of' '18 m North o' '30 m East of' '20 m West of'\n",
      " '40 m South o' '53 m South o' '24 m West of' '165 m South ' '24 m  of'\n",
      " '57 m East of' '3 m East of' '9 m South of' '3 m South of' '42 m South o'\n",
      " '33 m East of' '358 m North ' '64 m West of' '64 m East of'\n",
      " '16 m West of' '3 m North of' '35 m East of' '51 m East of'\n",
      " '60 m West of' '14 m East of' '120 m North ' '14 m North o'\n",
      " '19 m South o' '90 m North o' '94 m North o' '19 m East of'\n",
      " '134 m West o' '7 m East of' '119 m West o' '7 m North of' '1 m South of'\n",
      " '16 m East of' '196 m North ' '265 m East o' '13 m West of'\n",
      " '130 m South ' '70 m East of' '57 m North o' '90 m West of'\n",
      " '85 m South o' '245 m East o' '172 m East o' '16 m North o'\n",
      " '39 m South o' '13 m North o' '450 m East o' '81 m West of'\n",
      " '11 m West of' '67 m South o' '99 m South o' '18 m West of'\n",
      " '110 m South ' '2 m South of' '150 m East o' '420 m West o'\n",
      " '324 m East o' '63 m West of' '80 m South o' '51 m West of' '2 m East of'\n",
      " '400 m North ' '90 m South o' '30 m West of' '37 m South o'\n",
      " '120 m South ' '58 m South o' '45 m West of' '11 m North o'\n",
      " '143 m West o' '92.1 m south' '32 m East of' '65 m South o'\n",
      " '200 m West o' '75 m East of' '65.6 M E of' '105 m North ' '15 m North o'\n",
      " '8 m South of' '27 m West of' '137 m South ' '12.5 M S of' '130 m East o'\n",
      " '121 m North ' '282 m South ' '40 m East' '219 m North ' '139 m South '\n",
      " '66 m North o' '68 m North o' '368 m East o' '25M' '37 m East of'\n",
      " '50 m North o' '72 m North o' '55 m East of' '160 m West o'\n",
      " '23 m West of' '458 m West o' '500 m West o' '131 m South '\n",
      " '51 m North o' '76 m South o' '34 m East of' '8 m West of' '63 m North o'\n",
      " '300 m South ' '69 m West of' '84 m South o' '900 m West o'\n",
      " '252 m South ' '113 m North ' '20 m North' '350 m West' '350 m North '\n",
      " '250 m West o' '42 m East of' '177 m West o' '112 m North' '150 m North '\n",
      " '8 m East of' '7 m South of' '6.5 m West o' '8.6 m East o' '386 m South '\n",
      " '17 m East of' '176 m South ' '6 m East of' '34 m South o' '10 m west'\n",
      " '150 m East' '50 m North' '47 m East of' '47 m West of' '29 m East of'\n",
      " '700 m East o' 'north of' '80 m North o' '21 m East of' '26 m West of'\n",
      " '12 m North o' '69 m North o' '35 m South o' '233 m East o'\n",
      " '9 m North of' '101 m South ' '65 m West of' '29 m West of'\n",
      " '98 m South o' '240 m North ' '107 m East o' '150 m West o' '20 m  of'\n",
      " '95 m South o' '30  m East o' '38 m East of' '120 m East o'\n",
      " '213 m West o' '71 m West of' '84 m West of' '297 m East o'\n",
      " '45 m South o' '88 m North o' '200 m East o' '21 m North o'\n",
      " '99 m East of' '84 m North o' '153 m North ' '22 m West of'\n",
      " '378 m South ' '60 m South o' '147 M North' '75 m East' '31 m East of'\n",
      " '92 m East of' '41 m West of' '140 m East o' '403 m N of' '408 m East o'\n",
      " 'E of' 'W of' '195 m South' '74 m South o' '16 m South o' '99 m West of'\n",
      " '11 m East of' '52 m East of' '28 m North o' '45 m  of' '192 m West o'\n",
      " '185 m East o' '107 m North ' '45 m North o' '70 m South o'\n",
      " '400 m East o' '180 m East o' '77 m South o' '75 m North o'\n",
      " '23 m North o' '297 m South ' '73 m North o' '49 m West of'\n",
      " '44 m West of' '33 m North o' '87 m East of' '158 m South '\n",
      " '620 HURON ST' '31.8 m East ' '42 m South' '260 m West o' '600 m East'\n",
      " '365 m East o' '13 m East of' '31 m West of' '81 m North o'\n",
      " '37 m North o' '59 m North o' '17 meters so' '34 meters so'\n",
      " '52 m West of' '338 m West o' '150 m South '] \n",
      "\n",
      "----------------------------------------------------------------------\n",
      "11. unique value number in ROAD_CLASS : 9 \n",
      "\n",
      "11. unique value in ROAD_CLASS: ['Major Arterial' 'Minor Arterial' 'Collector' 'Local' nan 'Other'\n",
      " 'Pending' 'Laneway' 'Expressway' 'Expressway Ramp'] \n",
      "\n",
      "----------------------------------------------------------------------\n",
      "12. unique value number in DISTRICT : 4 \n",
      "\n",
      "12. unique value in DISTRICT: ['Toronto and East York' 'North York' 'Scarborough' 'Etobicoke York' nan] \n",
      "\n",
      "----------------------------------------------------------------------\n",
      "13. unique value number in LATITUDE : 3475 \n",
      "\n",
      "13. unique value in LATITUDE: [43.699595 43.684874 43.652892 ... 43.719565 43.674388 43.810984] \n",
      "\n",
      "----------------------------------------------------------------------\n",
      "14. unique value number in LONGITUDE : 3901 \n",
      "\n",
      "14. unique value in LONGITUDE: [-79.318797 -79.316188 -79.406253 ... -79.247051 -79.42258  -79.279712] \n",
      "\n",
      "----------------------------------------------------------------------\n",
      "15. unique value number in ACCLOC : 9 \n",
      "\n",
      "15. unique value in ACCLOC: ['Intersection Related' nan 'At Intersection' 'Non Intersection'\n",
      " 'Private Driveway' 'At/Near Private Drive' 'Underpass or Tunnel'\n",
      " 'Overpass or Bridge' 'Trail' 'Laneway'] \n",
      "\n",
      "----------------------------------------------------------------------\n",
      "16. unique value number in TRAFFCTL : 10 \n",
      "\n",
      "16. unique value in TRAFFCTL: ['No Control' 'Traffic Signal' 'Pedestrian Crossover' 'Stop Sign' nan\n",
      " 'Yield Sign' 'Traffic Controller' 'School Guard' 'Police Control'\n",
      " 'Traffic Gate' 'Streetcar (Stop for)'] \n",
      "\n",
      "----------------------------------------------------------------------\n",
      "17. unique value number in VISIBILITY : 8 \n",
      "\n",
      "17. unique value in VISIBILITY: ['Clear' 'Snow' 'Other' 'Rain' 'Strong wind' 'Fog, Mist, Smoke, Dust'\n",
      " 'Drifting Snow' 'Freezing Rain' nan] \n",
      "\n",
      "----------------------------------------------------------------------\n",
      "18. unique value number in LIGHT : 9 \n",
      "\n",
      "18. unique value in LIGHT: ['Dark' 'Dark, artificial' 'Daylight' 'Dusk' 'Dawn' 'Dusk, artificial'\n",
      " 'Dawn, artificial' 'Daylight, artificial' 'Other'] \n",
      "\n",
      "----------------------------------------------------------------------\n",
      "19. unique value number in RDSFCOND : 9 \n",
      "\n",
      "19. unique value in RDSFCOND: ['Wet' 'Slush' 'Dry' 'Ice' 'Loose Snow' 'Other' 'Packed Snow'\n",
      " 'Spilled liquid' 'Loose Sand or Gravel' nan] \n",
      "\n",
      "----------------------------------------------------------------------\n",
      "20. unique value number in ACCLASS : 2 \n",
      "\n",
      "20. unique value in ACCLASS: ['Non-Fatal Injury' 'Fatal'] \n",
      "\n",
      "----------------------------------------------------------------------\n",
      "21. unique value number in IMPACTYPE : 10 \n",
      "\n",
      "21. unique value in IMPACTYPE: ['Approaching' 'SMV Other' 'Pedestrian Collisions' 'Angle'\n",
      " 'Turning Movement' 'Cyclist Collisions' 'Rear End' 'Sideswipe'\n",
      " 'SMV Unattended Vehicle' 'Other'] \n",
      "\n",
      "----------------------------------------------------------------------\n",
      "22. unique value number in INVTYPE : 18 \n",
      "\n",
      "22. unique value in INVTYPE: ['Passenger' 'Driver' 'Vehicle Owner' 'Other Property Owner' 'Pedestrian'\n",
      " 'Cyclist' 'Other' 'Motorcycle Driver' 'Truck Driver' 'In-Line Skater'\n",
      " 'Driver - Not Hit' 'Motorcycle Passenger' nan 'Moped Driver' 'Wheelchair'\n",
      " 'Pedestrian - Not Hit' 'Trailer Owner' 'Witness' 'Cyclist Passenger'] \n",
      "\n",
      "----------------------------------------------------------------------\n",
      "23. unique value number in INVAGE : 21 \n",
      "\n",
      "23. unique value in INVAGE: ['50 to 54' '15 to 19' '55 to 59' '20 to 24' 'unknown' '25 to 29'\n",
      " '10 to 14' '30 to 34' '45 to 49' '75 to 79' '35 to 39' '40 to 44'\n",
      " '80 to 84' '60 to 64' '85 to 89' '65 to 69' '70 to 74' '5 to 9' '0 to 4'\n",
      " '90 to 94' 'Over 95'] \n",
      "\n",
      "----------------------------------------------------------------------\n",
      "24. unique value number in INJURY : 4 \n",
      "\n",
      "24. unique value in INJURY: ['Major' 'Minor' nan 'Fatal' 'Minimal'] \n",
      "\n",
      "----------------------------------------------------------------------\n",
      "25. unique value number in FATAL_NO : 78 \n",
      "\n",
      "25. unique value in FATAL_NO: [nan  1.  2.  3.  4.  5.  6.  7.  8. 12. 10.  9. 11. 13. 14. 15. 16. 17.\n",
      " 18. 19. 20. 21. 22. 26. 23. 24. 25. 27. 28. 29. 30. 31. 32. 33. 34. 35.\n",
      " 36. 37. 38. 39. 40. 41. 42. 43. 44. 46. 45. 47. 48. 49. 50. 51. 52. 53.\n",
      " 54. 55. 57. 56. 58. 59. 60. 61. 62. 63. 65. 64. 78. 66. 67. 68. 69. 70.\n",
      " 71. 72. 73. 74. 75. 76. 77.] \n",
      "\n",
      "----------------------------------------------------------------------\n",
      "26. unique value number in INITDIR : 5 \n",
      "\n",
      "26. unique value in INITDIR: [nan 'North' 'South' 'East' 'West' 'Unknown'] \n",
      "\n",
      "----------------------------------------------------------------------\n",
      "27. unique value number in VEHTYPE : 27 \n",
      "\n",
      "27. unique value in VEHTYPE: [nan 'Automobile, Station Wagon' 'Other' 'Passenger Van'\n",
      " 'Municipal Transit Bus (TTC)' 'Taxi' 'Bicycle' 'Delivery Van'\n",
      " 'Motorcycle' 'Truck - Open' 'Moped' 'Pick Up Truck' 'Tow Truck'\n",
      " 'Police Vehicle' 'Truck-Tractor' 'Street Car'\n",
      " 'Truck - Closed (Blazer, etc)' 'Truck - Dump'\n",
      " 'Bus (Other) (Go Bus, Gray Coa' 'Construction Equipment' 'Intercity Bus'\n",
      " 'Truck (other)' 'Fire Vehicle' 'School Bus' 'Other Emergency Vehicle'\n",
      " 'Off Road - 2 Wheels' 'Truck - Tank' 'Truck - Car Carrier'] \n",
      "\n",
      "----------------------------------------------------------------------\n",
      "28. unique value number in MANOEUVER : 16 \n",
      "\n",
      "28. unique value in MANOEUVER: [nan 'Going Ahead' 'Changing Lanes' 'Turning Right' 'Slowing or Stopping'\n",
      " 'Turning Left' 'Other' 'Stopped' 'Unknown' 'Parked' 'Overtaking'\n",
      " 'Making U Turn' 'Reversing' 'Pulling Away from Shoulder or Curb'\n",
      " 'Pulling Onto Shoulder or towardCurb' 'Merging' 'Disabled'] \n",
      "\n",
      "----------------------------------------------------------------------\n",
      "29. unique value number in DRIVACT : 13 \n",
      "\n",
      "29. unique value in DRIVACT: [nan 'Driving Properly' 'Lost control' 'Improper Lane Change'\n",
      " 'Disobeyed Traffic Control' 'Failed to Yield Right of Way' 'Other'\n",
      " 'Speed too Fast For Condition' 'Exceeding Speed Limit' 'Improper Turn'\n",
      " 'Following too Close' 'Improper Passing' 'Wrong Way on One Way Road'\n",
      " 'Speed too Slow'] \n",
      "\n",
      "----------------------------------------------------------------------\n",
      "30. unique value number in DRIVCOND : 10 \n",
      "\n",
      "30. unique value in DRIVCOND: [nan 'Normal' 'Ability Impaired, Alcohol Over .08' 'Inattentive' 'Unknown'\n",
      " 'Medical or Physical Disability' 'Had Been Drinking' 'Fatigue' 'Other'\n",
      " 'Ability Impaired, Alcohol' 'Ability Impaired, Drugs'] \n",
      "\n",
      "----------------------------------------------------------------------\n",
      "31. unique value number in PEDTYPE : 16 \n",
      "\n",
      "31. unique value in PEDTYPE: [nan 'Pedestrian hit at mid-block'\n",
      " 'Vehicle is going straight thru inter.while ped cross without ROW'\n",
      " 'Vehicle is going straight thru inter.while ped cross with ROW'\n",
      " 'Pedestrian hit a PXO/ped. Mid-block signal'\n",
      " 'Pedestrian involved in a collision with transit vehicle anywhere along roadway'\n",
      " 'Vehicle turns left while ped crosses with ROW at inter.'\n",
      " 'Other / Undefined'\n",
      " 'Vehicle turns left while ped crosses without ROW at inter.'\n",
      " 'Vehicle turns right while ped crosses with ROW at inter.'\n",
      " 'Vehicle hits the pedestrian walking or running out from between parked vehicles at mid-block'\n",
      " 'Unknown' 'Vehicle turns right while ped crosses without ROW at inter.'\n",
      " 'Pedestrian hit on sidewalk or shoulder'\n",
      " 'Vehicle is reversing and hits pedestrian'\n",
      " 'Pedestrian hit at private driveway' 'Pedestrian hit at parking lot'] \n",
      "\n",
      "----------------------------------------------------------------------\n",
      "32. unique value number in PEDACT : 15 \n",
      "\n",
      "32. unique value in PEDACT: [nan 'Crossing without right of way' 'Crossing with right of way'\n",
      " 'Crossing, Pedestrian Crossover' 'Crossing, no Traffic Control' 'Other'\n",
      " 'Running onto Roadway' 'Coming From Behind Parked Vehicle'\n",
      " 'Pushing/Working on Vehicle' 'On Sidewalk or Shoulder'\n",
      " 'Walking on Roadway Against Traffic' 'Playing or Working on Highway'\n",
      " 'Person Getting on/off Vehicle' 'Walking on Roadway with Traffic'\n",
      " 'Crossing marked crosswalk without ROW'\n",
      " 'Person Getting on/off School Bus'] \n",
      "\n",
      "----------------------------------------------------------------------\n",
      "33. unique value number in PEDCOND : 10 \n",
      "\n",
      "33. unique value in PEDCOND: [nan 'Inattentive' 'Normal' 'Unknown' 'Medical or Physical Disability'\n",
      " 'Had Been Drinking' 'Ability Impaired, Alcohol' 'Other'\n",
      " 'Ability Impaired, Alcohol Over .80' 'Ability Impaired, Drugs' 'Fatigue'] \n",
      "\n",
      "----------------------------------------------------------------------\n",
      "34. unique value number in CYCLISTYPE : 22 \n",
      "\n",
      "34. unique value in CYCLISTYPE: [nan 'Motorist turned left across cyclists path.'\n",
      " 'Motorist turning right on green or amber at signalized intersection strikes cyclist.'\n",
      " 'Cyclist struck opened vehicle door'\n",
      " 'Cyclist and Driver travelling in same direction. One vehicle rear-ended the other.'\n",
      " 'Motorist turns right at non-signal Inter.(stop, yield, no cont.,and dwy) and strikes cyclist.'\n",
      " 'Cyclist makes u-turn in-front of driver.'\n",
      " 'Cyclist and Driver travelling in same direction. One vehicle sideswipes the other.'\n",
      " 'Cyclist strikes pedestrian.'\n",
      " 'Cyclist loses control and strikes object (pole, ttc track)'\n",
      " 'Cyclist without ROW rides into path of motorist at inter, lnwy, dwy-Cyclist not turn.'\n",
      " 'Cyclist turns right across motorists path'\n",
      " 'Motorist turning right on red at signalized intersection strikes cyclist.'\n",
      " 'Cyclist turned left across motorists path.'\n",
      " 'Motorist without ROW drives into path of cyclist at inter, lnwy, dwy-Driver not turn.'\n",
      " 'Cyclist rode off sidewalk into road at midblock.'\n",
      " 'Insufficient information (to determine cyclist crash type).'\n",
      " 'Cyclist struck at PXO(cyclist either travel in same dir. as veh. or ride across xwalk)'\n",
      " 'Motorist reversing struck cyclist.'\n",
      " 'Motorist loses control and strikes cyclist.'\n",
      " 'Cyclist strikes a parked vehicle.'\n",
      " 'Motorist makes u-turn in-front of cyclist.'\n",
      " 'Cyclist falls off bike - no contact with motorist.'] \n",
      "\n",
      "----------------------------------------------------------------------\n",
      "35. unique value number in CYCACT : 11 \n",
      "\n",
      "35. unique value in CYCACT: [nan 'Driving Properly' 'Other' 'Improper Turn' 'Improper Passing'\n",
      " 'Disobeyed Traffic Control' 'Lost control' 'Failed to Yield Right of Way'\n",
      " 'Improper Lane Change' 'Following too Close'\n",
      " 'Speed too Fast For Condition' 'Wrong Way on One Way Road'] \n",
      "\n",
      "----------------------------------------------------------------------\n",
      "36. unique value number in CYCCOND : 10 \n",
      "\n",
      "36. unique value in CYCCOND: [nan 'Normal' 'Inattentive' 'Had Been Drinking' 'Unknown'\n",
      " 'Ability Impaired, Drugs' 'Ability Impaired, Alcohol Over .80'\n",
      " 'Medical or Physical Disability' 'Ability Impaired, Alcohol' 'Other'\n",
      " 'Fatigue'] \n",
      "\n",
      "----------------------------------------------------------------------\n",
      "37. unique value number in PEDESTRIAN : 1 \n",
      "\n",
      "37. unique value in PEDESTRIAN: [nan 'Yes'] \n",
      "\n",
      "----------------------------------------------------------------------\n",
      "38. unique value number in CYCLIST : 1 \n",
      "\n",
      "38. unique value in CYCLIST: [nan 'Yes'] \n",
      "\n",
      "----------------------------------------------------------------------\n",
      "39. unique value number in AUTOMOBILE : 1 \n",
      "\n",
      "39. unique value in AUTOMOBILE: ['Yes' nan] \n",
      "\n",
      "----------------------------------------------------------------------\n",
      "40. unique value number in MOTORCYCLE : 1 \n",
      "\n",
      "40. unique value in MOTORCYCLE: [nan 'Yes'] \n",
      "\n",
      "----------------------------------------------------------------------\n",
      "41. unique value number in TRUCK : 1 \n",
      "\n",
      "41. unique value in TRUCK: [nan 'Yes'] \n",
      "\n",
      "----------------------------------------------------------------------\n",
      "42. unique value number in TRSN_CITY_VEH : 1 \n",
      "\n",
      "42. unique value in TRSN_CITY_VEH: [nan 'Yes'] \n",
      "\n",
      "----------------------------------------------------------------------\n",
      "43. unique value number in EMERG_VEH : 1 \n",
      "\n",
      "43. unique value in EMERG_VEH: [nan 'Yes'] \n",
      "\n",
      "----------------------------------------------------------------------\n",
      "44. unique value number in PASSENGER : 1 \n",
      "\n",
      "44. unique value in PASSENGER: ['Yes' nan] \n",
      "\n",
      "----------------------------------------------------------------------\n",
      "45. unique value number in SPEEDING : 1 \n",
      "\n",
      "45. unique value in SPEEDING: ['Yes' nan] \n",
      "\n",
      "----------------------------------------------------------------------\n",
      "46. unique value number in AG_DRIV : 1 \n",
      "\n",
      "46. unique value in AG_DRIV: ['Yes' nan] \n",
      "\n",
      "----------------------------------------------------------------------\n",
      "47. unique value number in REDLIGHT : 1 \n",
      "\n",
      "47. unique value in REDLIGHT: [nan 'Yes'] \n",
      "\n",
      "----------------------------------------------------------------------\n",
      "48. unique value number in ALCOHOL : 1 \n",
      "\n",
      "48. unique value in ALCOHOL: ['Yes' nan] \n",
      "\n",
      "----------------------------------------------------------------------\n",
      "49. unique value number in DISABILITY : 1 \n",
      "\n",
      "49. unique value in DISABILITY: [nan 'Yes'] \n",
      "\n",
      "----------------------------------------------------------------------\n",
      "50. unique value number in HOOD_158 : 159 \n",
      "\n",
      "50. unique value in HOOD_158: ['60' '64' '78' '83' '47' '144' '166' '5' '126' '129' '157' '43' '22'\n",
      " '100' '89' '38' '136' '128' '95' '119' '143' '98' '80' '160' '96' '148'\n",
      " '88' '1' '149' '125' '66' '54' '110' '59' '4' '172' '56' '85' '145' '159'\n",
      " '101' '11' '73' '70' '138' '57' '87' '161' '146' '124' '81' '6' '116'\n",
      " '171' '152' '27' '91' 'NSA' '142' '30' '29' '111' '92' '115' '165' '44'\n",
      " '42' '170' '32' '139' '169' '25' '120' '103' '39' '122' '102' '21' '112'\n",
      " '37' '65' '40' '9' '99' '16' '97' '106' '154' '35' '53' '168' '24' '8'\n",
      " '71' '63' '94' '135' '174' '162' '151' '18' '33' '10' '150' '107' '156'\n",
      " '164' '84' '114' '58' '48' '153' '20' '61' '50' '123' '109' '167' '130'\n",
      " '34' '108' '163' '52' '23' '55' '13' '113' '7' '31' '68' '86' '2' '118'\n",
      " '3' '147' '72' '155' '41' '140' '158' '105' '28' '46' '141' '62' '90'\n",
      " '79' '36' '134' '133' '69' '121' '49' '19' '15' '12' '67' '74' '173'] \n",
      "\n",
      "----------------------------------------------------------------------\n",
      "51. unique value number in NEIGHBOURHOOD_158 : 159 \n",
      "\n",
      "51. unique value in NEIGHBOURHOOD_158: ['Woodbine-Lumsden' 'Woodbine Corridor' 'Kensington-Chinatown'\n",
      " 'Dufferin Grove' 'Don Valley Village' 'Morningside Heights'\n",
      " 'St Lawrence-East Bayfront-The Islands' 'Elms-Old Rexdale' 'Dorset Park'\n",
      " 'Agincourt North' 'Bendale South' 'Victoria Village' 'Humbermede'\n",
      " 'Yonge-Eglinton' 'Runnymede-Bloor West Village' 'Lansing-Westgate'\n",
      " 'West Hill' 'Agincourt South-Malvern West' 'Annex' 'Wexford/Maryvale'\n",
      " 'West Rouge' 'Rosedale-Moore Park' 'Palmerston-Little Italy'\n",
      " 'Mimico-Queensway' 'Casa Loma' \"East L'Amoreaux\" 'High Park North'\n",
      " 'West Humber-Clairville' \"Parkwoods-O'Connor Hills\" 'Ionview' 'Danforth'\n",
      " \"O'Connor-Parkview\" 'Keelesdale-Eglinton West' 'Danforth East York'\n",
      " 'Rexdale-Kipling' 'Dovercourt Village' 'Leaside-Bennington'\n",
      " 'South Parkdale' 'Malvern West' 'Etobicoke City Centre'\n",
      " 'Forest Hill South' 'Eringate-Centennial-West Deane' 'Moss Park'\n",
      " 'South Riverdale' 'Eglinton East' 'Broadview North' 'High Park-Swansea'\n",
      " 'Humber Bay Shores' 'Malvern East' 'Kennedy Park' 'Trinity-Bellwoods'\n",
      " 'Kingsview Village-The Westway' 'Steeles' 'Junction-Wallace Emerson'\n",
      " 'East Willowdale' 'York University Heights' 'Weston-Pelham Park' 'NSA'\n",
      " 'Woburn North' 'Brookhaven-Amesbury' 'Maple Leaf' 'Rockcliffe-Smythe'\n",
      " 'Corso Italia-Davenport' 'Mount Dennis' 'Harbourfront-CityPlace'\n",
      " 'Flemingdon Park' 'Banbury-Don Mills' 'Yonge-Bay Corridor'\n",
      " 'Englemount-Lawrence' 'Scarborough Village' 'Bay-Cloverhill'\n",
      " 'Glenfield-Jane Heights' 'Clairlea-Birchmount' 'Lawrence Park South'\n",
      " 'Bedford Park-Nortown' 'Birchcliffe-Cliffside' 'Forest Hill North'\n",
      " 'Humber Summit' 'Beechborough-Greenbrook' 'Willowdale West'\n",
      " 'Greenwood-Coxwell' 'St.Andrew-Windfields' 'Edenbridge-Humber Valley'\n",
      " 'Mount Pleasant East' 'Stonegate-Queensway' 'Yonge-St.Clair'\n",
      " 'Humewood-Cedarvale' 'Oakdale-Beverley Heights' 'Westminster-Branson'\n",
      " 'Henry Farm' 'Downtown Yonge East' 'Black Creek'\n",
      " 'Humber Heights-Westmount' 'Cabbagetown-South St.James Town'\n",
      " 'The Beaches' 'Wychwood' 'Morningside' 'South Eglinton-Davisville'\n",
      " 'West Queen West' 'Yonge-Doris' 'New Toronto' 'Clanton Park'\n",
      " 'Princess-Rosethorn' 'Fenside-Parkwoods' 'Oakwood Village'\n",
      " 'Bendale-Glen Andrew' 'Wellington Place' 'Little Portugal'\n",
      " 'Lambton Baby Point' 'Old East York' 'Hillcrest Village' 'Avondale'\n",
      " 'Alderwood' 'Taylor-Massey' 'Newtonbrook East' 'Cliffcrest'\n",
      " 'Caledonia-Fairbank' 'Church-Wellesley' 'Milliken' 'Bathurst Manor'\n",
      " 'Briar Hill-Belgravia' 'Fort York-Liberty Village' 'Bayview Village'\n",
      " 'Pelmo Park-Humberlea' 'Thorncliffe Park' 'Etobicoke West Mall' 'Weston'\n",
      " 'Willowridge-Martingrove-Richview' 'Yorkdale-Glen Park' 'North Riverdale'\n",
      " 'Roncesvalles' 'Mount Olive-Silverstone-Jamestown'\n",
      " \"Tam O'Shanter-Sullivan\" 'Thistletown-Beaumond Heights' \"L'Amoreaux West\"\n",
      " 'Regent Park' 'Downsview' 'Bridle Path-Sunnybrook-York Mills' 'Guildwood'\n",
      " 'Islington' 'Lawrence Park North' 'Rustic' 'Pleasant View'\n",
      " 'Golfdale-Cedarbrae-Woburn' 'East End-Danforth' 'Junction Area'\n",
      " 'University' 'Newtonbrook West' 'Highland Creek' 'Centennial Scarborough'\n",
      " 'Blake-Jones' 'Oakridge' 'Bayview Woods-Steeles' 'Long Branch'\n",
      " 'Kingsway South' 'Markland Wood' 'Playter Estates-Danforth'\n",
      " 'North St.James Town' 'North Toronto'] \n",
      "\n",
      "----------------------------------------------------------------------\n",
      "52. unique value number in HOOD_140 : 141 \n",
      "\n",
      "52. unique value in HOOD_140: ['60' '64' '78' '83' '47' '131' '77' '5' '126' '129' '127' '43' '22' '100'\n",
      " '89' '38' '136' '128' '95' '119' '98' '80' '17' '96' '117' '88' '1' '45'\n",
      " '125' '66' '54' '110' '59' '4' '93' '56' '85' '132' '12' '101' '11' '73'\n",
      " '70' '138' '57' '87' '81' '6' '116' '51' '27' '91' 'NSA' '137' '28' '29'\n",
      " '111' '92' '115' '44' '42' '76' '32' '139' '75' '25' '120' '103' '39'\n",
      " '122' '14' '102' '21' '112' '37' '65' '40' '9' '99' '16' '97' '106' '26'\n",
      " '35' '53' '24' '8' '71' '63' '94' '135' '30' '104' '82' '18' '33' '86'\n",
      " '10' '107' '84' '114' '58' '48' '20' '61' '50' '123' '109' '130' '34'\n",
      " '108' '52' '23' '55' '13' '113' '7' '31' '68' '2' '118' '3' '72' '41'\n",
      " '124' '140' '105' '46' '62' '90' '79' '36' '134' '133' '69' '121' '49'\n",
      " '19' '15' '67' '74'] \n",
      "\n",
      "----------------------------------------------------------------------\n",
      "53. unique value number in NEIGHBOURHOOD_140 : 141 \n",
      "\n",
      "53. unique value in NEIGHBOURHOOD_140: ['Woodbine-Lumsden (60)' 'Woodbine Corridor (64)'\n",
      " 'Kensington-Chinatown (78)' 'Dufferin Grove (83)'\n",
      " 'Don Valley Village (47)' 'Rouge (131)'\n",
      " 'Waterfront Communities-The Island (77)' 'Elms-Old Rexdale (5)'\n",
      " 'Dorset Park (126)' 'Agincourt North (129)' 'Bendale (127)'\n",
      " 'Victoria Village (43)' 'Humbermede (22)' 'Yonge-Eglinton (100)'\n",
      " 'Runnymede-Bloor West Village (89)' 'Lansing-Westgate (38)'\n",
      " 'West Hill (136)' 'Agincourt South-Malvern West (128)' 'Annex (95)'\n",
      " 'Wexford/Maryvale (119)' 'Rosedale-Moore Park (98)'\n",
      " 'Palmerston-Little Italy (80)' 'Mimico (includes Humber Bay Shores) (17)'\n",
      " 'Casa Loma (96)' \"L'Amoreaux (117)\" 'High Park North (88)'\n",
      " 'West Humber-Clairville (1)' 'Parkwoods-Donalda (45)' 'Ionview (125)'\n",
      " 'Danforth (66)' \"O'Connor-Parkview (54)\" 'Keelesdale-Eglinton West (110)'\n",
      " 'Danforth East York (59)' 'Rexdale-Kipling (4)'\n",
      " 'Dovercourt-Wallace Emerson-Junction (93)' 'Leaside-Bennington (56)'\n",
      " 'South Parkdale (85)' 'Malvern (132)' 'Markland Wood (12)'\n",
      " 'Forest Hill South (101)' 'Eringate-Centennial-West Deane (11)'\n",
      " 'Moss Park (73)' 'South Riverdale (70)' 'Eglinton East (138)'\n",
      " 'Broadview North (57)' 'High Park-Swansea (87)' 'Trinity-Bellwoods (81)'\n",
      " 'Kingsview Village-The Westway (6)' 'Steeles (116)'\n",
      " 'Willowdale East (51)' 'York University Heights (27)'\n",
      " 'Weston-Pellam Park (91)' 'NSA' 'Woburn (137)' 'Rustic (28)'\n",
      " 'Maple Leaf (29)' 'Rockcliffe-Smythe (111)' 'Corso Italia-Davenport (92)'\n",
      " 'Mount Dennis (115)' 'Flemingdon Park (44)' 'Banbury-Don Mills (42)'\n",
      " 'Bay Street Corridor (76)' 'Englemount-Lawrence (32)'\n",
      " 'Scarborough Village (139)' 'Church-Yonge Corridor (75)'\n",
      " 'Glenfield-Jane Heights (25)' 'Clairlea-Birchmount (120)'\n",
      " 'Lawrence Park South (103)' 'Bedford Park-Nortown (39)'\n",
      " 'Birchcliffe-Cliffside (122)' 'Islington-City Centre West (14)'\n",
      " 'Forest Hill North (102)' 'Humber Summit (21)'\n",
      " 'Beechborough-Greenbrook (112)' 'Willowdale West (37)'\n",
      " 'Greenwood-Coxwell (65)' 'St.Andrew-Windfields (40)'\n",
      " 'Edenbridge-Humber Valley (9)' 'Mount Pleasant East (99)'\n",
      " 'Stonegate-Queensway (16)' 'Yonge-St.Clair (97)'\n",
      " 'Humewood-Cedarvale (106)' 'Downsview-Roding-CFB (26)'\n",
      " 'Westminster-Branson (35)' 'Henry Farm (53)' 'Black Creek (24)'\n",
      " 'Humber Heights-Westmount (8)' 'Cabbagetown-South St.James Town (71)'\n",
      " 'The Beaches (63)' 'Wychwood (94)' 'Morningside (135)'\n",
      " 'Brookhaven-Amesbury (30)' 'Mount Pleasant West (104)' 'Niagara (82)'\n",
      " 'New Toronto (18)' 'Clanton Park (33)' 'Roncesvalles (86)'\n",
      " 'Princess-Rosethorn (10)' 'Oakwood Village (107)' 'Little Portugal (84)'\n",
      " 'Lambton Baby Point (114)' 'Old East York (58)' 'Hillcrest Village (48)'\n",
      " 'Alderwood (20)' 'Taylor-Massey (61)' 'Newtonbrook East (50)'\n",
      " 'Cliffcrest (123)' 'Caledonia-Fairbank (109)' 'Milliken (130)'\n",
      " 'Bathurst Manor (34)' 'Briar Hill-Belgravia (108)' 'Bayview Village (52)'\n",
      " 'Pelmo Park-Humberlea (23)' 'Thorncliffe Park (55)'\n",
      " 'Etobicoke West Mall (13)' 'Weston (113)'\n",
      " 'Willowridge-Martingrove-Richview (7)' 'Yorkdale-Glen Park (31)'\n",
      " 'North Riverdale (68)' 'Mount Olive-Silverstone-Jamestown (2)'\n",
      " \"Tam O'Shanter-Sullivan (118)\" 'Thistletown-Beaumond Heights (3)'\n",
      " 'Regent Park (72)' 'Bridle Path-Sunnybrook-York Mills (41)'\n",
      " 'Kennedy Park (124)' 'Guildwood (140)' 'Lawrence Park North (105)'\n",
      " 'Pleasant View (46)' 'East End-Danforth (62)' 'Junction Area (90)'\n",
      " 'University (79)' 'Newtonbrook West (36)' 'Highland Creek (134)'\n",
      " 'Centennial Scarborough (133)' 'Blake-Jones (69)' 'Oakridge (121)'\n",
      " 'Bayview Woods-Steeles (49)' 'Long Branch (19)' 'Kingsway South (15)'\n",
      " 'Playter Estates-Danforth (67)' 'North St.James Town (74)'] \n",
      "\n",
      "----------------------------------------------------------------------\n",
      "54. unique value number in DIVISION : 17 \n",
      "\n",
      "54. unique value in DIVISION: ['D55' 'D14' 'D11' 'D33' 'D42' 'D51' 'D23' 'D41' 'D31' 'D53' 'D32' 'D43'\n",
      " 'D22' 'D13' 'D52' 'D12' 'NSA'] \n",
      "\n",
      "----------------------------------------------------------------------\n"
     ]
    }
   ],
   "source": [
    "count_func()"
   ]
  },
  {
   "cell_type": "markdown",
   "id": "6bcab2e5",
   "metadata": {},
   "source": [
    "From this information, we can drop some columns that are not relevant for the machine learning algorithm:\n",
    "* **X and Y features** will be dropped since we don't have information about the meaning of those two variables\n",
    "* **INDEX and ACCNUMBER** can be dropped as we already have another identifier for each sample (OBJECTID)\n",
    "* **STREET1, STREET2, OFFSET, HOOD_158, NEIGHBOURHOOD_158, HOOD_140, NEIGHBOURHOOD_140** have too many unique categorical values (more than 2000), so they won't be useful for the model\n",
    "* **PEDTYPE, PEDACT, CYCLISTYPE, DIVISION, 'INITDIR'** are not relevant\n",
    "* **'FATAL_NO'** Is not relevant as it is the result of a fatal accident, not the cause (number of disease)\n",
    "* **VEHTYPE, DRIVCOND, PEDCOND, CYCCOND** are already partially covered with other boolean variables that generalize the characteristics of those features to any type of person involved (REDLIGHT : Red Light Related Collision, ALCOHOL : Alcohol Related Collision, DISABILITY : Medical or Physical Disability Related Collision, etc.)\n",
    "\n",
    "Also we gain some valuables insights as:\n",
    "* We have a **DATE** column that is not in a datetime format so we can convert it and use it to generate new numerical features as **DAY, MONTH and YEAR**\n",
    "* The **TIME** feature is not in a time format and also is a number between 0000 to 2359 (), we can map it to make it a numerical feature but with a reduced range so it wont affect the performance of the model. This is particularly true for models that are sensitive to the scale of input features, such as linear regression, k-nearest neighbors, and neural networks, so it becomes necessary.\n",
    "\n",
    "* We can group similar road classes from the **ROAD_CLASS** together based on their characteristics. For instance:\n",
    "    1. Combine 'Expressway' and 'Expressway Ramp': These could be grouped as \"Expressway.\"\n",
    "    2. Combine 'Major Arterial' and 'Minor Arterial': These could be grouped as \"Arterial.\"\n",
    "    3. Combine 'Collector' and 'Local': These could be grouped as \"Local Roads.\"\n",
    "    4. Combine \"Laneway,\" \"Other,\" and \"Pending\" into \"Other\"\n",
    "\n",
    "* Similarly, we can do it for **ACCLOC**:\n",
    "\n",
    "    1. **Intersection-Related**: Combine Intersection Related, At Intersection, and At/Near Private Drive into one category since they all relate to intersections or nearby areas.\n",
    "    2. **Non-Intersection**: Combine Non Intersection, Private Driveway, and Laneway into another category as they are not related to intersections and represent different non-major road types.\n",
    "    3. **Structures**: Combine Underpass or Tunnel and Overpass or Bridge into a \"Structures\" category as they represent structural elements in the road network.\n",
    "    4. Keep **Trail** as a separate category \n",
    "\n",
    "And so on for the other similar features:\n",
    "* **TRAFFCTL (Traffic Control)**\n",
    "  1. No Control\n",
    "  2. Signals: Traffic Signal, Traffic Controller, Traffic Gate\n",
    "  3. Signs: Stop Sign, Yield Sign\n",
    "  4. Pedestrian Controls: Pedestrian Crossover, School Guard, Police Control, Streetcar (Stop for)\n",
    "\n",
    "* **VISIBILITY**\n",
    "  1. Clear Conditions: Clear\n",
    "  2. Precipitation: Rain, Snow, Freezing Rain, Drifting Snow\n",
    "  3. Obstructions: Fog, Mist, Smoke, Dust, Strong wind\n",
    "  4. Other: Other\n",
    "\n",
    "* **LIGHT**\n",
    "  1. Dark: Dark, Dark, artificial\n",
    "  2. Daylight: Daylight, Daylight, artificial\n",
    "  3. Twilight: Dusk, Dawn, Dusk, artificial, Dawn, artificial\n",
    "  4. Other: Other\n",
    "\n",
    "* **RDSFCOND (Road Surface Condition)**\n",
    "  1. Dry: Dry\n",
    "  2. Wet/Slippery: Wet, Slush, Ice, Spilled liquid\n",
    "  3. Snow: Loose Snow, Packed Snow, Loose Sand or Gravel\n",
    "  4. Other: Other\n",
    "\n",
    "* **IMPACTYPE (Impact Type)**\n",
    "  1. Vehicle-Vehicle: Approaching, Rear End, Sideswipe, Angle, Turning Movement\n",
    "  2. Vehicle-Person: Pedestrian Collisions, Cyclist Collisions\n",
    "  3. Single Vehicle Movement: SMV Other, SMV Unattended Vehicle\n",
    "  4. Other: Other\n",
    "\n",
    "* **INVTYPE (Involved Type)**\n",
    "  1. Occupants: Passenger, Driver, Vehicle Owner, Motorcycle Driver, Truck Driver, Motorcycle Passenger, Moped Driver\n",
    "  2. Non-Occupants: Pedestrian, Cyclist, In-Line Skater, Wheelchair, Pedestrian - Not Hit, Cyclist Passenger\n",
    "  3. Other: Other Property Owner, Other, Driver - Not Hit, Trailer Owner, Witness\n",
    "\n",
    "\n",
    "Also we need to convert the following categorical features into a numerical format:\n",
    "\n",
    "* **Ordinal features** like INVAGE or INJURY\n",
    "* **Nominal features** like ROAD_CLASS, ACCLOC or DISTRICT\n",
    "\n",
    "As well as our **TARGET FEATURE: ACCLASS (Accident Class)**\n",
    "  1. Non-Fatal: Non-Fatal Injury\n",
    "  2. Fatal: Fatal\n",
    "\n",
    "And **normalize** some continuos values like **LONGITUDE and LATITUDE**\n"
   ]
  },
  {
   "cell_type": "markdown",
   "id": "dc6b7ad8",
   "metadata": {},
   "source": [
    "### Null values"
   ]
  },
  {
   "cell_type": "markdown",
   "id": "3849526f",
   "metadata": {},
   "source": [
    "We can search for null values and sort them in descending order to see if there are columns with too many null values that must be eliminated"
   ]
  },
  {
   "cell_type": "code",
   "execution_count": 310,
   "id": "381828eb",
   "metadata": {},
   "outputs": [
    {
     "name": "stdout",
     "output_type": "stream",
     "text": [
      "[EMERG_VEH        14981\n",
      "DISABILITY       14580\n",
      "FATAL_NO         14407\n",
      "CYCCOND          14380\n",
      "CYCACT           14379\n",
      "CYCLISTYPE       14365\n",
      "ALCOHOL          14328\n",
      "TRSN_CITY_VEH    14077\n",
      "TRUCK            14067\n",
      "MOTORCYCLE       13838\n",
      "REDLIGHT         13725\n",
      "CYCLIST          13422\n",
      "OFFSET           13072\n",
      "SPEEDING         13002\n",
      "PEDCOND          12555\n",
      "PEDACT           12550\n",
      "PEDTYPE          12540\n",
      "PASSENGER         9367\n",
      "PEDESTRIAN        9034\n",
      "DRIVCOND          7579\n",
      "DRIVACT           7575\n",
      "AG_DRIV           7304\n",
      "INJURY            7189\n",
      "MANOEUVER         6514\n",
      "ACCLOC            5450\n",
      "dtype: int64]\n"
     ]
    }
   ],
   "source": [
    "# Count null values in each column\n",
    "null_counts = train_df.isnull().sum()\n",
    "\n",
    "# Sort the counts in descending order\n",
    "sorted_null_counts = null_counts.sort_values(ascending=False)\n",
    "\n",
    "# Display the result\n",
    "print([sorted_null_counts[:25]])"
   ]
  },
  {
   "cell_type": "markdown",
   "id": "5203595d",
   "metadata": {},
   "source": [
    "We could think about deleting this columns with more than 50% of the values being null values but doing some exploration, this is because some of them are boolean variables which take a null value instead of using False, or a numerical feature that uses a missing value instead of a cero.\n",
    "\n",
    "This is the case for:\n",
    "* EMERG_VEH, DISABILITY, FATAL_NO, ALCOHOL, TRSN_CITY_VEH, TRUCK, MOTORCYCLE, REDLIGHT, CYCLIST, SPEEDING, INJURY, PASSENGER\n",
    "\n",
    "On the other hand, that is not the case for features like:\n",
    "\n",
    "* CYCCOND, CYCACT, CYCLISTYPE, OFFSET, PEDCOND, PEDACT, PEDTYPE, PEDESTRIAN, DRIVCOND, DRIVACT, AG_DRIV, ACCLOC, MANOEUVER\n",
    "\n",
    "and can be droped"
   ]
  },
  {
   "cell_type": "markdown",
   "id": "5b9a97ba",
   "metadata": {},
   "source": [
    "### Dropping columns"
   ]
  },
  {
   "cell_type": "code",
   "execution_count": 311,
   "id": "76ab6325",
   "metadata": {},
   "outputs": [
    {
     "name": "stdout",
     "output_type": "stream",
     "text": [
      "27\n"
     ]
    }
   ],
   "source": [
    "#X, INDEX, ACCNUMBER, STREET1, STREET2, OFFSET, HOOD_158, NEIGHBOURHOOD_158, HOOD_140, NEIGHBOURHOOD_140,PEDTYPE, PEDACT, CYCLISTYPE, DIVISION,VEHTYPE, DRIVCOND, PEDCOND, CYCCOND, CYCCOND, CYCACT, CYCLISTYPE, OFFSET, PEDCOND, PEDACT, PEDTYPE, PEDESTRIAN, DRIVCOND, DRIVACT, AG_DRIV, ACCLOC\n",
    "columns_to_drop = ['X', 'Y', 'ACCLOC', 'ACCNUM', 'AG_DRIV', 'CYCACT', 'CYCCOND', 'CYCLISTYPE', 'DIVISION', \n",
    "                   'DRIVACT', 'DRIVCOND', 'PEDACT', 'PEDCOND', 'PEDTYPE', 'PEDESTRIAN', 'INDEX_', 'NEIGHBOURHOOD_140', \n",
    "                   'NEIGHBOURHOOD_158', 'OFFSET', 'HOOD_140', 'HOOD_158', 'STREET1', 'STREET2', 'VEHTYPE', 'MANOEUVER', 'FATAL_NO', 'INITDIR']\n",
    "\n",
    "print(len(columns_to_drop))\n",
    "\n",
    "# Drop the columns and update the original dataframe\n",
    "train_df.drop(columns=columns_to_drop, inplace=True)\n",
    "test_df.drop(columns=columns_to_drop, inplace=True)"
   ]
  },
  {
   "cell_type": "markdown",
   "id": "d198bfbf",
   "metadata": {},
   "source": [
    "### Final feature selection"
   ]
  },
  {
   "cell_type": "code",
   "execution_count": 312,
   "id": "8ca6b2f3",
   "metadata": {},
   "outputs": [
    {
     "data": {
      "text/html": [
       "<div>\n",
       "<style scoped>\n",
       "    .dataframe tbody tr th:only-of-type {\n",
       "        vertical-align: middle;\n",
       "    }\n",
       "\n",
       "    .dataframe tbody tr th {\n",
       "        vertical-align: top;\n",
       "    }\n",
       "\n",
       "    .dataframe thead th {\n",
       "        text-align: right;\n",
       "    }\n",
       "</style>\n",
       "<table border=\"1\" class=\"dataframe\">\n",
       "  <thead>\n",
       "    <tr style=\"text-align: right;\">\n",
       "      <th></th>\n",
       "      <th>OBJECTID</th>\n",
       "      <th>DATE</th>\n",
       "      <th>TIME</th>\n",
       "      <th>ROAD_CLASS</th>\n",
       "      <th>DISTRICT</th>\n",
       "      <th>LATITUDE</th>\n",
       "      <th>LONGITUDE</th>\n",
       "      <th>TRAFFCTL</th>\n",
       "      <th>VISIBILITY</th>\n",
       "      <th>LIGHT</th>\n",
       "      <th>...</th>\n",
       "      <th>AUTOMOBILE</th>\n",
       "      <th>MOTORCYCLE</th>\n",
       "      <th>TRUCK</th>\n",
       "      <th>TRSN_CITY_VEH</th>\n",
       "      <th>EMERG_VEH</th>\n",
       "      <th>PASSENGER</th>\n",
       "      <th>SPEEDING</th>\n",
       "      <th>REDLIGHT</th>\n",
       "      <th>ALCOHOL</th>\n",
       "      <th>DISABILITY</th>\n",
       "    </tr>\n",
       "  </thead>\n",
       "  <tbody>\n",
       "    <tr>\n",
       "      <th>0</th>\n",
       "      <td>1</td>\n",
       "      <td>2006/01/01 10:00:00+00</td>\n",
       "      <td>236</td>\n",
       "      <td>Major Arterial</td>\n",
       "      <td>Toronto and East York</td>\n",
       "      <td>43.699595</td>\n",
       "      <td>-79.318797</td>\n",
       "      <td>No Control</td>\n",
       "      <td>Clear</td>\n",
       "      <td>Dark</td>\n",
       "      <td>...</td>\n",
       "      <td>Yes</td>\n",
       "      <td>NaN</td>\n",
       "      <td>NaN</td>\n",
       "      <td>NaN</td>\n",
       "      <td>NaN</td>\n",
       "      <td>Yes</td>\n",
       "      <td>Yes</td>\n",
       "      <td>NaN</td>\n",
       "      <td>Yes</td>\n",
       "      <td>NaN</td>\n",
       "    </tr>\n",
       "    <tr>\n",
       "      <th>1</th>\n",
       "      <td>2</td>\n",
       "      <td>2006/01/01 10:00:00+00</td>\n",
       "      <td>236</td>\n",
       "      <td>Major Arterial</td>\n",
       "      <td>Toronto and East York</td>\n",
       "      <td>43.699595</td>\n",
       "      <td>-79.318797</td>\n",
       "      <td>No Control</td>\n",
       "      <td>Clear</td>\n",
       "      <td>Dark</td>\n",
       "      <td>...</td>\n",
       "      <td>Yes</td>\n",
       "      <td>NaN</td>\n",
       "      <td>NaN</td>\n",
       "      <td>NaN</td>\n",
       "      <td>NaN</td>\n",
       "      <td>Yes</td>\n",
       "      <td>Yes</td>\n",
       "      <td>NaN</td>\n",
       "      <td>Yes</td>\n",
       "      <td>NaN</td>\n",
       "    </tr>\n",
       "    <tr>\n",
       "      <th>2</th>\n",
       "      <td>3</td>\n",
       "      <td>2006/01/01 10:00:00+00</td>\n",
       "      <td>236</td>\n",
       "      <td>Major Arterial</td>\n",
       "      <td>Toronto and East York</td>\n",
       "      <td>43.699595</td>\n",
       "      <td>-79.318797</td>\n",
       "      <td>No Control</td>\n",
       "      <td>Clear</td>\n",
       "      <td>Dark</td>\n",
       "      <td>...</td>\n",
       "      <td>Yes</td>\n",
       "      <td>NaN</td>\n",
       "      <td>NaN</td>\n",
       "      <td>NaN</td>\n",
       "      <td>NaN</td>\n",
       "      <td>Yes</td>\n",
       "      <td>Yes</td>\n",
       "      <td>NaN</td>\n",
       "      <td>Yes</td>\n",
       "      <td>NaN</td>\n",
       "    </tr>\n",
       "    <tr>\n",
       "      <th>3</th>\n",
       "      <td>4</td>\n",
       "      <td>2006/01/01 10:00:00+00</td>\n",
       "      <td>236</td>\n",
       "      <td>Major Arterial</td>\n",
       "      <td>Toronto and East York</td>\n",
       "      <td>43.699595</td>\n",
       "      <td>-79.318797</td>\n",
       "      <td>No Control</td>\n",
       "      <td>Clear</td>\n",
       "      <td>Dark</td>\n",
       "      <td>...</td>\n",
       "      <td>Yes</td>\n",
       "      <td>NaN</td>\n",
       "      <td>NaN</td>\n",
       "      <td>NaN</td>\n",
       "      <td>NaN</td>\n",
       "      <td>Yes</td>\n",
       "      <td>Yes</td>\n",
       "      <td>NaN</td>\n",
       "      <td>Yes</td>\n",
       "      <td>NaN</td>\n",
       "    </tr>\n",
       "    <tr>\n",
       "      <th>4</th>\n",
       "      <td>5</td>\n",
       "      <td>2006/01/01 10:00:00+00</td>\n",
       "      <td>236</td>\n",
       "      <td>Major Arterial</td>\n",
       "      <td>Toronto and East York</td>\n",
       "      <td>43.699595</td>\n",
       "      <td>-79.318797</td>\n",
       "      <td>No Control</td>\n",
       "      <td>Clear</td>\n",
       "      <td>Dark</td>\n",
       "      <td>...</td>\n",
       "      <td>Yes</td>\n",
       "      <td>NaN</td>\n",
       "      <td>NaN</td>\n",
       "      <td>NaN</td>\n",
       "      <td>NaN</td>\n",
       "      <td>Yes</td>\n",
       "      <td>Yes</td>\n",
       "      <td>NaN</td>\n",
       "      <td>Yes</td>\n",
       "      <td>NaN</td>\n",
       "    </tr>\n",
       "  </tbody>\n",
       "</table>\n",
       "<p>5 rows × 27 columns</p>\n",
       "</div>"
      ],
      "text/plain": [
       "   OBJECTID                    DATE  TIME      ROAD_CLASS  \\\n",
       "0         1  2006/01/01 10:00:00+00   236  Major Arterial   \n",
       "1         2  2006/01/01 10:00:00+00   236  Major Arterial   \n",
       "2         3  2006/01/01 10:00:00+00   236  Major Arterial   \n",
       "3         4  2006/01/01 10:00:00+00   236  Major Arterial   \n",
       "4         5  2006/01/01 10:00:00+00   236  Major Arterial   \n",
       "\n",
       "                DISTRICT   LATITUDE  LONGITUDE    TRAFFCTL VISIBILITY LIGHT  \\\n",
       "0  Toronto and East York  43.699595 -79.318797  No Control      Clear  Dark   \n",
       "1  Toronto and East York  43.699595 -79.318797  No Control      Clear  Dark   \n",
       "2  Toronto and East York  43.699595 -79.318797  No Control      Clear  Dark   \n",
       "3  Toronto and East York  43.699595 -79.318797  No Control      Clear  Dark   \n",
       "4  Toronto and East York  43.699595 -79.318797  No Control      Clear  Dark   \n",
       "\n",
       "   ... AUTOMOBILE MOTORCYCLE TRUCK TRSN_CITY_VEH EMERG_VEH PASSENGER SPEEDING  \\\n",
       "0  ...        Yes        NaN   NaN           NaN       NaN       Yes      Yes   \n",
       "1  ...        Yes        NaN   NaN           NaN       NaN       Yes      Yes   \n",
       "2  ...        Yes        NaN   NaN           NaN       NaN       Yes      Yes   \n",
       "3  ...        Yes        NaN   NaN           NaN       NaN       Yes      Yes   \n",
       "4  ...        Yes        NaN   NaN           NaN       NaN       Yes      Yes   \n",
       "\n",
       "  REDLIGHT ALCOHOL DISABILITY  \n",
       "0      NaN     Yes        NaN  \n",
       "1      NaN     Yes        NaN  \n",
       "2      NaN     Yes        NaN  \n",
       "3      NaN     Yes        NaN  \n",
       "4      NaN     Yes        NaN  \n",
       "\n",
       "[5 rows x 27 columns]"
      ]
     },
     "execution_count": 312,
     "metadata": {},
     "output_type": "execute_result"
    }
   ],
   "source": [
    "train_df.head()"
   ]
  },
  {
   "cell_type": "code",
   "execution_count": 313,
   "id": "d5e7cf4e",
   "metadata": {},
   "outputs": [
    {
     "data": {
      "text/html": [
       "<div>\n",
       "<style scoped>\n",
       "    .dataframe tbody tr th:only-of-type {\n",
       "        vertical-align: middle;\n",
       "    }\n",
       "\n",
       "    .dataframe tbody tr th {\n",
       "        vertical-align: top;\n",
       "    }\n",
       "\n",
       "    .dataframe thead th {\n",
       "        text-align: right;\n",
       "    }\n",
       "</style>\n",
       "<table border=\"1\" class=\"dataframe\">\n",
       "  <thead>\n",
       "    <tr style=\"text-align: right;\">\n",
       "      <th></th>\n",
       "      <th>OBJECTID</th>\n",
       "      <th>DATE</th>\n",
       "      <th>TIME</th>\n",
       "      <th>ROAD_CLASS</th>\n",
       "      <th>DISTRICT</th>\n",
       "      <th>LATITUDE</th>\n",
       "      <th>LONGITUDE</th>\n",
       "      <th>TRAFFCTL</th>\n",
       "      <th>VISIBILITY</th>\n",
       "      <th>LIGHT</th>\n",
       "      <th>...</th>\n",
       "      <th>AUTOMOBILE</th>\n",
       "      <th>MOTORCYCLE</th>\n",
       "      <th>TRUCK</th>\n",
       "      <th>TRSN_CITY_VEH</th>\n",
       "      <th>EMERG_VEH</th>\n",
       "      <th>PASSENGER</th>\n",
       "      <th>SPEEDING</th>\n",
       "      <th>REDLIGHT</th>\n",
       "      <th>ALCOHOL</th>\n",
       "      <th>DISABILITY</th>\n",
       "    </tr>\n",
       "  </thead>\n",
       "  <tbody>\n",
       "    <tr>\n",
       "      <th>0</th>\n",
       "      <td>15001</td>\n",
       "      <td>2018/09/26 08:00:00+00</td>\n",
       "      <td>2053</td>\n",
       "      <td>Major Arterial</td>\n",
       "      <td>Scarborough</td>\n",
       "      <td>43.782229</td>\n",
       "      <td>-79.292499</td>\n",
       "      <td>No Control</td>\n",
       "      <td>Clear</td>\n",
       "      <td>Dark, artificial</td>\n",
       "      <td>...</td>\n",
       "      <td>Yes</td>\n",
       "      <td>NaN</td>\n",
       "      <td>NaN</td>\n",
       "      <td>NaN</td>\n",
       "      <td>NaN</td>\n",
       "      <td>NaN</td>\n",
       "      <td>NaN</td>\n",
       "      <td>NaN</td>\n",
       "      <td>NaN</td>\n",
       "      <td>NaN</td>\n",
       "    </tr>\n",
       "    <tr>\n",
       "      <th>1</th>\n",
       "      <td>15002</td>\n",
       "      <td>2018/09/26 08:00:00+00</td>\n",
       "      <td>2053</td>\n",
       "      <td>Major Arterial</td>\n",
       "      <td>Scarborough</td>\n",
       "      <td>43.782229</td>\n",
       "      <td>-79.292499</td>\n",
       "      <td>No Control</td>\n",
       "      <td>Clear</td>\n",
       "      <td>Dark, artificial</td>\n",
       "      <td>...</td>\n",
       "      <td>Yes</td>\n",
       "      <td>NaN</td>\n",
       "      <td>NaN</td>\n",
       "      <td>NaN</td>\n",
       "      <td>NaN</td>\n",
       "      <td>NaN</td>\n",
       "      <td>NaN</td>\n",
       "      <td>NaN</td>\n",
       "      <td>NaN</td>\n",
       "      <td>NaN</td>\n",
       "    </tr>\n",
       "    <tr>\n",
       "      <th>2</th>\n",
       "      <td>15003</td>\n",
       "      <td>2018/09/28 08:00:00+00</td>\n",
       "      <td>806</td>\n",
       "      <td>Major Arterial</td>\n",
       "      <td>Scarborough</td>\n",
       "      <td>43.730773</td>\n",
       "      <td>-79.273853</td>\n",
       "      <td>Traffic Signal</td>\n",
       "      <td>Clear</td>\n",
       "      <td>Daylight</td>\n",
       "      <td>...</td>\n",
       "      <td>Yes</td>\n",
       "      <td>NaN</td>\n",
       "      <td>NaN</td>\n",
       "      <td>NaN</td>\n",
       "      <td>NaN</td>\n",
       "      <td>NaN</td>\n",
       "      <td>NaN</td>\n",
       "      <td>NaN</td>\n",
       "      <td>NaN</td>\n",
       "      <td>NaN</td>\n",
       "    </tr>\n",
       "    <tr>\n",
       "      <th>3</th>\n",
       "      <td>15004</td>\n",
       "      <td>2018/09/28 08:00:00+00</td>\n",
       "      <td>806</td>\n",
       "      <td>Major Arterial</td>\n",
       "      <td>Scarborough</td>\n",
       "      <td>43.730773</td>\n",
       "      <td>-79.273853</td>\n",
       "      <td>Traffic Signal</td>\n",
       "      <td>Clear</td>\n",
       "      <td>Daylight</td>\n",
       "      <td>...</td>\n",
       "      <td>Yes</td>\n",
       "      <td>NaN</td>\n",
       "      <td>NaN</td>\n",
       "      <td>NaN</td>\n",
       "      <td>NaN</td>\n",
       "      <td>NaN</td>\n",
       "      <td>NaN</td>\n",
       "      <td>NaN</td>\n",
       "      <td>NaN</td>\n",
       "      <td>NaN</td>\n",
       "    </tr>\n",
       "    <tr>\n",
       "      <th>4</th>\n",
       "      <td>15005</td>\n",
       "      <td>2018/09/28 08:00:00+00</td>\n",
       "      <td>1018</td>\n",
       "      <td>Major Arterial</td>\n",
       "      <td>Etobicoke York</td>\n",
       "      <td>43.691409</td>\n",
       "      <td>-79.500911</td>\n",
       "      <td>No Control</td>\n",
       "      <td>Clear</td>\n",
       "      <td>Daylight</td>\n",
       "      <td>...</td>\n",
       "      <td>Yes</td>\n",
       "      <td>NaN</td>\n",
       "      <td>NaN</td>\n",
       "      <td>NaN</td>\n",
       "      <td>NaN</td>\n",
       "      <td>NaN</td>\n",
       "      <td>NaN</td>\n",
       "      <td>NaN</td>\n",
       "      <td>NaN</td>\n",
       "      <td>NaN</td>\n",
       "    </tr>\n",
       "  </tbody>\n",
       "</table>\n",
       "<p>5 rows × 26 columns</p>\n",
       "</div>"
      ],
      "text/plain": [
       "   OBJECTID                    DATE  TIME      ROAD_CLASS        DISTRICT  \\\n",
       "0     15001  2018/09/26 08:00:00+00  2053  Major Arterial     Scarborough   \n",
       "1     15002  2018/09/26 08:00:00+00  2053  Major Arterial     Scarborough   \n",
       "2     15003  2018/09/28 08:00:00+00   806  Major Arterial     Scarborough   \n",
       "3     15004  2018/09/28 08:00:00+00   806  Major Arterial     Scarborough   \n",
       "4     15005  2018/09/28 08:00:00+00  1018  Major Arterial  Etobicoke York   \n",
       "\n",
       "    LATITUDE  LONGITUDE        TRAFFCTL VISIBILITY             LIGHT  ...  \\\n",
       "0  43.782229 -79.292499      No Control      Clear  Dark, artificial  ...   \n",
       "1  43.782229 -79.292499      No Control      Clear  Dark, artificial  ...   \n",
       "2  43.730773 -79.273853  Traffic Signal      Clear          Daylight  ...   \n",
       "3  43.730773 -79.273853  Traffic Signal      Clear          Daylight  ...   \n",
       "4  43.691409 -79.500911      No Control      Clear          Daylight  ...   \n",
       "\n",
       "  AUTOMOBILE MOTORCYCLE TRUCK TRSN_CITY_VEH EMERG_VEH PASSENGER SPEEDING  \\\n",
       "0        Yes        NaN   NaN           NaN       NaN       NaN      NaN   \n",
       "1        Yes        NaN   NaN           NaN       NaN       NaN      NaN   \n",
       "2        Yes        NaN   NaN           NaN       NaN       NaN      NaN   \n",
       "3        Yes        NaN   NaN           NaN       NaN       NaN      NaN   \n",
       "4        Yes        NaN   NaN           NaN       NaN       NaN      NaN   \n",
       "\n",
       "  REDLIGHT ALCOHOL DISABILITY  \n",
       "0      NaN     NaN        NaN  \n",
       "1      NaN     NaN        NaN  \n",
       "2      NaN     NaN        NaN  \n",
       "3      NaN     NaN        NaN  \n",
       "4      NaN     NaN        NaN  \n",
       "\n",
       "[5 rows x 26 columns]"
      ]
     },
     "execution_count": 313,
     "metadata": {},
     "output_type": "execute_result"
    }
   ],
   "source": [
    "test_df.head()"
   ]
  },
  {
   "cell_type": "code",
   "execution_count": 314,
   "id": "79c56962",
   "metadata": {},
   "outputs": [
    {
     "data": {
      "text/plain": [
       "Index(['OBJECTID', 'DATE', 'TIME', 'ROAD_CLASS', 'DISTRICT', 'LATITUDE',\n",
       "       'LONGITUDE', 'TRAFFCTL', 'VISIBILITY', 'LIGHT', 'RDSFCOND', 'ACCLASS',\n",
       "       'IMPACTYPE', 'INVTYPE', 'INVAGE', 'INJURY', 'CYCLIST', 'AUTOMOBILE',\n",
       "       'MOTORCYCLE', 'TRUCK', 'TRSN_CITY_VEH', 'EMERG_VEH', 'PASSENGER',\n",
       "       'SPEEDING', 'REDLIGHT', 'ALCOHOL', 'DISABILITY'],\n",
       "      dtype='object')"
      ]
     },
     "execution_count": 314,
     "metadata": {},
     "output_type": "execute_result"
    }
   ],
   "source": [
    "train_df.columns"
   ]
  },
  {
   "cell_type": "markdown",
   "id": "83986ea0",
   "metadata": {},
   "source": [
    "After that initial analysis we still have 25 features excluding the target feature and object_id, so we should consider choosing only the most important ones as having a large number of features can lead to overfitting, where the model learns noise rather than patterns. Also, many of the current features need to be transform into one-hot encoding so the number of features will increase even more.\n",
    "\n",
    "We can eliminate DATE, TIME, LATITUDE, LONGITUDE, INVTYPE"
   ]
  },
  {
   "cell_type": "code",
   "execution_count": 315,
   "id": "5833187b",
   "metadata": {},
   "outputs": [],
   "source": [
    "columns_to_drop = ['DATE', 'TIME','LATITUDE', 'LONGITUDE','INVTYPE']\n",
    "\n",
    "# Drop the columns and update the original dataframe\n",
    "train_df.drop(columns=columns_to_drop, inplace=True)\n",
    "test_df.drop(columns=columns_to_drop, inplace=True)"
   ]
  },
  {
   "cell_type": "code",
   "execution_count": 316,
   "id": "94b817bc",
   "metadata": {},
   "outputs": [
    {
     "data": {
      "text/plain": [
       "Index(['OBJECTID', 'ROAD_CLASS', 'DISTRICT', 'TRAFFCTL', 'VISIBILITY', 'LIGHT',\n",
       "       'RDSFCOND', 'ACCLASS', 'IMPACTYPE', 'INVAGE', 'INJURY', 'CYCLIST',\n",
       "       'AUTOMOBILE', 'MOTORCYCLE', 'TRUCK', 'TRSN_CITY_VEH', 'EMERG_VEH',\n",
       "       'PASSENGER', 'SPEEDING', 'REDLIGHT', 'ALCOHOL', 'DISABILITY'],\n",
       "      dtype='object')"
      ]
     },
     "execution_count": 316,
     "metadata": {},
     "output_type": "execute_result"
    }
   ],
   "source": [
    "train_df.columns"
   ]
  },
  {
   "cell_type": "markdown",
   "id": "209c475c",
   "metadata": {},
   "source": [
    "## Cleansing"
   ]
  },
  {
   "cell_type": "markdown",
   "id": "09197d1d",
   "metadata": {},
   "source": [
    "### Fill nulls with 'No'"
   ]
  },
  {
   "cell_type": "code",
   "execution_count": 317,
   "id": "8886dfad",
   "metadata": {},
   "outputs": [],
   "source": [
    "boolean_columns = ['CYCLIST', 'AUTOMOBILE', 'MOTORCYCLE', 'TRUCK', 'TRSN_CITY_VEH', 'EMERG_VEH',\n",
    "       'PASSENGER', 'SPEEDING', 'REDLIGHT', 'ALCOHOL', 'DISABILITY', 'INJURY']\n",
    "\n",
    "# Fill null values with 0 for the train DataFrame\n",
    "train_df.loc[:, boolean_columns] = train_df.loc[:, boolean_columns].fillna('No')\n",
    "\n",
    "# Fill null values with 0 for the test DataFrame\n",
    "test_df.loc[:, boolean_columns] = test_df.loc[:, boolean_columns].fillna('No')"
   ]
  },
  {
   "cell_type": "code",
   "execution_count": 318,
   "id": "2de26f56",
   "metadata": {},
   "outputs": [
    {
     "data": {
      "text/html": [
       "<div>\n",
       "<style scoped>\n",
       "    .dataframe tbody tr th:only-of-type {\n",
       "        vertical-align: middle;\n",
       "    }\n",
       "\n",
       "    .dataframe tbody tr th {\n",
       "        vertical-align: top;\n",
       "    }\n",
       "\n",
       "    .dataframe thead th {\n",
       "        text-align: right;\n",
       "    }\n",
       "</style>\n",
       "<table border=\"1\" class=\"dataframe\">\n",
       "  <thead>\n",
       "    <tr style=\"text-align: right;\">\n",
       "      <th></th>\n",
       "      <th>OBJECTID</th>\n",
       "      <th>ROAD_CLASS</th>\n",
       "      <th>DISTRICT</th>\n",
       "      <th>TRAFFCTL</th>\n",
       "      <th>VISIBILITY</th>\n",
       "      <th>LIGHT</th>\n",
       "      <th>RDSFCOND</th>\n",
       "      <th>ACCLASS</th>\n",
       "      <th>IMPACTYPE</th>\n",
       "      <th>INVAGE</th>\n",
       "      <th>...</th>\n",
       "      <th>AUTOMOBILE</th>\n",
       "      <th>MOTORCYCLE</th>\n",
       "      <th>TRUCK</th>\n",
       "      <th>TRSN_CITY_VEH</th>\n",
       "      <th>EMERG_VEH</th>\n",
       "      <th>PASSENGER</th>\n",
       "      <th>SPEEDING</th>\n",
       "      <th>REDLIGHT</th>\n",
       "      <th>ALCOHOL</th>\n",
       "      <th>DISABILITY</th>\n",
       "    </tr>\n",
       "  </thead>\n",
       "  <tbody>\n",
       "    <tr>\n",
       "      <th>0</th>\n",
       "      <td>1</td>\n",
       "      <td>Major Arterial</td>\n",
       "      <td>Toronto and East York</td>\n",
       "      <td>No Control</td>\n",
       "      <td>Clear</td>\n",
       "      <td>Dark</td>\n",
       "      <td>Wet</td>\n",
       "      <td>Non-Fatal Injury</td>\n",
       "      <td>Approaching</td>\n",
       "      <td>50 to 54</td>\n",
       "      <td>...</td>\n",
       "      <td>Yes</td>\n",
       "      <td>No</td>\n",
       "      <td>No</td>\n",
       "      <td>No</td>\n",
       "      <td>No</td>\n",
       "      <td>Yes</td>\n",
       "      <td>Yes</td>\n",
       "      <td>No</td>\n",
       "      <td>Yes</td>\n",
       "      <td>No</td>\n",
       "    </tr>\n",
       "    <tr>\n",
       "      <th>1</th>\n",
       "      <td>2</td>\n",
       "      <td>Major Arterial</td>\n",
       "      <td>Toronto and East York</td>\n",
       "      <td>No Control</td>\n",
       "      <td>Clear</td>\n",
       "      <td>Dark</td>\n",
       "      <td>Wet</td>\n",
       "      <td>Non-Fatal Injury</td>\n",
       "      <td>Approaching</td>\n",
       "      <td>15 to 19</td>\n",
       "      <td>...</td>\n",
       "      <td>Yes</td>\n",
       "      <td>No</td>\n",
       "      <td>No</td>\n",
       "      <td>No</td>\n",
       "      <td>No</td>\n",
       "      <td>Yes</td>\n",
       "      <td>Yes</td>\n",
       "      <td>No</td>\n",
       "      <td>Yes</td>\n",
       "      <td>No</td>\n",
       "    </tr>\n",
       "    <tr>\n",
       "      <th>2</th>\n",
       "      <td>3</td>\n",
       "      <td>Major Arterial</td>\n",
       "      <td>Toronto and East York</td>\n",
       "      <td>No Control</td>\n",
       "      <td>Clear</td>\n",
       "      <td>Dark</td>\n",
       "      <td>Wet</td>\n",
       "      <td>Non-Fatal Injury</td>\n",
       "      <td>Approaching</td>\n",
       "      <td>55 to 59</td>\n",
       "      <td>...</td>\n",
       "      <td>Yes</td>\n",
       "      <td>No</td>\n",
       "      <td>No</td>\n",
       "      <td>No</td>\n",
       "      <td>No</td>\n",
       "      <td>Yes</td>\n",
       "      <td>Yes</td>\n",
       "      <td>No</td>\n",
       "      <td>Yes</td>\n",
       "      <td>No</td>\n",
       "    </tr>\n",
       "    <tr>\n",
       "      <th>3</th>\n",
       "      <td>4</td>\n",
       "      <td>Major Arterial</td>\n",
       "      <td>Toronto and East York</td>\n",
       "      <td>No Control</td>\n",
       "      <td>Clear</td>\n",
       "      <td>Dark</td>\n",
       "      <td>Wet</td>\n",
       "      <td>Non-Fatal Injury</td>\n",
       "      <td>Approaching</td>\n",
       "      <td>20 to 24</td>\n",
       "      <td>...</td>\n",
       "      <td>Yes</td>\n",
       "      <td>No</td>\n",
       "      <td>No</td>\n",
       "      <td>No</td>\n",
       "      <td>No</td>\n",
       "      <td>Yes</td>\n",
       "      <td>Yes</td>\n",
       "      <td>No</td>\n",
       "      <td>Yes</td>\n",
       "      <td>No</td>\n",
       "    </tr>\n",
       "    <tr>\n",
       "      <th>4</th>\n",
       "      <td>5</td>\n",
       "      <td>Major Arterial</td>\n",
       "      <td>Toronto and East York</td>\n",
       "      <td>No Control</td>\n",
       "      <td>Clear</td>\n",
       "      <td>Dark</td>\n",
       "      <td>Wet</td>\n",
       "      <td>Non-Fatal Injury</td>\n",
       "      <td>Approaching</td>\n",
       "      <td>15 to 19</td>\n",
       "      <td>...</td>\n",
       "      <td>Yes</td>\n",
       "      <td>No</td>\n",
       "      <td>No</td>\n",
       "      <td>No</td>\n",
       "      <td>No</td>\n",
       "      <td>Yes</td>\n",
       "      <td>Yes</td>\n",
       "      <td>No</td>\n",
       "      <td>Yes</td>\n",
       "      <td>No</td>\n",
       "    </tr>\n",
       "  </tbody>\n",
       "</table>\n",
       "<p>5 rows × 22 columns</p>\n",
       "</div>"
      ],
      "text/plain": [
       "   OBJECTID      ROAD_CLASS               DISTRICT    TRAFFCTL VISIBILITY  \\\n",
       "0         1  Major Arterial  Toronto and East York  No Control      Clear   \n",
       "1         2  Major Arterial  Toronto and East York  No Control      Clear   \n",
       "2         3  Major Arterial  Toronto and East York  No Control      Clear   \n",
       "3         4  Major Arterial  Toronto and East York  No Control      Clear   \n",
       "4         5  Major Arterial  Toronto and East York  No Control      Clear   \n",
       "\n",
       "  LIGHT RDSFCOND           ACCLASS    IMPACTYPE    INVAGE  ... AUTOMOBILE  \\\n",
       "0  Dark      Wet  Non-Fatal Injury  Approaching  50 to 54  ...        Yes   \n",
       "1  Dark      Wet  Non-Fatal Injury  Approaching  15 to 19  ...        Yes   \n",
       "2  Dark      Wet  Non-Fatal Injury  Approaching  55 to 59  ...        Yes   \n",
       "3  Dark      Wet  Non-Fatal Injury  Approaching  20 to 24  ...        Yes   \n",
       "4  Dark      Wet  Non-Fatal Injury  Approaching  15 to 19  ...        Yes   \n",
       "\n",
       "  MOTORCYCLE TRUCK TRSN_CITY_VEH EMERG_VEH PASSENGER SPEEDING REDLIGHT  \\\n",
       "0         No    No            No        No       Yes      Yes       No   \n",
       "1         No    No            No        No       Yes      Yes       No   \n",
       "2         No    No            No        No       Yes      Yes       No   \n",
       "3         No    No            No        No       Yes      Yes       No   \n",
       "4         No    No            No        No       Yes      Yes       No   \n",
       "\n",
       "  ALCOHOL DISABILITY  \n",
       "0     Yes         No  \n",
       "1     Yes         No  \n",
       "2     Yes         No  \n",
       "3     Yes         No  \n",
       "4     Yes         No  \n",
       "\n",
       "[5 rows x 22 columns]"
      ]
     },
     "execution_count": 318,
     "metadata": {},
     "output_type": "execute_result"
    }
   ],
   "source": [
    "train_df.head()"
   ]
  },
  {
   "cell_type": "markdown",
   "id": "c7441565",
   "metadata": {},
   "source": [
    "### Check and drop the null values left"
   ]
  },
  {
   "cell_type": "code",
   "execution_count": 319,
   "id": "564a42fb-d187-4d0a-990f-2e012abbbb7a",
   "metadata": {},
   "outputs": [
    {
     "name": "stdout",
     "output_type": "stream",
     "text": [
      "OBJECTID           0\n",
      "ROAD_CLASS       357\n",
      "DISTRICT          16\n",
      "TRAFFCTL          29\n",
      "VISIBILITY        14\n",
      "LIGHT              0\n",
      "RDSFCOND          19\n",
      "ACCLASS            0\n",
      "IMPACTYPE          0\n",
      "INVAGE             0\n",
      "INJURY             0\n",
      "CYCLIST            0\n",
      "AUTOMOBILE         0\n",
      "MOTORCYCLE         0\n",
      "TRUCK              0\n",
      "TRSN_CITY_VEH      0\n",
      "EMERG_VEH          0\n",
      "PASSENGER          0\n",
      "SPEEDING           0\n",
      "REDLIGHT           0\n",
      "ALCOHOL            0\n",
      "DISABILITY         0\n",
      "dtype: int64\n"
     ]
    }
   ],
   "source": [
    "# number of null value in all column using isnull function\n",
    "print(train_df.isnull().sum())"
   ]
  },
  {
   "cell_type": "code",
   "execution_count": 320,
   "id": "00061d67",
   "metadata": {},
   "outputs": [
    {
     "data": {
      "text/plain": [
       "OBJECTID           0\n",
       "ROAD_CLASS       129\n",
       "DISTRICT         213\n",
       "TRAFFCTL          46\n",
       "VISIBILITY        10\n",
       "LIGHT              4\n",
       "RDSFCOND          10\n",
       "IMPACTYPE         27\n",
       "INVAGE             0\n",
       "INJURY             0\n",
       "CYCLIST            0\n",
       "AUTOMOBILE         0\n",
       "MOTORCYCLE         0\n",
       "TRUCK              0\n",
       "TRSN_CITY_VEH      0\n",
       "EMERG_VEH          0\n",
       "PASSENGER          0\n",
       "SPEEDING           0\n",
       "REDLIGHT           0\n",
       "ALCOHOL            0\n",
       "DISABILITY         0\n",
       "dtype: int64"
      ]
     },
     "execution_count": 320,
     "metadata": {},
     "output_type": "execute_result"
    }
   ],
   "source": [
    "test_df.isnull().sum()"
   ]
  },
  {
   "cell_type": "markdown",
   "id": "0b01c1a4",
   "metadata": {},
   "source": [
    "We drop the null values left in order to remove inconsistency as their proportion is too small compared to the whole dataset and dropping the null values will not affect too much the model's performance."
   ]
  },
  {
   "cell_type": "code",
   "execution_count": 321,
   "id": "3ee5c5c6",
   "metadata": {},
   "outputs": [],
   "source": [
    "# Drop rows with any missing values\n",
    "train_df = train_df.dropna()\n"
   ]
  },
  {
   "cell_type": "markdown",
   "id": "58b3d6f1",
   "metadata": {},
   "source": [
    "### Impute Null values"
   ]
  },
  {
   "cell_type": "markdown",
   "id": "abfdf9d1",
   "metadata": {},
   "source": [
    "As the Kaggle competition demands to submit a complete number of samples from the original test dataset, we will impute the null values for this test set instead of dropping them."
   ]
  },
  {
   "cell_type": "code",
   "execution_count": 322,
   "id": "a9a1a4e2",
   "metadata": {},
   "outputs": [],
   "source": [
    "# Mode imputation\n",
    "for column in test_df.columns:\n",
    "    mode_value = test_df[column].mode()[0]\n",
    "    test_df[column].fillna(mode_value, inplace=True)"
   ]
  },
  {
   "cell_type": "code",
   "execution_count": 323,
   "id": "b76015b7",
   "metadata": {},
   "outputs": [
    {
     "data": {
      "text/plain": [
       "OBJECTID         0\n",
       "ROAD_CLASS       0\n",
       "DISTRICT         0\n",
       "TRAFFCTL         0\n",
       "VISIBILITY       0\n",
       "LIGHT            0\n",
       "RDSFCOND         0\n",
       "IMPACTYPE        0\n",
       "INVAGE           0\n",
       "INJURY           0\n",
       "CYCLIST          0\n",
       "AUTOMOBILE       0\n",
       "MOTORCYCLE       0\n",
       "TRUCK            0\n",
       "TRSN_CITY_VEH    0\n",
       "EMERG_VEH        0\n",
       "PASSENGER        0\n",
       "SPEEDING         0\n",
       "REDLIGHT         0\n",
       "ALCOHOL          0\n",
       "DISABILITY       0\n",
       "dtype: int64"
      ]
     },
     "execution_count": 323,
     "metadata": {},
     "output_type": "execute_result"
    }
   ],
   "source": [
    "test_df.isnull().sum()"
   ]
  },
  {
   "cell_type": "code",
   "execution_count": 324,
   "id": "4cedf047",
   "metadata": {},
   "outputs": [
    {
     "data": {
      "text/plain": [
       "(3956, 21)"
      ]
     },
     "execution_count": 324,
     "metadata": {},
     "output_type": "execute_result"
    }
   ],
   "source": [
    "test_df.shape"
   ]
  },
  {
   "cell_type": "markdown",
   "id": "5b887e95",
   "metadata": {},
   "source": [
    "### Check for duplicates\n",
    "Remove all the duplicate values from the dataset in order to decrease the inconsistency from our dataset."
   ]
  },
  {
   "cell_type": "code",
   "execution_count": 325,
   "id": "207d4428",
   "metadata": {},
   "outputs": [
    {
     "name": "stdout",
     "output_type": "stream",
     "text": [
      "Empty DataFrame\n",
      "Columns: [OBJECTID, ROAD_CLASS, DISTRICT, TRAFFCTL, VISIBILITY, LIGHT, RDSFCOND, ACCLASS, IMPACTYPE, INVAGE, INJURY, CYCLIST, AUTOMOBILE, MOTORCYCLE, TRUCK, TRSN_CITY_VEH, EMERG_VEH, PASSENGER, SPEEDING, REDLIGHT, ALCOHOL, DISABILITY]\n",
      "Index: []\n",
      "\n",
      "[0 rows x 22 columns]\n"
     ]
    }
   ],
   "source": [
    "# Check for duplicate rows\n",
    "duplicates = train_df.duplicated()\n",
    "\n",
    "print(train_df[duplicates])  # Display duplicate rows"
   ]
  },
  {
   "cell_type": "code",
   "execution_count": 326,
   "id": "53f545cf",
   "metadata": {},
   "outputs": [
    {
     "name": "stdout",
     "output_type": "stream",
     "text": [
      "Empty DataFrame\n",
      "Columns: [OBJECTID, ROAD_CLASS, DISTRICT, TRAFFCTL, VISIBILITY, LIGHT, RDSFCOND, IMPACTYPE, INVAGE, INJURY, CYCLIST, AUTOMOBILE, MOTORCYCLE, TRUCK, TRSN_CITY_VEH, EMERG_VEH, PASSENGER, SPEEDING, REDLIGHT, ALCOHOL, DISABILITY]\n",
      "Index: []\n",
      "\n",
      "[0 rows x 21 columns]\n"
     ]
    }
   ],
   "source": [
    "# Check for duplicate rows\n",
    "duplicates = test_df.duplicated()\n",
    "\n",
    "print(test_df[duplicates])  # Display duplicate rows"
   ]
  },
  {
   "cell_type": "markdown",
   "id": "18e9bde3",
   "metadata": {},
   "source": [
    "## Pre-processing pipeline"
   ]
  },
  {
   "cell_type": "markdown",
   "id": "ba7913b3",
   "metadata": {},
   "source": [
    "#### Group mapping"
   ]
  },
  {
   "cell_type": "markdown",
   "id": "87990f15",
   "metadata": {},
   "source": [
    "Do the same for the rest of the variables that needs grouping:"
   ]
  },
  {
   "cell_type": "code",
   "execution_count": 327,
   "id": "4977817b",
   "metadata": {},
   "outputs": [
    {
     "name": "stdout",
     "output_type": "stream",
     "text": [
      "       OBJECTID ROAD_CLASS               DISTRICT           TRAFFCTL  \\\n",
      "0             1  Arterials  Toronto and East York         No Control   \n",
      "1             2  Arterials  Toronto and East York         No Control   \n",
      "2             3  Arterials  Toronto and East York         No Control   \n",
      "3             4  Arterials  Toronto and East York         No Control   \n",
      "4             5  Arterials  Toronto and East York         No Control   \n",
      "...         ...        ...                    ...                ...   \n",
      "14995     14996  Arterials            Scarborough  Automated Control   \n",
      "14996     14997  Arterials  Toronto and East York         No Control   \n",
      "14997     14998  Arterials  Toronto and East York         No Control   \n",
      "14998     14999  Arterials            Scarborough  Automated Control   \n",
      "14999     15000  Arterials            Scarborough  Automated Control   \n",
      "\n",
      "      VISIBILITY          LIGHT RDSFCOND           ACCLASS  \\\n",
      "0          Clear           Dark      Wet  Non-Fatal Injury   \n",
      "1          Clear           Dark      Wet  Non-Fatal Injury   \n",
      "2          Clear           Dark      Wet  Non-Fatal Injury   \n",
      "3          Clear           Dark      Wet  Non-Fatal Injury   \n",
      "4          Clear           Dark      Wet  Non-Fatal Injury   \n",
      "...          ...            ...      ...               ...   \n",
      "14995      Clear  Natural Light    Clear             Fatal   \n",
      "14996      Clear  Natural Light    Clear  Non-Fatal Injury   \n",
      "14997      Clear  Natural Light    Clear  Non-Fatal Injury   \n",
      "14998      Clear  Natural Light    Clear  Non-Fatal Injury   \n",
      "14999      Clear  Natural Light    Clear  Non-Fatal Injury   \n",
      "\n",
      "                IMPACTYPE   INVAGE  ... AUTOMOBILE MOTORCYCLE TRUCK  \\\n",
      "0      Vehicle Collisions   Adults  ...        Yes         No    No   \n",
      "1      Vehicle Collisions   Adults  ...        Yes         No    No   \n",
      "2      Vehicle Collisions   Adults  ...        Yes         No    No   \n",
      "3      Vehicle Collisions   Adults  ...        Yes         No    No   \n",
      "4      Vehicle Collisions   Adults  ...        Yes         No    No   \n",
      "...                   ...      ...  ...        ...        ...   ...   \n",
      "14995       Special Cases  Unknown  ...        Yes         No    No   \n",
      "14996       Special Cases   Adults  ...        Yes         No    No   \n",
      "14997       Special Cases   Adults  ...        Yes         No    No   \n",
      "14998       Special Cases   Adults  ...        Yes         No    No   \n",
      "14999       Special Cases   Adults  ...        Yes         No    No   \n",
      "\n",
      "      TRSN_CITY_VEH EMERG_VEH PASSENGER SPEEDING REDLIGHT ALCOHOL DISABILITY  \n",
      "0                No        No       Yes      Yes       No     Yes         No  \n",
      "1                No        No       Yes      Yes       No     Yes         No  \n",
      "2                No        No       Yes      Yes       No     Yes         No  \n",
      "3                No        No       Yes      Yes       No     Yes         No  \n",
      "4                No        No       Yes      Yes       No     Yes         No  \n",
      "...             ...       ...       ...      ...      ...     ...        ...  \n",
      "14995            No        No        No       No      Yes      No         No  \n",
      "14996            No        No        No       No       No      No         No  \n",
      "14997            No        No        No       No       No      No         No  \n",
      "14998            No        No        No       No       No      No         No  \n",
      "14999            No        No        No       No       No      No         No  \n",
      "\n",
      "[14584 rows x 22 columns]\n"
     ]
    }
   ],
   "source": [
    "# Define mapping functions for each feature\n",
    "def group_age(age):\n",
    "    if age in ['0 to 4', '5 to 9', '10 to 14']:\n",
    "        return 'Children'\n",
    "    elif age in ['15 to 19', '20 to 24', '25 to 29', '30 to 34', '35 to 39',\n",
    "                 '40 to 44', '45 to 49', '50 to 54', '55 to 59', '60 to 64']:\n",
    "        return 'Adults'\n",
    "    elif age in ['65 to 69', '70 to 74', '75 to 79', '80 to 84', '85 to 89',\n",
    "                 '90 to 94', 'Over 95']:\n",
    "        return 'Seniors'\n",
    "    else:\n",
    "        return 'Unknown'\n",
    "\n",
    "def map_road_class(value):\n",
    "    if value in ['Major Arterial', 'Minor Arterial']:\n",
    "        return 'Arterials'\n",
    "    elif value in ['Expressway', 'Expressway Ramp']:\n",
    "        return 'Expressways'\n",
    "    elif value in ['Collector', 'Local', 'Laneway']:\n",
    "        return 'Local Roads'\n",
    "    else:\n",
    "        return 'Other'\n",
    "\n",
    "def map_traffctl(value):\n",
    "    if value == 'No Control':\n",
    "        return 'No Control'\n",
    "    elif value in ['Traffic Signal', 'Traffic Gate']:\n",
    "        return 'Automated Control'\n",
    "    elif value in ['Stop Sign', 'Yield Sign', 'Pedestrian Crossover']:\n",
    "        return 'Signage'\n",
    "    elif value in ['Traffic Controller', 'School Guard', 'Police Control']:\n",
    "        return 'Human Control'\n",
    "    else:\n",
    "        return 'Other'\n",
    "\n",
    "def map_visibility(value):\n",
    "    if value == 'Clear':\n",
    "        return 'Clear'\n",
    "    elif value in ['Snow', 'Rain', 'Fog, Mist, Smoke, Dust', 'Drifting Snow', 'Freezing Rain']:\n",
    "        return 'Obstructed'\n",
    "    else:\n",
    "        return 'Other'\n",
    "\n",
    "def map_light(value):\n",
    "    if value in ['Daylight', 'Dusk', 'Dawn']:\n",
    "        return 'Natural Light'\n",
    "    elif value in ['Dark, artificial', 'Dusk, artificial', 'Dawn, artificial', 'Daylight, artificial']:\n",
    "        return 'Artificial Light'\n",
    "    elif value == 'Dark':\n",
    "        return 'Dark'\n",
    "    else:\n",
    "        return 'Other'\n",
    "\n",
    "def map_rdsfcond(value):\n",
    "    if value == 'Dry':\n",
    "        return 'Clear'\n",
    "    elif value in ['Wet', 'Slush', 'Loose Snow', 'Packed Snow', 'Spilled liquid', 'Loose Sand or Gravel']:\n",
    "        return 'Wet'\n",
    "    elif value == 'Ice':\n",
    "        return 'Icy'\n",
    "    else:\n",
    "        return 'Other'\n",
    "\n",
    "def map_impactype(value):\n",
    "    if value in ['Approaching', 'Rear End', 'Sideswipe', 'Angle', 'Turning Movement']:\n",
    "        return 'Vehicle Collisions'\n",
    "    elif value in ['Pedestrian Collisions', 'Cyclist Collisions']:\n",
    "        return 'Special Cases'\n",
    "    elif value in ['SMV Other', 'SMV Unattended Vehicle']:\n",
    "        return 'Static or Other Objects'\n",
    "    else:\n",
    "        return 'Other'\n",
    "\n",
    "# Apply mapping functions\n",
    "def apply_group_mapping(df):\n",
    "    # Apply the mapping function to group\n",
    "    df['INVAGE'] = df['INVAGE'].apply(group_age)\n",
    "    df['ROAD_CLASS'] = df['ROAD_CLASS'].apply(map_road_class)\n",
    "    df['TRAFFCTL'] = df['TRAFFCTL'].apply(map_traffctl)\n",
    "    df['VISIBILITY'] = df['VISIBILITY'].apply(map_visibility)\n",
    "    df['LIGHT'] = df['LIGHT'].apply(map_light)\n",
    "    df['RDSFCOND'] = df['RDSFCOND'].apply(map_rdsfcond)\n",
    "    df['IMPACTYPE'] = df['IMPACTYPE'].apply(map_impactype)\n",
    "    return df\n",
    "\n",
    "train_df = apply_group_mapping(train_df)\n",
    "test_df = apply_group_mapping(test_df)\n",
    "\n",
    "# Print the DataFrame to verify the grouping\n",
    "print(train_df)\n"
   ]
  },
  {
   "cell_type": "code",
   "execution_count": 328,
   "id": "1c98c401",
   "metadata": {},
   "outputs": [
    {
     "name": "stdout",
     "output_type": "stream",
     "text": [
      "1. unique value number in OBJECTID : 14584 \n",
      "\n",
      "1. unique value in OBJECTID: [    1     2     3 ... 14998 14999 15000] \n",
      "\n",
      "----------------------------------------------------------------------\n",
      "2. unique value number in ROAD_CLASS : 4 \n",
      "\n",
      "2. unique value in ROAD_CLASS: ['Arterials' 'Local Roads' 'Other' 'Expressways'] \n",
      "\n",
      "----------------------------------------------------------------------\n",
      "3. unique value number in DISTRICT : 4 \n",
      "\n",
      "3. unique value in DISTRICT: ['Toronto and East York' 'North York' 'Scarborough' 'Etobicoke York'] \n",
      "\n",
      "----------------------------------------------------------------------\n",
      "4. unique value number in TRAFFCTL : 5 \n",
      "\n",
      "4. unique value in TRAFFCTL: ['No Control' 'Automated Control' 'Signage' 'Human Control' 'Other'] \n",
      "\n",
      "----------------------------------------------------------------------\n",
      "5. unique value number in VISIBILITY : 3 \n",
      "\n",
      "5. unique value in VISIBILITY: ['Clear' 'Obstructed' 'Other'] \n",
      "\n",
      "----------------------------------------------------------------------\n",
      "6. unique value number in LIGHT : 4 \n",
      "\n",
      "6. unique value in LIGHT: ['Dark' 'Artificial Light' 'Natural Light' 'Other'] \n",
      "\n",
      "----------------------------------------------------------------------\n",
      "7. unique value number in RDSFCOND : 4 \n",
      "\n",
      "7. unique value in RDSFCOND: ['Wet' 'Clear' 'Icy' 'Other'] \n",
      "\n",
      "----------------------------------------------------------------------\n",
      "8. unique value number in ACCLASS : 2 \n",
      "\n",
      "8. unique value in ACCLASS: ['Non-Fatal Injury' 'Fatal'] \n",
      "\n",
      "----------------------------------------------------------------------\n",
      "9. unique value number in IMPACTYPE : 4 \n",
      "\n",
      "9. unique value in IMPACTYPE: ['Vehicle Collisions' 'Static or Other Objects' 'Special Cases' 'Other'] \n",
      "\n",
      "----------------------------------------------------------------------\n",
      "10. unique value number in INVAGE : 4 \n",
      "\n",
      "10. unique value in INVAGE: ['Adults' 'Unknown' 'Children' 'Seniors'] \n",
      "\n",
      "----------------------------------------------------------------------\n",
      "11. unique value number in INJURY : 5 \n",
      "\n",
      "11. unique value in INJURY: ['Major' 'Minor' 'No' 'Fatal' 'Minimal'] \n",
      "\n",
      "----------------------------------------------------------------------\n",
      "12. unique value number in CYCLIST : 2 \n",
      "\n",
      "12. unique value in CYCLIST: ['No' 'Yes'] \n",
      "\n",
      "----------------------------------------------------------------------\n",
      "13. unique value number in AUTOMOBILE : 2 \n",
      "\n",
      "13. unique value in AUTOMOBILE: ['Yes' 'No'] \n",
      "\n",
      "----------------------------------------------------------------------\n",
      "14. unique value number in MOTORCYCLE : 2 \n",
      "\n",
      "14. unique value in MOTORCYCLE: ['No' 'Yes'] \n",
      "\n",
      "----------------------------------------------------------------------\n",
      "15. unique value number in TRUCK : 2 \n",
      "\n",
      "15. unique value in TRUCK: ['No' 'Yes'] \n",
      "\n",
      "----------------------------------------------------------------------\n",
      "16. unique value number in TRSN_CITY_VEH : 2 \n",
      "\n",
      "16. unique value in TRSN_CITY_VEH: ['No' 'Yes'] \n",
      "\n",
      "----------------------------------------------------------------------\n",
      "17. unique value number in EMERG_VEH : 2 \n",
      "\n",
      "17. unique value in EMERG_VEH: ['No' 'Yes'] \n",
      "\n",
      "----------------------------------------------------------------------\n",
      "18. unique value number in PASSENGER : 2 \n",
      "\n",
      "18. unique value in PASSENGER: ['Yes' 'No'] \n",
      "\n",
      "----------------------------------------------------------------------\n",
      "19. unique value number in SPEEDING : 2 \n",
      "\n",
      "19. unique value in SPEEDING: ['Yes' 'No'] \n",
      "\n",
      "----------------------------------------------------------------------\n",
      "20. unique value number in REDLIGHT : 2 \n",
      "\n",
      "20. unique value in REDLIGHT: ['No' 'Yes'] \n",
      "\n",
      "----------------------------------------------------------------------\n",
      "21. unique value number in ALCOHOL : 2 \n",
      "\n",
      "21. unique value in ALCOHOL: ['Yes' 'No'] \n",
      "\n",
      "----------------------------------------------------------------------\n",
      "22. unique value number in DISABILITY : 2 \n",
      "\n",
      "22. unique value in DISABILITY: ['No' 'Yes'] \n",
      "\n",
      "----------------------------------------------------------------------\n"
     ]
    }
   ],
   "source": [
    "count_func()"
   ]
  },
  {
   "cell_type": "markdown",
   "id": "8d0368e4",
   "metadata": {},
   "source": [
    "### Categorical to numerical mapping"
   ]
  },
  {
   "cell_type": "code",
   "execution_count": 329,
   "id": "93a70830",
   "metadata": {},
   "outputs": [
    {
     "data": {
      "text/plain": [
       "Index(['OBJECTID', 'ROAD_CLASS', 'DISTRICT', 'TRAFFCTL', 'VISIBILITY', 'LIGHT',\n",
       "       'RDSFCOND', 'IMPACTYPE', 'INVAGE', 'INJURY', 'CYCLIST', 'AUTOMOBILE',\n",
       "       'MOTORCYCLE', 'TRUCK', 'TRSN_CITY_VEH', 'EMERG_VEH', 'PASSENGER',\n",
       "       'SPEEDING', 'REDLIGHT', 'ALCOHOL', 'DISABILITY'],\n",
       "      dtype='object')"
      ]
     },
     "execution_count": 329,
     "metadata": {},
     "output_type": "execute_result"
    }
   ],
   "source": [
    "test_df.columns"
   ]
  },
  {
   "cell_type": "code",
   "execution_count": 330,
   "id": "0e6142fc",
   "metadata": {},
   "outputs": [],
   "source": [
    "categorical_columns = ['ROAD_CLASS', 'DISTRICT', 'TRAFFCTL', 'VISIBILITY', 'LIGHT', 'RDSFCOND', 'IMPACTYPE']\n",
    "boolean_columns = ['CYCLIST', 'AUTOMOBILE', 'MOTORCYCLE', 'TRUCK', 'TRSN_CITY_VEH', 'EMERG_VEH', 'PASSENGER',\n",
    "       'SPEEDING', 'REDLIGHT', 'ALCOHOL', 'DISABILITY']\n",
    "ordinal_columns = ['INVAGE', 'INJURY']\n",
    "\n",
    "# Define the order for ordinal encoding\n",
    "age_order = ['Unknown','Children', 'Adults', 'Seniors']\n",
    "injury_order = ['No', 'Minimal', 'Minor', 'Major', 'Fatal']"
   ]
  },
  {
   "cell_type": "code",
   "execution_count": 331,
   "id": "821200ff",
   "metadata": {},
   "outputs": [
    {
     "name": "stdout",
     "output_type": "stream",
     "text": [
      "      ROAD_CLASS_Arterials  ROAD_CLASS_Expressways  ROAD_CLASS_Local Roads  \\\n",
      "0                      1.0                     0.0                     0.0   \n",
      "1                      1.0                     0.0                     0.0   \n",
      "2                      1.0                     0.0                     0.0   \n",
      "3                      1.0                     0.0                     0.0   \n",
      "4                      1.0                     0.0                     0.0   \n",
      "...                    ...                     ...                     ...   \n",
      "3951                   1.0                     0.0                     0.0   \n",
      "3952                   1.0                     0.0                     0.0   \n",
      "3953                   1.0                     0.0                     0.0   \n",
      "3954                   0.0                     0.0                     1.0   \n",
      "3955                   0.0                     0.0                     1.0   \n",
      "\n",
      "      ROAD_CLASS_Other  DISTRICT_Etobicoke York  DISTRICT_North York  \\\n",
      "0                  0.0                      0.0                  0.0   \n",
      "1                  0.0                      0.0                  0.0   \n",
      "2                  0.0                      0.0                  0.0   \n",
      "3                  0.0                      0.0                  0.0   \n",
      "4                  0.0                      1.0                  0.0   \n",
      "...                ...                      ...                  ...   \n",
      "3951               0.0                      0.0                  0.0   \n",
      "3952               0.0                      0.0                  0.0   \n",
      "3953               0.0                      0.0                  0.0   \n",
      "3954               0.0                      0.0                  0.0   \n",
      "3955               0.0                      0.0                  0.0   \n",
      "\n",
      "      DISTRICT_Scarborough  DISTRICT_Toronto and East York  \\\n",
      "0                      1.0                             0.0   \n",
      "1                      1.0                             0.0   \n",
      "2                      1.0                             0.0   \n",
      "3                      1.0                             0.0   \n",
      "4                      0.0                             0.0   \n",
      "...                    ...                             ...   \n",
      "3951                   0.0                             1.0   \n",
      "3952                   0.0                             1.0   \n",
      "3953                   0.0                             1.0   \n",
      "3954                   1.0                             0.0   \n",
      "3955                   1.0                             0.0   \n",
      "\n",
      "      TRAFFCTL_Automated Control  TRAFFCTL_Human Control  ...  TRSN_CITY_VEH  \\\n",
      "0                            0.0                     0.0  ...            0.0   \n",
      "1                            0.0                     0.0  ...            0.0   \n",
      "2                            1.0                     0.0  ...            0.0   \n",
      "3                            1.0                     0.0  ...            0.0   \n",
      "4                            0.0                     0.0  ...            0.0   \n",
      "...                          ...                     ...  ...            ...   \n",
      "3951                         1.0                     0.0  ...            0.0   \n",
      "3952                         0.0                     0.0  ...            0.0   \n",
      "3953                         0.0                     0.0  ...            0.0   \n",
      "3954                         0.0                     0.0  ...            0.0   \n",
      "3955                         0.0                     0.0  ...            0.0   \n",
      "\n",
      "      EMERG_VEH  PASSENGER  SPEEDING  REDLIGHT  ALCOHOL  DISABILITY  INVAGE  \\\n",
      "0           0.0        0.0       0.0       0.0      0.0         0.0     0.0   \n",
      "1           0.0        0.0       0.0       0.0      0.0         0.0     3.0   \n",
      "2           0.0        0.0       0.0       0.0      0.0         0.0     0.0   \n",
      "3           0.0        0.0       0.0       0.0      0.0         0.0     2.0   \n",
      "4           0.0        0.0       0.0       0.0      0.0         0.0     2.0   \n",
      "...         ...        ...       ...       ...      ...         ...     ...   \n",
      "3951        0.0        0.0       0.0       0.0      0.0         0.0     2.0   \n",
      "3952        0.0        0.0       0.0       0.0      0.0         0.0     3.0   \n",
      "3953        0.0        0.0       0.0       0.0      0.0         0.0     2.0   \n",
      "3954        0.0        0.0       0.0       0.0      0.0         0.0     3.0   \n",
      "3955        0.0        0.0       0.0       0.0      0.0         0.0     2.0   \n",
      "\n",
      "      INJURY  OBJECT_ID  \n",
      "0        0.0    15001.0  \n",
      "1        4.0    15002.0  \n",
      "2        0.0    15003.0  \n",
      "3        3.0    15004.0  \n",
      "4        0.0    15005.0  \n",
      "...      ...        ...  \n",
      "3951     3.0    18953.0  \n",
      "3952     4.0    18954.0  \n",
      "3953     0.0    18955.0  \n",
      "3954     0.0    18956.0  \n",
      "3955     3.0    18957.0  \n",
      "\n",
      "[3956 rows x 41 columns]\n",
      "      ROAD_CLASS_Arterials ROAD_CLASS_Expressways ROAD_CLASS_Local Roads  \\\n",
      "0                      1.0                    0.0                    0.0   \n",
      "1                      1.0                    0.0                    0.0   \n",
      "2                      1.0                    0.0                    0.0   \n",
      "3                      1.0                    0.0                    0.0   \n",
      "4                      1.0                    0.0                    0.0   \n",
      "...                    ...                    ...                    ...   \n",
      "14579                  1.0                    0.0                    0.0   \n",
      "14580                  1.0                    0.0                    0.0   \n",
      "14581                  1.0                    0.0                    0.0   \n",
      "14582                  1.0                    0.0                    0.0   \n",
      "14583                  1.0                    0.0                    0.0   \n",
      "\n",
      "      ROAD_CLASS_Other DISTRICT_Etobicoke York DISTRICT_North York  \\\n",
      "0                  0.0                     0.0                 0.0   \n",
      "1                  0.0                     0.0                 0.0   \n",
      "2                  0.0                     0.0                 0.0   \n",
      "3                  0.0                     0.0                 0.0   \n",
      "4                  0.0                     0.0                 0.0   \n",
      "...                ...                     ...                 ...   \n",
      "14579              0.0                     0.0                 0.0   \n",
      "14580              0.0                     0.0                 0.0   \n",
      "14581              0.0                     0.0                 0.0   \n",
      "14582              0.0                     0.0                 0.0   \n",
      "14583              0.0                     0.0                 0.0   \n",
      "\n",
      "      DISTRICT_Scarborough DISTRICT_Toronto and East York  \\\n",
      "0                      0.0                            1.0   \n",
      "1                      0.0                            1.0   \n",
      "2                      0.0                            1.0   \n",
      "3                      0.0                            1.0   \n",
      "4                      0.0                            1.0   \n",
      "...                    ...                            ...   \n",
      "14579                  1.0                            0.0   \n",
      "14580                  0.0                            1.0   \n",
      "14581                  0.0                            1.0   \n",
      "14582                  1.0                            0.0   \n",
      "14583                  1.0                            0.0   \n",
      "\n",
      "      TRAFFCTL_Automated Control TRAFFCTL_Human Control  ... EMERG_VEH  \\\n",
      "0                            0.0                    0.0  ...         0   \n",
      "1                            0.0                    0.0  ...         0   \n",
      "2                            0.0                    0.0  ...         0   \n",
      "3                            0.0                    0.0  ...         0   \n",
      "4                            0.0                    0.0  ...         0   \n",
      "...                          ...                    ...  ...       ...   \n",
      "14579                        1.0                    0.0  ...         0   \n",
      "14580                        0.0                    0.0  ...         0   \n",
      "14581                        0.0                    0.0  ...         0   \n",
      "14582                        1.0                    0.0  ...         0   \n",
      "14583                        1.0                    0.0  ...         0   \n",
      "\n",
      "      PASSENGER SPEEDING REDLIGHT ALCOHOL DISABILITY INVAGE INJURY OBJECT_ID  \\\n",
      "0             1        1        0       1          0    2.0    3.0         1   \n",
      "1             1        1        0       1          0    2.0    2.0         2   \n",
      "2             1        1        0       1          0    2.0    2.0         3   \n",
      "3             1        1        0       1          0    2.0    2.0         4   \n",
      "4             1        1        0       1          0    2.0    2.0         5   \n",
      "...         ...      ...      ...     ...        ...    ...    ...       ...   \n",
      "14579         0        0        1       0          0    0.0    0.0     14996   \n",
      "14580         0        0        0       0          0    2.0    0.0     14997   \n",
      "14581         0        0        0       0          0    2.0    3.0     14998   \n",
      "14582         0        0        0       0          0    2.0    3.0     14999   \n",
      "14583         0        0        0       0          0    2.0    0.0     15000   \n",
      "\n",
      "                ACCLASS  \n",
      "0      Non-Fatal Injury  \n",
      "1      Non-Fatal Injury  \n",
      "2      Non-Fatal Injury  \n",
      "3      Non-Fatal Injury  \n",
      "4      Non-Fatal Injury  \n",
      "...                 ...  \n",
      "14579             Fatal  \n",
      "14580  Non-Fatal Injury  \n",
      "14581  Non-Fatal Injury  \n",
      "14582  Non-Fatal Injury  \n",
      "14583  Non-Fatal Injury  \n",
      "\n",
      "[14584 rows x 43 columns]\n"
     ]
    }
   ],
   "source": [
    "import pandas as pd\n",
    "from sklearn.compose import ColumnTransformer\n",
    "from sklearn.preprocessing import OrdinalEncoder, OneHotEncoder\n",
    "from sklearn.pipeline import Pipeline\n",
    "from sklearn.impute import SimpleImputer\n",
    "from sklearn.preprocessing import FunctionTransformer\n",
    "from sklearn.base import BaseEstimator, TransformerMixin\n",
    "\n",
    "class YesNoToBinary(BaseEstimator, TransformerMixin):\n",
    "    def fit(self, X, y=None):\n",
    "        return self\n",
    "\n",
    "    def transform(self, X):\n",
    "        # Convert 'Yes' to 1 and 'No' to 0\n",
    "        return np.where(X == 'Yes', 1, 0)\n",
    "    \n",
    "# Define the order for ordinal encoding\n",
    "age_order = ['Unknown', 'Children', 'Adults', 'Seniors']\n",
    "injury_order = ['No', 'Minimal', 'Minor', 'Major', 'Fatal']\n",
    "\n",
    "def cat_to_num(df, train):\n",
    "    # define if the input df is the training or test to include the \"ACCLASS\" feature\n",
    "    static_labels = []\n",
    "    \n",
    "    if train == True:\n",
    "        static_labels = ['OBJECT_ID','ACCLASS']\n",
    "    else:\n",
    "        static_labels = ['OBJECT_ID']\n",
    "    \n",
    "    # Define the transformers\n",
    "    preprocessor = ColumnTransformer(\n",
    "        transformers=[\n",
    "            ('categorical', Pipeline(steps=[\n",
    "                ('imputer', SimpleImputer(strategy='most_frequent')),  # Impute missing values with the most frequent value\n",
    "                ('onehot', OneHotEncoder(handle_unknown='ignore'))  # One-hot encode categorical variables\n",
    "            ]), ['ROAD_CLASS', 'DISTRICT', 'TRAFFCTL', 'VISIBILITY', 'LIGHT', 'RDSFCOND', 'IMPACTYPE']),\n",
    "            \n",
    "            ('boolean', Pipeline(steps=[\n",
    "                ('imputer', SimpleImputer(strategy='constant', fill_value='No')),  # Replace missing values with 'No'\n",
    "                ('binary', YesNoToBinary())  # Convert 'Yes'/'No' to 1/0\n",
    "            ]), ['CYCLIST', 'AUTOMOBILE', 'MOTORCYCLE', 'TRUCK', 'TRSN_CITY_VEH', 'EMERG_VEH', 'PASSENGER',\n",
    "                'SPEEDING', 'REDLIGHT', 'ALCOHOL', 'DISABILITY']),\n",
    "            \n",
    "            ('ordinal', Pipeline(steps=[\n",
    "                ('imputer', SimpleImputer(strategy='most_frequent')),  # Impute missing values with the most frequent value\n",
    "                ('ordinal', OrdinalEncoder(categories=[age_order, injury_order]))  # Ordinal encode age and injury\n",
    "            ]), ['INVAGE', 'INJURY'])\n",
    "        ],\n",
    "    remainder='passthrough'  # This ensures that columns not specified in transformers will be included unchanged\n",
    "    )\n",
    "\n",
    "    # Fit and transform the data\n",
    "    transformed_df = preprocessor.fit_transform(df)\n",
    "\n",
    "    # Convert the result back to DataFrame if needed\n",
    "    # Get feature names from OneHotEncoder\n",
    "    onehot_feature_names = preprocessor.named_transformers_['categorical'].named_steps['onehot'].get_feature_names_out(['ROAD_CLASS', 'DISTRICT', 'TRAFFCTL', 'VISIBILITY', 'LIGHT', 'RDSFCOND', 'IMPACTYPE'])\n",
    "\n",
    "    # Combine feature names\n",
    "    feature_names = (list(onehot_feature_names) +\n",
    "                    ['CYCLIST', 'AUTOMOBILE', 'MOTORCYCLE', 'TRUCK', 'TRSN_CITY_VEH', 'EMERG_VEH', 'PASSENGER',\n",
    "                    'SPEEDING', 'REDLIGHT', 'ALCOHOL', 'DISABILITY'] +\n",
    "                    ['INVAGE', 'INJURY'] +\n",
    "                     static_labels)\n",
    "\n",
    "    # Create DataFrame with new feature names\n",
    "    transformed_df = pd.DataFrame(transformed_df, columns=feature_names)\n",
    "\n",
    "    # Print the transformed DataFrame\n",
    "    print(transformed_df)\n",
    "    \n",
    "    return transformed_df\n",
    "    \n",
    "new_train_df = train_df.copy()\n",
    "new_test_df = test_df.copy()\n",
    "\n",
    "new_train_df = new_train_df.reindex(train_df.index)\n",
    "new_test_df = new_test_df.reindex(test_df.index)\n",
    "\n",
    "new_test_df = cat_to_num(new_test_df, train= False)\n",
    "new_train_df = cat_to_num(new_train_df, train = True)"
   ]
  },
  {
   "cell_type": "code",
   "execution_count": 332,
   "id": "84779ca5",
   "metadata": {},
   "outputs": [
    {
     "data": {
      "text/plain": [
       "(3956, 41)"
      ]
     },
     "execution_count": 332,
     "metadata": {},
     "output_type": "execute_result"
    }
   ],
   "source": [
    "new_test_df.shape"
   ]
  },
  {
   "cell_type": "code",
   "execution_count": 333,
   "id": "d4f612f0",
   "metadata": {},
   "outputs": [
    {
     "data": {
      "text/plain": [
       "(14584, 43)"
      ]
     },
     "execution_count": 333,
     "metadata": {},
     "output_type": "execute_result"
    }
   ],
   "source": [
    "new_train_df.shape"
   ]
  },
  {
   "cell_type": "markdown",
   "id": "9887735a",
   "metadata": {},
   "source": [
    "Because there were no values for TRAFFCTL_Other in the validation dataframe, this feature was not created. Because of that, we will create the column and fill it with zeros to match the shape of the train data that will determine the input shape for the neural network model"
   ]
  },
  {
   "cell_type": "code",
   "execution_count": 334,
   "id": "1149d93f",
   "metadata": {},
   "outputs": [
    {
     "name": "stdout",
     "output_type": "stream",
     "text": [
      "Columns only in df1: {'ACCLASS', 'TRAFFCTL_Other'}\n"
     ]
    }
   ],
   "source": [
    "# Get the columns in df1 but not in df2\n",
    "columns_only_in_df1 = set(new_train_df.columns) - set(new_test_df.columns)\n",
    "\n",
    "print(\"Columns only in df1:\", columns_only_in_df1)\n"
   ]
  },
  {
   "cell_type": "markdown",
   "id": "e6371d70",
   "metadata": {},
   "source": [
    "We added it in the same location that the train dataset so both have same index in the columns"
   ]
  },
  {
   "cell_type": "code",
   "execution_count": 335,
   "id": "18eae32e",
   "metadata": {},
   "outputs": [
    {
     "name": "stdout",
     "output_type": "stream",
     "text": [
      "Position of column 'TRAFFCTL_Other': 11\n"
     ]
    }
   ],
   "source": [
    "# Find the position of column 'TRAFFCTL_Other'\n",
    "position = new_train_df.columns.get_loc('TRAFFCTL_Other')\n",
    "print(f\"Position of column 'TRAFFCTL_Other': {position}\")"
   ]
  },
  {
   "cell_type": "code",
   "execution_count": 336,
   "id": "2a9df9c2",
   "metadata": {},
   "outputs": [
    {
     "data": {
      "text/plain": [
       "0       0\n",
       "1       0\n",
       "2       0\n",
       "3       0\n",
       "4       0\n",
       "       ..\n",
       "3951    0\n",
       "3952    0\n",
       "3953    0\n",
       "3954    0\n",
       "3955    0\n",
       "Name: TRAFFCTL_Other, Length: 3956, dtype: int64"
      ]
     },
     "execution_count": 336,
     "metadata": {},
     "output_type": "execute_result"
    }
   ],
   "source": [
    "# Insert the new column at the same position as column 'TRAFFCTL_Other' in df\n",
    "\n",
    "new_column = [0] * len(new_test_df)  # Create a list of zeros with that length\n",
    "new_test_df.insert(position, 'TRAFFCTL_Other', new_column)\n",
    "\n",
    "new_test_df['TRAFFCTL_Other']"
   ]
  },
  {
   "cell_type": "code",
   "execution_count": 337,
   "id": "8f3a5ee9",
   "metadata": {},
   "outputs": [
    {
     "name": "stdout",
     "output_type": "stream",
     "text": [
      "Columns order match between df1 and df2: True\n"
     ]
    }
   ],
   "source": [
    "# Compare columns order between new_train_df and new_test_df\n",
    "columns_match_1 = new_train_df.drop(columns=['ACCLASS']).columns.equals(new_test_df.columns)\n",
    "print(f\"Columns order match between df1 and df2: {columns_match_1}\")"
   ]
  },
  {
   "cell_type": "markdown",
   "id": "6acfdda8",
   "metadata": {},
   "source": [
    "Now we only have one column different that is the labels, that are not available for the validation test."
   ]
  },
  {
   "cell_type": "code",
   "execution_count": 338,
   "id": "ab31cf40",
   "metadata": {},
   "outputs": [
    {
     "name": "stdout",
     "output_type": "stream",
     "text": [
      "(14584, 43)\n"
     ]
    }
   ],
   "source": [
    "print(new_train_df.shape)"
   ]
  },
  {
   "cell_type": "code",
   "execution_count": 339,
   "id": "de497f6b",
   "metadata": {},
   "outputs": [
    {
     "data": {
      "text/plain": [
       "(3956, 42)"
      ]
     },
     "execution_count": 339,
     "metadata": {},
     "output_type": "execute_result"
    }
   ],
   "source": [
    "new_test_df.shape"
   ]
  },
  {
   "cell_type": "markdown",
   "id": "5a6b3ad0",
   "metadata": {},
   "source": [
    "## Mapping"
   ]
  },
  {
   "cell_type": "markdown",
   "id": "d954fdf5",
   "metadata": {},
   "source": [
    "In this we made a function that maps the INVAGE column (age) to numerical indices so that we can use it in the predictions. We are using the map function for mapping it."
   ]
  },
  {
   "cell_type": "markdown",
   "id": "60bb8173",
   "metadata": {},
   "source": [
    "Making manual mapping in target feature so that we can use it in prediction (encoding) "
   ]
  },
  {
   "cell_type": "markdown",
   "id": "77dd510c",
   "metadata": {},
   "source": [
    "#TODO add ACLASS without NaN and add object_id to both train and test df"
   ]
  },
  {
   "cell_type": "code",
   "execution_count": 340,
   "id": "6ecd4e13",
   "metadata": {},
   "outputs": [
    {
     "data": {
      "text/plain": [
       "array(['Non-Fatal Injury', 'Fatal'], dtype=object)"
      ]
     },
     "execution_count": 340,
     "metadata": {},
     "output_type": "execute_result"
    }
   ],
   "source": [
    "new_train_df['ACCLASS'].unique()"
   ]
  },
  {
   "cell_type": "code",
   "execution_count": 341,
   "id": "85cd279b",
   "metadata": {},
   "outputs": [
    {
     "data": {
      "text/plain": [
       "0"
      ]
     },
     "execution_count": 341,
     "metadata": {},
     "output_type": "execute_result"
    }
   ],
   "source": [
    "train_df['ACCLASS'].isnull().sum()"
   ]
  },
  {
   "cell_type": "code",
   "execution_count": 342,
   "id": "26f6b059-4040-4f67-9149-0b4fa0eb4a59",
   "metadata": {},
   "outputs": [],
   "source": [
    "# Mapping the target feature\n",
    "new_train_df['ACCLASS'] = new_train_df['ACCLASS'].map({'Non-Fatal Injury': 0, 'Fatal': 1})"
   ]
  },
  {
   "cell_type": "code",
   "execution_count": 343,
   "id": "ea7f8907",
   "metadata": {},
   "outputs": [
    {
     "data": {
      "text/plain": [
       "array([0, 1], dtype=int64)"
      ]
     },
     "execution_count": 343,
     "metadata": {},
     "output_type": "execute_result"
    }
   ],
   "source": [
    "new_train_df['ACCLASS'].unique()"
   ]
  },
  {
   "cell_type": "code",
   "execution_count": 344,
   "id": "e9ff9c82",
   "metadata": {},
   "outputs": [
    {
     "data": {
      "text/plain": [
       "0"
      ]
     },
     "execution_count": 344,
     "metadata": {},
     "output_type": "execute_result"
    }
   ],
   "source": [
    "new_train_df['ACCLASS'].isnull().sum()"
   ]
  },
  {
   "cell_type": "code",
   "execution_count": 345,
   "id": "0202de3e",
   "metadata": {},
   "outputs": [
    {
     "data": {
      "text/plain": [
       "(14584,)"
      ]
     },
     "execution_count": 345,
     "metadata": {},
     "output_type": "execute_result"
    }
   ],
   "source": [
    "train_df['ACCLASS'].shape"
   ]
  },
  {
   "cell_type": "code",
   "execution_count": 346,
   "id": "9a0f0986",
   "metadata": {},
   "outputs": [
    {
     "data": {
      "text/plain": [
       "(14584,)"
      ]
     },
     "execution_count": 346,
     "metadata": {},
     "output_type": "execute_result"
    }
   ],
   "source": [
    "new_train_df['ACCLASS'].shape"
   ]
  },
  {
   "cell_type": "markdown",
   "id": "3db5fe71",
   "metadata": {},
   "source": [
    "## Train_test split"
   ]
  },
  {
   "cell_type": "code",
   "execution_count": 347,
   "id": "a9f3ba78",
   "metadata": {},
   "outputs": [],
   "source": [
    "X = new_train_df.drop(columns=['ACCLASS', 'OBJECT_ID'])\n",
    "y = new_train_df['ACCLASS']"
   ]
  },
  {
   "cell_type": "code",
   "execution_count": 348,
   "id": "e063583b",
   "metadata": {},
   "outputs": [
    {
     "data": {
      "text/plain": [
       "(14584, 41)"
      ]
     },
     "execution_count": 348,
     "metadata": {},
     "output_type": "execute_result"
    }
   ],
   "source": [
    "X.shape"
   ]
  },
  {
   "cell_type": "code",
   "execution_count": 349,
   "id": "4077e352",
   "metadata": {},
   "outputs": [],
   "source": [
    "# same for val set\n",
    "X_val = new_test_df.drop(columns=['OBJECT_ID'])"
   ]
  },
  {
   "cell_type": "code",
   "execution_count": 350,
   "id": "fdb0abd0",
   "metadata": {},
   "outputs": [
    {
     "data": {
      "text/plain": [
       "(3956, 41)"
      ]
     },
     "execution_count": 350,
     "metadata": {},
     "output_type": "execute_result"
    }
   ],
   "source": [
    "X_val.shape"
   ]
  },
  {
   "cell_type": "code",
   "execution_count": 351,
   "id": "0102d282",
   "metadata": {},
   "outputs": [],
   "source": [
    "X_train,X_test,y_train,y_test = train_test_split(X, y, test_size=0.2,random_state=42)"
   ]
  },
  {
   "cell_type": "markdown",
   "id": "5afdbe40",
   "metadata": {},
   "source": [
    "## Conversion to an acceptable format for TensorFlow"
   ]
  },
  {
   "cell_type": "code",
   "execution_count": 352,
   "id": "85f7cd67",
   "metadata": {},
   "outputs": [],
   "source": [
    "# Convert to float32\n",
    "X_train = np.array(X_train, dtype=np.float32)\n",
    "y_train = np.array(y_train, dtype=np.float32)\n",
    "X_test = np.array(X_test, dtype=np.float32)\n",
    "y_test = np.array(y_test, dtype=np.float32)\n"
   ]
  },
  {
   "cell_type": "code",
   "execution_count": 353,
   "id": "576f70ee",
   "metadata": {},
   "outputs": [],
   "source": [
    "X_val = np.array(X_val, dtype=np.float32)"
   ]
  },
  {
   "cell_type": "code",
   "execution_count": 354,
   "id": "98be3dfa",
   "metadata": {},
   "outputs": [
    {
     "name": "stdout",
     "output_type": "stream",
     "text": [
      "X_train shape: (11667, 41)\n",
      "y_train shape: (11667,)\n",
      "X_test shape: (2917, 41)\n",
      "y_test shape: (2917,)\n"
     ]
    }
   ],
   "source": [
    "print(\"X_train shape:\", X_train.shape)\n",
    "print(\"y_train shape:\", y_train.shape)\n",
    "print(\"X_test shape:\", X_test.shape)\n",
    "print(\"y_test shape:\", y_test.shape)"
   ]
  },
  {
   "cell_type": "code",
   "execution_count": 355,
   "id": "2fc670a3",
   "metadata": {},
   "outputs": [
    {
     "name": "stdout",
     "output_type": "stream",
     "text": [
      "X_val shape: (3956, 41)\n"
     ]
    }
   ],
   "source": [
    "print(\"X_val shape:\", X_val.shape)"
   ]
  },
  {
   "cell_type": "markdown",
   "id": "dd455233",
   "metadata": {},
   "source": [
    "## Feature importance"
   ]
  },
  {
   "cell_type": "markdown",
   "id": "7615c302",
   "metadata": {},
   "source": [
    "Before training the model we can determine the feature importance to finally choose the most important feature and reduce even more the dataset"
   ]
  },
  {
   "cell_type": "code",
   "execution_count": 356,
   "id": "73d94144",
   "metadata": {},
   "outputs": [
    {
     "name": "stdout",
     "output_type": "stream",
     "text": [
      "                              Feature  Importance\n",
      "40                             INJURY    0.436955\n",
      "39                             INVAGE    0.057199\n",
      "34                          PASSENGER    0.045032\n",
      "35                           SPEEDING    0.031190\n",
      "31                              TRUCK    0.024082\n",
      "10                TRAFFCTL_No Control    0.021167\n",
      "18                LIGHT_Natural Light    0.020993\n",
      "17                         LIGHT_Dark    0.020960\n",
      "37                            ALCOHOL    0.020314\n",
      "8          TRAFFCTL_Automated Control    0.019112\n",
      "6                DISTRICT_Scarborough    0.018868\n",
      "7      DISTRICT_Toronto and East York    0.017727\n",
      "4             DISTRICT_Etobicoke York    0.017251\n",
      "32                      TRSN_CITY_VEH    0.016990\n",
      "36                           REDLIGHT    0.016927\n",
      "16             LIGHT_Artificial Light    0.016479\n",
      "5                 DISTRICT_North York    0.015940\n",
      "28                            CYCLIST    0.014751\n",
      "25            IMPACTYPE_Special Cases    0.013911\n",
      "27       IMPACTYPE_Vehicle Collisions    0.013521\n",
      "20                     RDSFCOND_Clear    0.013136\n",
      "23                       RDSFCOND_Wet    0.012723\n",
      "29                         AUTOMOBILE    0.012628\n",
      "12                   TRAFFCTL_Signage    0.012488\n",
      "30                         MOTORCYCLE    0.012446\n",
      "0                ROAD_CLASS_Arterials    0.011959\n",
      "2              ROAD_CLASS_Local Roads    0.011733\n",
      "38                         DISABILITY    0.011557\n",
      "13                   VISIBILITY_Clear    0.010139\n",
      "26  IMPACTYPE_Static or Other Objects    0.009456\n",
      "14              VISIBILITY_Obstructed    0.009070\n",
      "22                     RDSFCOND_Other    0.004622\n",
      "15                   VISIBILITY_Other    0.003719\n",
      "24                    IMPACTYPE_Other    0.001977\n",
      "1              ROAD_CLASS_Expressways    0.001088\n",
      "9              TRAFFCTL_Human Control    0.000879\n",
      "21                       RDSFCOND_Icy    0.000637\n",
      "3                    ROAD_CLASS_Other    0.000209\n",
      "33                          EMERG_VEH    0.000088\n",
      "19                        LIGHT_Other    0.000038\n",
      "11                     TRAFFCTL_Other    0.000037\n"
     ]
    }
   ],
   "source": [
    "# Train a Random Forest model\n",
    "model = RandomForestClassifier(n_estimators=100, random_state=42)\n",
    "model.fit(X_train, y_train)\n",
    "\n",
    "# Get feature importances\n",
    "feature_importances = model.feature_importances_\n",
    "\n",
    "# Create a DataFrame for better visualization\n",
    "importance_df = pd.DataFrame({\n",
    "    'Feature': X.columns,\n",
    "    'Importance': feature_importances\n",
    "}).sort_values(by='Importance', ascending=False)\n",
    "\n",
    "print(importance_df)"
   ]
  },
  {
   "cell_type": "code",
   "execution_count": 357,
   "id": "154eaa88",
   "metadata": {},
   "outputs": [
    {
     "data": {
      "text/plain": [
       "Index(['ROAD_CLASS_Arterials', 'ROAD_CLASS_Expressways',\n",
       "       'ROAD_CLASS_Local Roads', 'ROAD_CLASS_Other', 'DISTRICT_Etobicoke York',\n",
       "       'DISTRICT_North York', 'DISTRICT_Scarborough',\n",
       "       'DISTRICT_Toronto and East York', 'TRAFFCTL_Automated Control',\n",
       "       'TRAFFCTL_Human Control', 'TRAFFCTL_No Control', 'TRAFFCTL_Other',\n",
       "       'TRAFFCTL_Signage', 'VISIBILITY_Clear', 'VISIBILITY_Obstructed',\n",
       "       'VISIBILITY_Other', 'LIGHT_Artificial Light', 'LIGHT_Dark',\n",
       "       'LIGHT_Natural Light', 'LIGHT_Other', 'RDSFCOND_Clear', 'RDSFCOND_Icy',\n",
       "       'RDSFCOND_Other', 'RDSFCOND_Wet', 'IMPACTYPE_Other',\n",
       "       'IMPACTYPE_Special Cases', 'IMPACTYPE_Static or Other Objects',\n",
       "       'IMPACTYPE_Vehicle Collisions', 'CYCLIST', 'AUTOMOBILE', 'MOTORCYCLE',\n",
       "       'TRUCK', 'TRSN_CITY_VEH', 'EMERG_VEH', 'PASSENGER', 'SPEEDING',\n",
       "       'REDLIGHT', 'ALCOHOL', 'DISABILITY', 'INVAGE', 'INJURY', 'OBJECT_ID',\n",
       "       'ACCLASS'],\n",
       "      dtype='object')"
      ]
     },
     "execution_count": 357,
     "metadata": {},
     "output_type": "execute_result"
    }
   ],
   "source": [
    "new_train_df.columns"
   ]
  },
  {
   "cell_type": "code",
   "execution_count": 358,
   "id": "dc508fd8",
   "metadata": {},
   "outputs": [
    {
     "data": {
      "text/plain": [
       "pandas.core.frame.DataFrame"
      ]
     },
     "execution_count": 358,
     "metadata": {},
     "output_type": "execute_result"
    }
   ],
   "source": [
    "type(importance_df)"
   ]
  },
  {
   "cell_type": "code",
   "execution_count": 359,
   "id": "30280adc",
   "metadata": {},
   "outputs": [
    {
     "data": {
      "text/plain": [
       "['INJURY',\n",
       " 'INVAGE',\n",
       " 'PASSENGER',\n",
       " 'SPEEDING',\n",
       " 'TRUCK',\n",
       " 'TRAFFCTL_No Control',\n",
       " 'LIGHT_Natural Light',\n",
       " 'LIGHT_Dark',\n",
       " 'ALCOHOL',\n",
       " 'TRAFFCTL_Automated Control',\n",
       " 'DISTRICT_Scarborough',\n",
       " 'DISTRICT_Toronto and East York',\n",
       " 'DISTRICT_Etobicoke York',\n",
       " 'TRSN_CITY_VEH',\n",
       " 'REDLIGHT',\n",
       " 'LIGHT_Artificial Light',\n",
       " 'DISTRICT_North York']"
      ]
     },
     "execution_count": 359,
     "metadata": {},
     "output_type": "execute_result"
    }
   ],
   "source": [
    "important_features = list(importance_df['Feature'][:17])\n",
    "important_features"
   ]
  },
  {
   "cell_type": "code",
   "execution_count": 360,
   "id": "52896032",
   "metadata": {},
   "outputs": [],
   "source": [
    "important_features_idx = list(importance_df[:17].index)"
   ]
  },
  {
   "cell_type": "code",
   "execution_count": 361,
   "id": "94d9c44a",
   "metadata": {},
   "outputs": [],
   "source": [
    "X_train2 = X_train[:,important_features_idx]\n",
    "X_test2 = X_test[:,important_features_idx]\n"
   ]
  },
  {
   "cell_type": "code",
   "execution_count": 362,
   "id": "fd6c7160",
   "metadata": {},
   "outputs": [
    {
     "data": {
      "text/plain": [
       "[40, 39, 34, 35, 31, 10, 18, 17, 37, 8, 6, 7, 4, 32, 36, 16, 5]"
      ]
     },
     "execution_count": 362,
     "metadata": {},
     "output_type": "execute_result"
    }
   ],
   "source": [
    "important_features_idx"
   ]
  },
  {
   "cell_type": "code",
   "execution_count": 363,
   "id": "4a2de82f",
   "metadata": {},
   "outputs": [
    {
     "data": {
      "text/plain": [
       "(3956, 41)"
      ]
     },
     "execution_count": 363,
     "metadata": {},
     "output_type": "execute_result"
    }
   ],
   "source": [
    "X_val.shape"
   ]
  },
  {
   "cell_type": "code",
   "execution_count": 364,
   "id": "58964b8b",
   "metadata": {},
   "outputs": [],
   "source": [
    "X_val2 = X_val[:,important_features_idx]"
   ]
  },
  {
   "cell_type": "code",
   "execution_count": 365,
   "id": "982e5056",
   "metadata": {},
   "outputs": [
    {
     "data": {
      "text/plain": [
       "(17,)"
      ]
     },
     "execution_count": 365,
     "metadata": {},
     "output_type": "execute_result"
    }
   ],
   "source": [
    "X_train2.shape[1:]"
   ]
  },
  {
   "cell_type": "code",
   "execution_count": 366,
   "id": "a5f88306",
   "metadata": {},
   "outputs": [
    {
     "data": {
      "text/plain": [
       "(11667, 17)"
      ]
     },
     "execution_count": 366,
     "metadata": {},
     "output_type": "execute_result"
    }
   ],
   "source": [
    "X_train2.shape"
   ]
  },
  {
   "cell_type": "code",
   "execution_count": 367,
   "id": "ba7c825c",
   "metadata": {},
   "outputs": [
    {
     "data": {
      "text/plain": [
       "(17,)"
      ]
     },
     "execution_count": 367,
     "metadata": {},
     "output_type": "execute_result"
    }
   ],
   "source": [
    "X_val2.shape[1:]"
   ]
  },
  {
   "cell_type": "code",
   "execution_count": 368,
   "id": "5b8cff10",
   "metadata": {},
   "outputs": [
    {
     "data": {
      "text/plain": [
       "(3956, 17)"
      ]
     },
     "execution_count": 368,
     "metadata": {},
     "output_type": "execute_result"
    }
   ],
   "source": [
    "X_val2.shape"
   ]
  },
  {
   "cell_type": "markdown",
   "id": "7a3f4490",
   "metadata": {},
   "source": [
    "# Classification with Neural Networks"
   ]
  },
  {
   "cell_type": "code",
   "execution_count": 369,
   "id": "d7c3d16b",
   "metadata": {},
   "outputs": [
    {
     "name": "stdout",
     "output_type": "stream",
     "text": [
      "TensorFlow version: 2.17.0\n"
     ]
    }
   ],
   "source": [
    "print(\"TensorFlow version:\", tf.__version__)\n",
    "\n",
    "def get_model():\n",
    "    model = Sequential([\n",
    "        keras.layers.Input(shape=X_train2.shape[1:]),\n",
    "        keras.layers.Dense(1200, activation='relu',),\n",
    "        keras.layers.Dropout(0.2),\n",
    "        keras.layers.Dense(600, activation='relu'),\n",
    "        keras.layers.Dense(300, activation='relu'),\n",
    "        keras.layers.Dropout(0.2),\n",
    "        keras.layers.Dense(1, activation='sigmoid')\n",
    "    ])\n",
    "    \n",
    "    return model"
   ]
  },
  {
   "cell_type": "code",
   "execution_count": 370,
   "id": "a6b58604",
   "metadata": {},
   "outputs": [],
   "source": [
    "'''best performance: tf_model.compile(optimizer='adamax', \n",
    "              loss=keras.losses.BinaryCrossentropy(),\n",
    "             metrics=['accuracy'])\n",
    "             17 features\n",
    "             current architecture\n",
    "             30 epochs\n",
    "             default learning rate\n",
    "             '''\n",
    "             \n",
    "tf_model = get_model()\n",
    "\n",
    "# Compile the model\n",
    "tf_model.compile(optimizer='adamax', \n",
    "              loss=keras.losses.BinaryCrossentropy(),\n",
    "             metrics=['accuracy'])"
   ]
  },
  {
   "cell_type": "code",
   "execution_count": 371,
   "id": "ea3f5530",
   "metadata": {},
   "outputs": [
    {
     "data": {
      "text/html": [
       "<pre style=\"white-space:pre;overflow-x:auto;line-height:normal;font-family:Menlo,'DejaVu Sans Mono',consolas,'Courier New',monospace\"><span style=\"font-weight: bold\">Model: \"sequential_5\"</span>\n",
       "</pre>\n"
      ],
      "text/plain": [
       "\u001b[1mModel: \"sequential_5\"\u001b[0m\n"
      ]
     },
     "metadata": {},
     "output_type": "display_data"
    },
    {
     "data": {
      "text/html": [
       "<pre style=\"white-space:pre;overflow-x:auto;line-height:normal;font-family:Menlo,'DejaVu Sans Mono',consolas,'Courier New',monospace\">┏━━━━━━━━━━━━━━━━━━━━━━━━━━━━━━━━━┳━━━━━━━━━━━━━━━━━━━━━━━━┳━━━━━━━━━━━━━━━┓\n",
       "┃<span style=\"font-weight: bold\"> Layer (type)                    </span>┃<span style=\"font-weight: bold\"> Output Shape           </span>┃<span style=\"font-weight: bold\">       Param # </span>┃\n",
       "┡━━━━━━━━━━━━━━━━━━━━━━━━━━━━━━━━━╇━━━━━━━━━━━━━━━━━━━━━━━━╇━━━━━━━━━━━━━━━┩\n",
       "│ dense_20 (<span style=\"color: #0087ff; text-decoration-color: #0087ff\">Dense</span>)                │ (<span style=\"color: #00d7ff; text-decoration-color: #00d7ff\">None</span>, <span style=\"color: #00af00; text-decoration-color: #00af00\">1200</span>)           │        <span style=\"color: #00af00; text-decoration-color: #00af00\">21,600</span> │\n",
       "├─────────────────────────────────┼────────────────────────┼───────────────┤\n",
       "│ dropout_10 (<span style=\"color: #0087ff; text-decoration-color: #0087ff\">Dropout</span>)            │ (<span style=\"color: #00d7ff; text-decoration-color: #00d7ff\">None</span>, <span style=\"color: #00af00; text-decoration-color: #00af00\">1200</span>)           │             <span style=\"color: #00af00; text-decoration-color: #00af00\">0</span> │\n",
       "├─────────────────────────────────┼────────────────────────┼───────────────┤\n",
       "│ dense_21 (<span style=\"color: #0087ff; text-decoration-color: #0087ff\">Dense</span>)                │ (<span style=\"color: #00d7ff; text-decoration-color: #00d7ff\">None</span>, <span style=\"color: #00af00; text-decoration-color: #00af00\">600</span>)            │       <span style=\"color: #00af00; text-decoration-color: #00af00\">720,600</span> │\n",
       "├─────────────────────────────────┼────────────────────────┼───────────────┤\n",
       "│ dense_22 (<span style=\"color: #0087ff; text-decoration-color: #0087ff\">Dense</span>)                │ (<span style=\"color: #00d7ff; text-decoration-color: #00d7ff\">None</span>, <span style=\"color: #00af00; text-decoration-color: #00af00\">300</span>)            │       <span style=\"color: #00af00; text-decoration-color: #00af00\">180,300</span> │\n",
       "├─────────────────────────────────┼────────────────────────┼───────────────┤\n",
       "│ dropout_11 (<span style=\"color: #0087ff; text-decoration-color: #0087ff\">Dropout</span>)            │ (<span style=\"color: #00d7ff; text-decoration-color: #00d7ff\">None</span>, <span style=\"color: #00af00; text-decoration-color: #00af00\">300</span>)            │             <span style=\"color: #00af00; text-decoration-color: #00af00\">0</span> │\n",
       "├─────────────────────────────────┼────────────────────────┼───────────────┤\n",
       "│ dense_23 (<span style=\"color: #0087ff; text-decoration-color: #0087ff\">Dense</span>)                │ (<span style=\"color: #00d7ff; text-decoration-color: #00d7ff\">None</span>, <span style=\"color: #00af00; text-decoration-color: #00af00\">1</span>)              │           <span style=\"color: #00af00; text-decoration-color: #00af00\">301</span> │\n",
       "└─────────────────────────────────┴────────────────────────┴───────────────┘\n",
       "</pre>\n"
      ],
      "text/plain": [
       "┏━━━━━━━━━━━━━━━━━━━━━━━━━━━━━━━━━┳━━━━━━━━━━━━━━━━━━━━━━━━┳━━━━━━━━━━━━━━━┓\n",
       "┃\u001b[1m \u001b[0m\u001b[1mLayer (type)                   \u001b[0m\u001b[1m \u001b[0m┃\u001b[1m \u001b[0m\u001b[1mOutput Shape          \u001b[0m\u001b[1m \u001b[0m┃\u001b[1m \u001b[0m\u001b[1m      Param #\u001b[0m\u001b[1m \u001b[0m┃\n",
       "┡━━━━━━━━━━━━━━━━━━━━━━━━━━━━━━━━━╇━━━━━━━━━━━━━━━━━━━━━━━━╇━━━━━━━━━━━━━━━┩\n",
       "│ dense_20 (\u001b[38;5;33mDense\u001b[0m)                │ (\u001b[38;5;45mNone\u001b[0m, \u001b[38;5;34m1200\u001b[0m)           │        \u001b[38;5;34m21,600\u001b[0m │\n",
       "├─────────────────────────────────┼────────────────────────┼───────────────┤\n",
       "│ dropout_10 (\u001b[38;5;33mDropout\u001b[0m)            │ (\u001b[38;5;45mNone\u001b[0m, \u001b[38;5;34m1200\u001b[0m)           │             \u001b[38;5;34m0\u001b[0m │\n",
       "├─────────────────────────────────┼────────────────────────┼───────────────┤\n",
       "│ dense_21 (\u001b[38;5;33mDense\u001b[0m)                │ (\u001b[38;5;45mNone\u001b[0m, \u001b[38;5;34m600\u001b[0m)            │       \u001b[38;5;34m720,600\u001b[0m │\n",
       "├─────────────────────────────────┼────────────────────────┼───────────────┤\n",
       "│ dense_22 (\u001b[38;5;33mDense\u001b[0m)                │ (\u001b[38;5;45mNone\u001b[0m, \u001b[38;5;34m300\u001b[0m)            │       \u001b[38;5;34m180,300\u001b[0m │\n",
       "├─────────────────────────────────┼────────────────────────┼───────────────┤\n",
       "│ dropout_11 (\u001b[38;5;33mDropout\u001b[0m)            │ (\u001b[38;5;45mNone\u001b[0m, \u001b[38;5;34m300\u001b[0m)            │             \u001b[38;5;34m0\u001b[0m │\n",
       "├─────────────────────────────────┼────────────────────────┼───────────────┤\n",
       "│ dense_23 (\u001b[38;5;33mDense\u001b[0m)                │ (\u001b[38;5;45mNone\u001b[0m, \u001b[38;5;34m1\u001b[0m)              │           \u001b[38;5;34m301\u001b[0m │\n",
       "└─────────────────────────────────┴────────────────────────┴───────────────┘\n"
      ]
     },
     "metadata": {},
     "output_type": "display_data"
    },
    {
     "data": {
      "text/html": [
       "<pre style=\"white-space:pre;overflow-x:auto;line-height:normal;font-family:Menlo,'DejaVu Sans Mono',consolas,'Courier New',monospace\"><span style=\"font-weight: bold\"> Total params: </span><span style=\"color: #00af00; text-decoration-color: #00af00\">922,801</span> (3.52 MB)\n",
       "</pre>\n"
      ],
      "text/plain": [
       "\u001b[1m Total params: \u001b[0m\u001b[38;5;34m922,801\u001b[0m (3.52 MB)\n"
      ]
     },
     "metadata": {},
     "output_type": "display_data"
    },
    {
     "data": {
      "text/html": [
       "<pre style=\"white-space:pre;overflow-x:auto;line-height:normal;font-family:Menlo,'DejaVu Sans Mono',consolas,'Courier New',monospace\"><span style=\"font-weight: bold\"> Trainable params: </span><span style=\"color: #00af00; text-decoration-color: #00af00\">922,801</span> (3.52 MB)\n",
       "</pre>\n"
      ],
      "text/plain": [
       "\u001b[1m Trainable params: \u001b[0m\u001b[38;5;34m922,801\u001b[0m (3.52 MB)\n"
      ]
     },
     "metadata": {},
     "output_type": "display_data"
    },
    {
     "data": {
      "text/html": [
       "<pre style=\"white-space:pre;overflow-x:auto;line-height:normal;font-family:Menlo,'DejaVu Sans Mono',consolas,'Courier New',monospace\"><span style=\"font-weight: bold\"> Non-trainable params: </span><span style=\"color: #00af00; text-decoration-color: #00af00\">0</span> (0.00 B)\n",
       "</pre>\n"
      ],
      "text/plain": [
       "\u001b[1m Non-trainable params: \u001b[0m\u001b[38;5;34m0\u001b[0m (0.00 B)\n"
      ]
     },
     "metadata": {},
     "output_type": "display_data"
    }
   ],
   "source": [
    "tf_model.summary()"
   ]
  },
  {
   "cell_type": "code",
   "execution_count": 372,
   "id": "f47f7a11",
   "metadata": {},
   "outputs": [
    {
     "name": "stdout",
     "output_type": "stream",
     "text": [
      "Epoch 1/30\n",
      "\u001b[1m365/365\u001b[0m \u001b[32m━━━━━━━━━━━━━━━━━━━━\u001b[0m\u001b[37m\u001b[0m \u001b[1m5s\u001b[0m 8ms/step - accuracy: 0.8619 - loss: 0.4019 - val_accuracy: 0.8896 - val_loss: 0.3142\n",
      "Epoch 2/30\n",
      "\u001b[1m365/365\u001b[0m \u001b[32m━━━━━━━━━━━━━━━━━━━━\u001b[0m\u001b[37m\u001b[0m \u001b[1m3s\u001b[0m 8ms/step - accuracy: 0.9021 - loss: 0.3028 - val_accuracy: 0.9164 - val_loss: 0.2566\n",
      "Epoch 3/30\n",
      "\u001b[1m365/365\u001b[0m \u001b[32m━━━━━━━━━━━━━━━━━━━━\u001b[0m\u001b[37m\u001b[0m \u001b[1m3s\u001b[0m 8ms/step - accuracy: 0.9156 - loss: 0.2598 - val_accuracy: 0.9170 - val_loss: 0.2500\n",
      "Epoch 4/30\n",
      "\u001b[1m365/365\u001b[0m \u001b[32m━━━━━━━━━━━━━━━━━━━━\u001b[0m\u001b[37m\u001b[0m \u001b[1m3s\u001b[0m 7ms/step - accuracy: 0.9139 - loss: 0.2537 - val_accuracy: 0.9164 - val_loss: 0.2495\n",
      "Epoch 5/30\n",
      "\u001b[1m365/365\u001b[0m \u001b[32m━━━━━━━━━━━━━━━━━━━━\u001b[0m\u001b[37m\u001b[0m \u001b[1m3s\u001b[0m 7ms/step - accuracy: 0.9139 - loss: 0.2536 - val_accuracy: 0.9157 - val_loss: 0.2516\n",
      "Epoch 6/30\n",
      "\u001b[1m365/365\u001b[0m \u001b[32m━━━━━━━━━━━━━━━━━━━━\u001b[0m\u001b[37m\u001b[0m \u001b[1m3s\u001b[0m 7ms/step - accuracy: 0.9173 - loss: 0.2398 - val_accuracy: 0.9150 - val_loss: 0.2503\n",
      "Epoch 7/30\n",
      "\u001b[1m365/365\u001b[0m \u001b[32m━━━━━━━━━━━━━━━━━━━━\u001b[0m\u001b[37m\u001b[0m \u001b[1m3s\u001b[0m 7ms/step - accuracy: 0.9166 - loss: 0.2449 - val_accuracy: 0.9153 - val_loss: 0.2491\n",
      "Epoch 8/30\n",
      "\u001b[1m365/365\u001b[0m \u001b[32m━━━━━━━━━━━━━━━━━━━━\u001b[0m\u001b[37m\u001b[0m \u001b[1m3s\u001b[0m 7ms/step - accuracy: 0.9179 - loss: 0.2379 - val_accuracy: 0.9170 - val_loss: 0.2492\n",
      "Epoch 9/30\n",
      "\u001b[1m365/365\u001b[0m \u001b[32m━━━━━━━━━━━━━━━━━━━━\u001b[0m\u001b[37m\u001b[0m \u001b[1m3s\u001b[0m 8ms/step - accuracy: 0.9152 - loss: 0.2445 - val_accuracy: 0.9146 - val_loss: 0.2530\n",
      "Epoch 10/30\n",
      "\u001b[1m365/365\u001b[0m \u001b[32m━━━━━━━━━━━━━━━━━━━━\u001b[0m\u001b[37m\u001b[0m \u001b[1m2s\u001b[0m 6ms/step - accuracy: 0.9171 - loss: 0.2404 - val_accuracy: 0.9167 - val_loss: 0.2472\n",
      "Epoch 11/30\n",
      "\u001b[1m365/365\u001b[0m \u001b[32m━━━━━━━━━━━━━━━━━━━━\u001b[0m\u001b[37m\u001b[0m \u001b[1m2s\u001b[0m 6ms/step - accuracy: 0.9218 - loss: 0.2275 - val_accuracy: 0.9170 - val_loss: 0.2478\n",
      "Epoch 12/30\n",
      "\u001b[1m365/365\u001b[0m \u001b[32m━━━━━━━━━━━━━━━━━━━━\u001b[0m\u001b[37m\u001b[0m \u001b[1m2s\u001b[0m 6ms/step - accuracy: 0.9143 - loss: 0.2370 - val_accuracy: 0.9167 - val_loss: 0.2454\n",
      "Epoch 13/30\n",
      "\u001b[1m365/365\u001b[0m \u001b[32m━━━━━━━━━━━━━━━━━━━━\u001b[0m\u001b[37m\u001b[0m \u001b[1m3s\u001b[0m 7ms/step - accuracy: 0.9194 - loss: 0.2313 - val_accuracy: 0.9194 - val_loss: 0.2479\n",
      "Epoch 14/30\n",
      "\u001b[1m365/365\u001b[0m \u001b[32m━━━━━━━━━━━━━━━━━━━━\u001b[0m\u001b[37m\u001b[0m \u001b[1m3s\u001b[0m 7ms/step - accuracy: 0.9223 - loss: 0.2167 - val_accuracy: 0.9177 - val_loss: 0.2462\n",
      "Epoch 15/30\n",
      "\u001b[1m365/365\u001b[0m \u001b[32m━━━━━━━━━━━━━━━━━━━━\u001b[0m\u001b[37m\u001b[0m \u001b[1m2s\u001b[0m 6ms/step - accuracy: 0.9184 - loss: 0.2300 - val_accuracy: 0.9191 - val_loss: 0.2429\n",
      "Epoch 16/30\n",
      "\u001b[1m365/365\u001b[0m \u001b[32m━━━━━━━━━━━━━━━━━━━━\u001b[0m\u001b[37m\u001b[0m \u001b[1m2s\u001b[0m 6ms/step - accuracy: 0.9250 - loss: 0.2115 - val_accuracy: 0.9191 - val_loss: 0.2523\n",
      "Epoch 17/30\n",
      "\u001b[1m365/365\u001b[0m \u001b[32m━━━━━━━━━━━━━━━━━━━━\u001b[0m\u001b[37m\u001b[0m \u001b[1m2s\u001b[0m 6ms/step - accuracy: 0.9239 - loss: 0.2145 - val_accuracy: 0.9194 - val_loss: 0.2444\n",
      "Epoch 18/30\n",
      "\u001b[1m365/365\u001b[0m \u001b[32m━━━━━━━━━━━━━━━━━━━━\u001b[0m\u001b[37m\u001b[0m \u001b[1m3s\u001b[0m 7ms/step - accuracy: 0.9208 - loss: 0.2212 - val_accuracy: 0.9198 - val_loss: 0.2428\n",
      "Epoch 19/30\n",
      "\u001b[1m365/365\u001b[0m \u001b[32m━━━━━━━━━━━━━━━━━━━━\u001b[0m\u001b[37m\u001b[0m \u001b[1m3s\u001b[0m 8ms/step - accuracy: 0.9260 - loss: 0.2104 - val_accuracy: 0.9198 - val_loss: 0.2484\n",
      "Epoch 20/30\n",
      "\u001b[1m365/365\u001b[0m \u001b[32m━━━━━━━━━━━━━━━━━━━━\u001b[0m\u001b[37m\u001b[0m \u001b[1m3s\u001b[0m 7ms/step - accuracy: 0.9229 - loss: 0.2139 - val_accuracy: 0.9208 - val_loss: 0.2392\n",
      "Epoch 21/30\n",
      "\u001b[1m365/365\u001b[0m \u001b[32m━━━━━━━━━━━━━━━━━━━━\u001b[0m\u001b[37m\u001b[0m \u001b[1m2s\u001b[0m 7ms/step - accuracy: 0.9232 - loss: 0.2157 - val_accuracy: 0.9160 - val_loss: 0.2460\n",
      "Epoch 22/30\n",
      "\u001b[1m365/365\u001b[0m \u001b[32m━━━━━━━━━━━━━━━━━━━━\u001b[0m\u001b[37m\u001b[0m \u001b[1m2s\u001b[0m 7ms/step - accuracy: 0.9254 - loss: 0.2113 - val_accuracy: 0.9170 - val_loss: 0.2473\n",
      "Epoch 23/30\n",
      "\u001b[1m365/365\u001b[0m \u001b[32m━━━━━━━━━━━━━━━━━━━━\u001b[0m\u001b[37m\u001b[0m \u001b[1m3s\u001b[0m 8ms/step - accuracy: 0.9239 - loss: 0.2123 - val_accuracy: 0.9198 - val_loss: 0.2422\n",
      "Epoch 24/30\n",
      "\u001b[1m365/365\u001b[0m \u001b[32m━━━━━━━━━━━━━━━━━━━━\u001b[0m\u001b[37m\u001b[0m \u001b[1m3s\u001b[0m 7ms/step - accuracy: 0.9262 - loss: 0.2076 - val_accuracy: 0.9146 - val_loss: 0.2436\n",
      "Epoch 25/30\n",
      "\u001b[1m365/365\u001b[0m \u001b[32m━━━━━━━━━━━━━━━━━━━━\u001b[0m\u001b[37m\u001b[0m \u001b[1m3s\u001b[0m 8ms/step - accuracy: 0.9247 - loss: 0.2086 - val_accuracy: 0.9160 - val_loss: 0.2435\n",
      "Epoch 26/30\n",
      "\u001b[1m365/365\u001b[0m \u001b[32m━━━━━━━━━━━━━━━━━━━━\u001b[0m\u001b[37m\u001b[0m \u001b[1m3s\u001b[0m 7ms/step - accuracy: 0.9269 - loss: 0.2047 - val_accuracy: 0.9198 - val_loss: 0.2430\n",
      "Epoch 27/30\n",
      "\u001b[1m365/365\u001b[0m \u001b[32m━━━━━━━━━━━━━━━━━━━━\u001b[0m\u001b[37m\u001b[0m \u001b[1m2s\u001b[0m 7ms/step - accuracy: 0.9239 - loss: 0.2129 - val_accuracy: 0.9198 - val_loss: 0.2458\n",
      "Epoch 28/30\n",
      "\u001b[1m365/365\u001b[0m \u001b[32m━━━━━━━━━━━━━━━━━━━━\u001b[0m\u001b[37m\u001b[0m \u001b[1m2s\u001b[0m 7ms/step - accuracy: 0.9254 - loss: 0.2047 - val_accuracy: 0.9205 - val_loss: 0.2470\n",
      "Epoch 29/30\n",
      "\u001b[1m365/365\u001b[0m \u001b[32m━━━━━━━━━━━━━━━━━━━━\u001b[0m\u001b[37m\u001b[0m \u001b[1m3s\u001b[0m 8ms/step - accuracy: 0.9245 - loss: 0.2062 - val_accuracy: 0.9191 - val_loss: 0.2490\n",
      "Epoch 30/30\n",
      "\u001b[1m365/365\u001b[0m \u001b[32m━━━━━━━━━━━━━━━━━━━━\u001b[0m\u001b[37m\u001b[0m \u001b[1m3s\u001b[0m 8ms/step - accuracy: 0.9263 - loss: 0.2008 - val_accuracy: 0.9218 - val_loss: 0.2459\n"
     ]
    }
   ],
   "source": [
    "history = tf_model.fit(X_train2, y_train, epochs=30, validation_data=(X_test2, y_test), verbose=1)"
   ]
  },
  {
   "cell_type": "code",
   "execution_count": 373,
   "id": "63d5a228",
   "metadata": {},
   "outputs": [
    {
     "name": "stdout",
     "output_type": "stream",
     "text": [
      "\u001b[1m92/92\u001b[0m \u001b[32m━━━━━━━━━━━━━━━━━━━━\u001b[0m\u001b[37m\u001b[0m \u001b[1m0s\u001b[0m 1ms/step - accuracy: 0.9166 - loss: 0.2437\n"
     ]
    },
    {
     "data": {
      "text/plain": [
       "[0.24590633809566498, 0.9218375086784363]"
      ]
     },
     "execution_count": 373,
     "metadata": {},
     "output_type": "execute_result"
    }
   ],
   "source": [
    "tf_model.evaluate(X_test2, y_test)"
   ]
  },
  {
   "cell_type": "code",
   "execution_count": 374,
   "id": "4bd8105a-e1e9-495a-9485-efef95644dcf",
   "metadata": {},
   "outputs": [],
   "source": [
    "# tranfering value of object id to a variable\n",
    "object_id_col = object_id_col['OBJECTID'] "
   ]
  },
  {
   "cell_type": "markdown",
   "id": "70019de0",
   "metadata": {},
   "source": [
    "### Predictions"
   ]
  },
  {
   "cell_type": "code",
   "execution_count": 375,
   "id": "acc7b1ac",
   "metadata": {},
   "outputs": [
    {
     "data": {
      "text/plain": [
       "(3956, 17)"
      ]
     },
     "execution_count": 375,
     "metadata": {},
     "output_type": "execute_result"
    }
   ],
   "source": [
    "X_val2.shape"
   ]
  },
  {
   "cell_type": "code",
   "execution_count": 376,
   "id": "70d1d9c1",
   "metadata": {},
   "outputs": [
    {
     "data": {
      "text/plain": [
       "(3956,)"
      ]
     },
     "execution_count": 376,
     "metadata": {},
     "output_type": "execute_result"
    }
   ],
   "source": [
    "object_id_col.shape"
   ]
  },
  {
   "cell_type": "markdown",
   "id": "9e642dd4",
   "metadata": {},
   "source": [
    "# Visualization of the results"
   ]
  },
  {
   "cell_type": "code",
   "execution_count": 377,
   "id": "070511be",
   "metadata": {},
   "outputs": [
    {
     "data": {
      "image/png": "[encoded data removed]",
      "text/plain": [
       "<Figure size 1000x600 with 1 Axes>"
      ]
     },
     "metadata": {},
     "output_type": "display_data"
    }
   ],
   "source": [
    "pd.DataFrame(history.history).plot(figsize=(10,6))\n",
    "plt.grid(True)\n",
    "plt.gca().set_ylim(0, 1)\n",
    "plt.show()"
   ]
  },
  {
   "cell_type": "markdown",
   "id": "d30887ba",
   "metadata": {},
   "source": [
    "# Generating the .h5 model"
   ]
  },
  {
   "cell_type": "code",
   "execution_count": 378,
   "id": "8ff41020",
   "metadata": {},
   "outputs": [
    {
     "name": "stderr",
     "output_type": "stream",
     "text": [
      "WARNING:absl:You are saving your model as an HDF5 file via `model.save()` or `keras.saving.save_model(model)`. This file format is considered legacy. We recommend using instead the native Keras format, e.g. `model.save('my_model.keras')` or `keras.saving.save_model(model, 'my_model.keras')`. \n"
     ]
    }
   ],
   "source": [
    "# Save the model\n",
    "tf_model.save('my_model.h5')\n",
    "\n",
    "# Load the model\n",
    "#loaded_model = tf.keras.models.load_model('my_model.h5')\n",
    "\n",
    "# Use the loaded model for predictions\n",
    "#predictions = loaded_model.predict(new_data)\n"
   ]
  },
  {
   "cell_type": "code",
   "execution_count": 379,
   "id": "6d34ef75",
   "metadata": {},
   "outputs": [
    {
     "name": "stderr",
     "output_type": "stream",
     "text": [
      "WARNING:absl:Compiled the loaded model, but the compiled metrics have yet to be built. `model.compile_metrics` will be empty until you train or evaluate the model.\n"
     ]
    }
   ],
   "source": [
    "# Load the model\n",
    "loaded_model = tf.keras.models.load_model(\"my_model.h5\")\n",
    "\n",
    "# Use the loaded model for predictions\n",
    "# predictions = predict_for_submit(loaded_model)"
   ]
  },
  {
   "cell_type": "code",
   "execution_count": 380,
   "id": "31a0b142",
   "metadata": {},
   "outputs": [
    {
     "name": "stdout",
     "output_type": "stream",
     "text": [
      "\u001b[1m124/124\u001b[0m \u001b[32m━━━━━━━━━━━━━━━━━━━━\u001b[0m\u001b[37m\u001b[0m \u001b[1m0s\u001b[0m 1ms/step\n",
      "submssion of file for Neural Networks is created succesfully :submission_NN.csv\n"
     ]
    }
   ],
   "source": [
    "y_pred = loaded_model.predict(X_val2)\n",
    "y_pred = y_pred.reshape(-1)  # Flatten to (17,)\n",
    "\n",
    "# Apply threshold\n",
    "threshold = 0.5\n",
    "int_y_pred = np.where(y_pred > threshold, 1, 0)\n",
    "\n",
    "# creating dataframe ewith the objectid and predicted ACClass\n",
    "y_pred_final_df = pd.DataFrame({'OBJECTID':object_id_col,'ACCLASS':int_y_pred})\n",
    "\n",
    "# applying mapping to convert the binary classification in them to labels(reverse mapping)\n",
    "acclass_mapping_rev={0:'Non-Fatal Injury', 1:'Fatal'}\n",
    "y_pred_final_df['ACCLASS']=y_pred_final_df['ACCLASS'].map(acclass_mapping_rev)\n",
    "\n",
    "# saving the outputs to csv file\n",
    "output_file=f'submission_NN.csv'\n",
    "y_pred_final_df.to_csv(output_file,index=False)\n",
    "\n",
    "#printing that csv file created succesfully\n",
    "print(f'submssion of file for Neural Networks is created succesfully :{output_file}')"
   ]
  },
  {
   "cell_type": "markdown",
   "id": "ac20e486",
   "metadata": {},
   "source": []
  }
 ],
 "metadata": {
  "kernelspec": {
   "display_name": "Python 3 (ipykernel)",
   "language": "python",
   "name": "python3"
  },
  "language_info": {
   "codemirror_mode": {
    "name": "ipython",
    "version": 3
   },
   "file_extension": ".py",
   "mimetype": "text/x-python",
   "name": "python",
   "nbconvert_exporter": "python",
   "pygments_lexer": "ipython3",
   "version": "3.11.7"
  }
 },
 "nbformat": 4,
 "nbformat_minor": 5
}
