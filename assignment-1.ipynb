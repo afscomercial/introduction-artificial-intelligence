{
 "cells": [
  {
   "cell_type": "markdown",
   "metadata": {},
   "source": [
    "# Assignment-1"
   ]
  },
  {
   "cell_type": "markdown",
   "metadata": {},
   "source": [
    "Andres Salguero  - C0932873"
   ]
  },
  {
   "cell_type": "markdown",
   "metadata": {},
   "source": [
    "Q1. You draw two cards from pack of 52 shuffled cards (without replacement). Create a Python Program to generate a Probability Distribution Table for getting zero to at most 2 ACES."
   ]
  },
  {
   "cell_type": "code",
   "execution_count": 1,
   "metadata": {},
   "outputs": [
    {
     "data": {
      "text/html": [
       "<div>\n",
       "<style scoped>\n",
       "    .dataframe tbody tr th:only-of-type {\n",
       "        vertical-align: middle;\n",
       "    }\n",
       "\n",
       "    .dataframe tbody tr th {\n",
       "        vertical-align: top;\n",
       "    }\n",
       "\n",
       "    .dataframe thead th {\n",
       "        text-align: right;\n",
       "    }\n",
       "</style>\n",
       "<table border=\"1\" class=\"dataframe\">\n",
       "  <thead>\n",
       "    <tr style=\"text-align: right;\">\n",
       "      <th></th>\n",
       "      <th>Number os Aces</th>\n",
       "      <th>Number of Ways</th>\n",
       "      <th>Probability</th>\n",
       "    </tr>\n",
       "  </thead>\n",
       "  <tbody>\n",
       "    <tr>\n",
       "      <th>0</th>\n",
       "      <td>0</td>\n",
       "      <td>1128</td>\n",
       "      <td>0.850679</td>\n",
       "    </tr>\n",
       "    <tr>\n",
       "      <th>1</th>\n",
       "      <td>1</td>\n",
       "      <td>4</td>\n",
       "      <td>0.003017</td>\n",
       "    </tr>\n",
       "    <tr>\n",
       "      <th>2</th>\n",
       "      <td>2</td>\n",
       "      <td>6</td>\n",
       "      <td>0.004525</td>\n",
       "    </tr>\n",
       "  </tbody>\n",
       "</table>\n",
       "</div>"
      ],
      "text/plain": [
       "   Number os Aces  Number of Ways  Probability\n",
       "0               0            1128     0.850679\n",
       "1               1               4     0.003017\n",
       "2               2               6     0.004525"
      ]
     },
     "execution_count": 1,
     "metadata": {},
     "output_type": "execute_result"
    }
   ],
   "source": [
    "import pandas as pd\n",
    "from math import comb\n",
    "\n",
    "# total number of cards is 52\n",
    "total_cards = 52\n",
    "\n",
    "# number of ace in deck\n",
    "aces = 4\n",
    "\n",
    "# total number of ways to draw 2 cards\n",
    "total_ways= comb(total_cards,2)\n",
    "\n",
    "# number of way to draw 0 ace\n",
    "zero_ace= comb(total_cards - aces,2)\n",
    "\n",
    "# number of way to draw 1 ace\n",
    "one_ace=comb(aces,1)\n",
    "\n",
    "# number of way to draw 2 ace\n",
    "two_ace=comb(aces,2)\n",
    "\n",
    "# probabilities\n",
    "p_zero_ace= zero_ace/total_ways\n",
    "p_one_ace= one_ace/total_ways\n",
    "p_two_ace= two_ace/total_ways\n",
    "\n",
    "# create probability distribution table \n",
    "data= {\n",
    "    \"Number os Aces\":[0,1,2],\n",
    "    \"Number of Ways\":[zero_ace,one_ace,two_ace],\n",
    "    \"Probability\": [p_zero_ace,p_one_ace,p_two_ace]\n",
    "}\n",
    "\n",
    "probability_distribution_table = pd.DataFrame(data)\n",
    "probability_distribution_table"
   ]
  },
  {
   "cell_type": "markdown",
   "metadata": {},
   "source": [
    "Q2. Bag I contain 2 red and 8 black balls while another Bag II contains 5 red and 5 black balls. One ball is drawn at random from one of the bags, and it is found to be black. Create a Python Program to find the probability that it was drawn from Bag 2."
   ]
  },
  {
   "cell_type": "markdown",
   "metadata": {},
   "source": [
    "Q3. There are 3 red and 7 black balls in a bag. You are asked to draw 3 balls at random (with replacement) in three different trials. Create a Python program to find the probability of getting two red balls and one black ball? "
   ]
  },
  {
   "cell_type": "markdown",
   "metadata": {},
   "source": [
    "Q4. A Customer Call center receives on average 3.5 calls every hour. Write a Python Program to find the probability that it will receive at most 4 calls every hour?"
   ]
  },
  {
   "cell_type": "markdown",
   "metadata": {},
   "source": [
    "Q5. The Student Services at Cestar College receive 2 phone calls per hour. Write a Python Program to find the probability that a phone call will come within the next hour."
   ]
  },
  {
   "cell_type": "markdown",
   "metadata": {},
   "source": [
    "Q6. Create a Python Program to generate the Eigen Value and Eigen Vector for the following Matrix (3x3 dimension) (4 Marks)\n",
    "[8  5  3]\n",
    "[5  6  5]\n",
    "[9  7  4]"
   ]
  },
  {
   "cell_type": "markdown",
   "metadata": {},
   "source": [
    "Q7. Create a Python program to find the Inverse of the following Matrix, using the concept shown in the class. Use of Linalg is restricted."
   ]
  }
 ],
 "metadata": {
  "kernelspec": {
   "display_name": "base",
   "language": "python",
   "name": "python3"
  },
  "language_info": {
   "codemirror_mode": {
    "name": "ipython",
    "version": 3
   },
   "file_extension": ".py",
   "mimetype": "text/x-python",
   "name": "python",
   "nbconvert_exporter": "python",
   "pygments_lexer": "ipython3",
   "version": "3.12.3"
  }
 },
 "nbformat": 4,
 "nbformat_minor": 2
}
