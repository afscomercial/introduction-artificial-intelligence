{
 "cells": [
  {
   "cell_type": "markdown",
   "metadata": {},
   "source": [
    "# Assignment-1"
   ]
  },
  {
   "cell_type": "markdown",
   "metadata": {},
   "source": [
    "Andres Salguero  - C0932873"
   ]
  },
  {
   "cell_type": "markdown",
   "metadata": {},
   "source": [
    "Q1. You draw two cards from pack of 52 shuffled cards (without replacement). Create a Python Program to generate a Probability Distribution Table for getting zero to at most 2 ACES."
   ]
  },
  {
   "cell_type": "code",
   "execution_count": 1,
   "metadata": {},
   "outputs": [
    {
     "data": {
      "text/html": [
       "<div>\n",
       "<style scoped>\n",
       "    .dataframe tbody tr th:only-of-type {\n",
       "        vertical-align: middle;\n",
       "    }\n",
       "\n",
       "    .dataframe tbody tr th {\n",
       "        vertical-align: top;\n",
       "    }\n",
       "\n",
       "    .dataframe thead th {\n",
       "        text-align: right;\n",
       "    }\n",
       "</style>\n",
       "<table border=\"1\" class=\"dataframe\">\n",
       "  <thead>\n",
       "    <tr style=\"text-align: right;\">\n",
       "      <th></th>\n",
       "      <th>Number os Aces</th>\n",
       "      <th>Number of Ways</th>\n",
       "      <th>Probability</th>\n",
       "    </tr>\n",
       "  </thead>\n",
       "  <tbody>\n",
       "    <tr>\n",
       "      <th>0</th>\n",
       "      <td>0</td>\n",
       "      <td>1128</td>\n",
       "      <td>0.850679</td>\n",
       "    </tr>\n",
       "    <tr>\n",
       "      <th>1</th>\n",
       "      <td>1</td>\n",
       "      <td>4</td>\n",
       "      <td>0.003017</td>\n",
       "    </tr>\n",
       "    <tr>\n",
       "      <th>2</th>\n",
       "      <td>2</td>\n",
       "      <td>6</td>\n",
       "      <td>0.004525</td>\n",
       "    </tr>\n",
       "  </tbody>\n",
       "</table>\n",
       "</div>"
      ],
      "text/plain": [
       "   Number os Aces  Number of Ways  Probability\n",
       "0               0            1128     0.850679\n",
       "1               1               4     0.003017\n",
       "2               2               6     0.004525"
      ]
     },
     "execution_count": 1,
     "metadata": {},
     "output_type": "execute_result"
    }
   ],
   "source": [
    "import pandas as pd\n",
    "from math import comb\n",
    "\n",
    "# total number of cards is 52\n",
    "total_cards = 52\n",
    "\n",
    "# number of ace in deck\n",
    "aces = 4\n",
    "\n",
    "# total number of ways to draw 2 cards\n",
    "total_ways= comb(total_cards,2)\n",
    "\n",
    "# number of way to draw 0 ace\n",
    "zero_ace= comb(total_cards - aces,2)\n",
    "\n",
    "# number of way to draw 1 ace\n",
    "one_ace=comb(aces,1)\n",
    "\n",
    "# number of way to draw 2 ace\n",
    "two_ace=comb(aces,2)\n",
    "\n",
    "# probabilities\n",
    "p_zero_ace= zero_ace/total_ways\n",
    "p_one_ace= one_ace/total_ways\n",
    "p_two_ace= two_ace/total_ways\n",
    "\n",
    "# create probability distribution table \n",
    "data= {\n",
    "    \"Number os Aces\":[0,1,2],\n",
    "    \"Number of Ways\":[zero_ace,one_ace,two_ace],\n",
    "    \"Probability\": [p_zero_ace,p_one_ace,p_two_ace]\n",
    "}\n",
    "\n",
    "probability_distribution_table = pd.DataFrame(data)\n",
    "probability_distribution_table"
   ]
  },
  {
   "cell_type": "markdown",
   "metadata": {},
   "source": [
    "Q2. Bag I contain 2 red and 8 black balls while another Bag II contains 5 red and 5 black balls. One ball is drawn at random from one of the bags, and it is found to be black. Create a Python Program to find the probability that it was drawn from Bag 2."
   ]
  },
  {
   "cell_type": "code",
   "execution_count": null,
   "metadata": {},
   "outputs": [],
   "source": [
    "# definig the probability\n",
    "pro_a1 = 0.5 # probability of bag 1\n",
    "pro_a2 = 0.5 # probability of bag 2\n",
    "\n",
    "pro_black_from_a1 = 0.8 # probability of getting black ball from bag 1\n",
    "pro_black_from_a2 = 0.5 # probability of getting black ball from bag 2\n",
    "\n",
    "# calculating total probability of getting black ball\n",
    "pro_black = (pro_black_from_a1 * pro_a1) + (pro_black_from_a2 * pro_a2)\n",
    "\n",
    "# calculating the probability that black ball was drawn from bag 2\n",
    "pro_a2_from_black = (pro_black_from_a2 * pro_a2) / pro_black\n",
    "\n",
    "# printing the result\n",
    "print(\"probability of black_ball that drawm from bag 2 is :\", pro_a2_from_black )"
   ]
  },
  {
   "cell_type": "markdown",
   "metadata": {},
   "source": [
    "Q3. There are 3 red and 7 black balls in a bag. You are asked to draw 3 balls at random (with replacement) in three different trials. Create a Python program to find the probability of getting two red balls and one black ball? "
   ]
  },
  {
   "cell_type": "code",
   "execution_count": 1,
   "metadata": {},
   "outputs": [],
   "source": [
    "# first getting the factorial we are defining the factorial function\n",
    "def factorial(num):\n",
    "    fact=1 # giving variable fact value 1\n",
    "    # using for loop in oder to calculate factorial\n",
    "    for i in range(num,0,-1):\n",
    "        fact*=i\n",
    "    return fact# returning the results of factorial"
   ]
  },
  {
   "cell_type": "code",
   "execution_count": 4,
   "metadata": {},
   "outputs": [
    {
     "name": "stdout",
     "output_type": "stream",
     "text": [
      "probability to get 2 red and 1 black ball is with replacement is 0.035721\n"
     ]
    }
   ],
   "source": [
    "#total ball\n",
    "total_balls=10\n",
    "# probalityof red balls\n",
    "p_red_balls=3/total_balls\n",
    "#probality of black balls\n",
    "p_black_balls=7/total_balls\n",
    "# number trials provided\n",
    "trials=3\n",
    "# function for calculating the combinations\n",
    "def comb(trials,k):\n",
    "    return factorial(trials)//(factorial(k)*factorial(trials-k))\n",
    "#calculating binomial as the number of trials are 3 and we there is replacemnt we need specific value\n",
    "def binomial(x,trials,p):\n",
    "    return comb(trials,x)*(p**x)*((1-p)**(trials-x))\n",
    "# calculating probablity for getting 2 red and 1 black\n",
    "p_2r_1b=binomial(2,trials,p_red_balls)*binomial(1,trials,p_black_balls)\n",
    "# printing the results\n",
    "print(\"probability to get 2 red and 1 black ball is with replacement is\",p_2r_1b)"
   ]
  },
  {
   "cell_type": "markdown",
   "metadata": {},
   "source": [
    "Q4. A Customer Call center receives on average 3.5 calls every hour. Write a Python Program to find the probability that it will receive at most 4 calls every hour?"
   ]
  },
  {
   "cell_type": "code",
   "execution_count": 6,
   "metadata": {},
   "outputs": [
    {
     "name": "stdout",
     "output_type": "stream",
     "text": [
      "probility to get atmost 4 calls every hour is 795.5451174721431\n"
     ]
    }
   ],
   "source": [
    "avgcalls=3.5 # this are given in question\n",
    "# definng poission distribution as there time interval\n",
    "def poission(k,lamda_rate):\n",
    "    # using the formula in getting its value to variable\n",
    "    poission_prob=(lamda_rate**k)*(2.71828** lamda_rate)/factorial(k)\n",
    "    return poission_prob# return the value function\n",
    "# intial value of variable to 0\n",
    "p_4calls=0\n",
    "# use for t calculte the cumulative probility to get 4 calls every hour\n",
    "for i in range(5):\n",
    "    p_4calls+=poission(i,avgcalls)\n",
    "print(\"probility to get atmost 4 calls every hour is\",p_4calls)"
   ]
  },
  {
   "cell_type": "markdown",
   "metadata": {},
   "source": [
    "Q5. The Student Services at Cestar College receive 2 phone calls per hour. Write a Python Program to find the probability that a phone call will come within the next hour."
   ]
  },
  {
   "cell_type": "markdown",
   "metadata": {},
   "source": [
    "Q6. Create a Python Program to generate the Eigen Value and Eigen Vector for the following Matrix (3x3 dimension) (4 Marks)\n",
    "[8  5  3]\n",
    "[5  6  5]\n",
    "[9  7  4]"
   ]
  },
  {
   "cell_type": "markdown",
   "metadata": {},
   "source": [
    "Q7. Create a Python program to find the Inverse of the following Matrix, using the concept shown in the class. Use of Linalg is restricted."
   ]
  }
 ],
 "metadata": {
  "kernelspec": {
   "display_name": "base",
   "language": "python",
   "name": "python3"
  },
  "language_info": {
   "codemirror_mode": {
    "name": "ipython",
    "version": 3
   },
   "file_extension": ".py",
   "mimetype": "text/x-python",
   "name": "python",
   "nbconvert_exporter": "python",
   "pygments_lexer": "ipython3",
   "version": "3.11.7"
  }
 },
 "nbformat": 4,
 "nbformat_minor": 2
}
