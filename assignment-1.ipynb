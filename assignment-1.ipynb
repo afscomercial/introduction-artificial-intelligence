{
 "cells": [
  {
   "cell_type": "markdown",
   "metadata": {},
   "source": [
    "# Assignment-1"
   ]
  },
  {
   "cell_type": "markdown",
   "metadata": {},
   "source": [
    "Andres Salguero  - C0932873"
   ]
  },
  {
   "cell_type": "markdown",
   "metadata": {},
   "source": [
    "Q1. You draw two cards from pack of 52 shuffled cards (without replacement). Create a Python Program to generate a Probability Distribution Table for getting zero to at most 2 ACES."
   ]
  },
  {
   "cell_type": "markdown",
   "metadata": {},
   "source": [
    "Q2. Bag I contain 2 red and 8 black balls while another Bag II contains 5 red and 5 black balls. One ball is drawn at random from one of the bags, and it is found to be black. Create a Python Program to find the probability that it was drawn from Bag 2."
   ]
  },
  {
   "cell_type": "markdown",
   "metadata": {},
   "source": [
    "Q3. There are 3 red and 7 black balls in a bag. You are asked to draw 3 balls at random (with replacement) in three different trials. Create a Python program to find the probability of getting two red balls and one black ball? "
   ]
  },
  {
   "cell_type": "markdown",
   "metadata": {},
   "source": [
    "Q4. A Customer Call center receives on average 3.5 calls every hour. Write a Python Program to find the probability that it will receive at most 4 calls every hour?"
   ]
  },
  {
   "cell_type": "markdown",
   "metadata": {},
   "source": [
    "Q5. The Student Services at Cestar College receive 2 phone calls per hour. Write a Python Program to find the probability that a phone call will come within the next hour."
   ]
  },
  {
   "cell_type": "markdown",
   "metadata": {},
   "source": [
    "Q6. Create a Python Program to generate the Eigen Value and Eigen Vector for the following Matrix (3x3 dimension) (4 Marks)\n",
    "[8  5  3]\n",
    "[5  6  5]\n",
    "[9  7  4]"
   ]
  },
  {
   "cell_type": "markdown",
   "metadata": {},
   "source": [
    "Q7. Create a Python program to find the Inverse of the following Matrix, using the concept shown in the class. Use of Linalg is restricted."
   ]
  }
 ],
 "metadata": {
  "kernelspec": {
   "display_name": "base",
   "language": "python",
   "name": "python3"
  },
  "language_info": {
   "name": "python",
   "version": "3.11.7"
  }
 },
 "nbformat": 4,
 "nbformat_minor": 2
}
