{
 "cells": [
  {
   "cell_type": "markdown",
   "metadata": {},
   "source": [
    "# Assignment-1"
   ]
  },
  {
   "cell_type": "markdown",
   "metadata": {},
   "source": [
    "Andres Salguero  - C0932873\n",
    "\n",
    "Andrea Franco - C0931897\n",
    "\n",
    "Vishv Patel - C0938107\n",
    "\n",
    "Rajkumar Patel - C0934637\n",
    "\n",
    "Harpreet kaur - C0936410\n",
    "\n",
    "Gurpreet kaur - C0936411"
   ]
  },
  {
   "cell_type": "markdown",
   "metadata": {},
   "source": [
    "Q1. You draw two cards from pack of 52 shuffled cards (without replacement). Create a Python Program to generate a Probability Distribution Table for getting zero to at most 2 ACES."
   ]
  },
  {
   "cell_type": "markdown",
   "metadata": {},
   "source": [
    "![Q1](https://github.com/afscomercial/introduction-artificial-intelligence/blob/main/assets/q1.jpeg?raw=true)"
   ]
  },
  {
   "cell_type": "markdown",
   "metadata": {},
   "source": [
    "![Q1](https://github.com/afscomercial/introduction-artificial-intelligence/blob/main/assets/q1_1.jpg?raw=true)"
   ]
  },
  {
   "cell_type": "markdown",
   "metadata": {},
   "source": [
    "![Q1](https://github.com/afscomercial/introduction-artificial-intelligence/blob/main/assets/q1_2.jpg?raw=true)"
   ]
  },
  {
   "cell_type": "code",
   "execution_count": 2,
   "metadata": {},
   "outputs": [
    {
     "data": {
      "text/html": [
       "<div>\n",
       "<style scoped>\n",
       "    .dataframe tbody tr th:only-of-type {\n",
       "        vertical-align: middle;\n",
       "    }\n",
       "\n",
       "    .dataframe tbody tr th {\n",
       "        vertical-align: top;\n",
       "    }\n",
       "\n",
       "    .dataframe thead th {\n",
       "        text-align: right;\n",
       "    }\n",
       "</style>\n",
       "<table border=\"1\" class=\"dataframe\">\n",
       "  <thead>\n",
       "    <tr style=\"text-align: right;\">\n",
       "      <th></th>\n",
       "      <th>Number of Aces</th>\n",
       "      <th>Number of Ways</th>\n",
       "      <th>Probability</th>\n",
       "    </tr>\n",
       "  </thead>\n",
       "  <tbody>\n",
       "    <tr>\n",
       "      <th>0</th>\n",
       "      <td>0</td>\n",
       "      <td>1128</td>\n",
       "      <td>0.850679</td>\n",
       "    </tr>\n",
       "    <tr>\n",
       "      <th>1</th>\n",
       "      <td>1</td>\n",
       "      <td>192</td>\n",
       "      <td>0.144796</td>\n",
       "    </tr>\n",
       "    <tr>\n",
       "      <th>2</th>\n",
       "      <td>2</td>\n",
       "      <td>6</td>\n",
       "      <td>0.004525</td>\n",
       "    </tr>\n",
       "  </tbody>\n",
       "</table>\n",
       "</div>"
      ],
      "text/plain": [
       "   Number of Aces  Number of Ways  Probability\n",
       "0               0            1128     0.850679\n",
       "1               1             192     0.144796\n",
       "2               2               6     0.004525"
      ]
     },
     "execution_count": 2,
     "metadata": {},
     "output_type": "execute_result"
    }
   ],
   "source": [
    "import pandas as pd\n",
    "import numpy as np\n",
    "\n",
    "# create factorial function\n",
    "def factorial(n):\n",
    "    if n == 0:\n",
    "        return 1\n",
    "    result= 1\n",
    "    for i in range(1,n+1):\n",
    "        result*=i\n",
    "    return result\n",
    "\n",
    "# create combination function\n",
    "def comb(n,k):\n",
    "    equation=factorial(n)//(factorial(k)*factorial(n-k))\n",
    "    return equation \n",
    "\n",
    "# total number of cards is 52\n",
    "total_cards = 52\n",
    "\n",
    "# number of ace in deck\n",
    "aces = 4\n",
    "\n",
    "# non_aces in cards\n",
    "non_aces= total_cards-aces\n",
    "\n",
    "# total number of ways to draw 2 cards\n",
    "total_methods= comb(total_cards,2)\n",
    "\n",
    "# number of way to draw 0 ace\n",
    "zero_ace= comb(non_aces,2)\n",
    "\n",
    "# number of way to draw 1 ace\n",
    "one_ace=comb(aces,1)*comb(non_aces,1)\n",
    "\n",
    "# number of way to draw 2 ace\n",
    "two_ace=comb(aces,2)\n",
    "\n",
    "# probabilities\n",
    "p_zero_ace= zero_ace/total_methods\n",
    "p_one_ace= one_ace/total_methods\n",
    "p_two_ace= two_ace/total_methods\n",
    "\n",
    "# create probability distribution table \n",
    "data= {\n",
    "    \"Number of Aces\":[0,1,2],\n",
    "    \"Number of Ways\":[zero_ace,one_ace,two_ace],\n",
    "    \"Probability\": [p_zero_ace,p_one_ace,p_two_ace]\n",
    "}\n",
    "\n",
    "prob_dis_table = pd.DataFrame(data)\n",
    "prob_dis_table"
   ]
  },
  {
   "cell_type": "markdown",
   "metadata": {},
   "source": [
    "Q2. Bag I contain 2 red and 8 black balls while another Bag II contains 5 red and 5 black balls. One ball is drawn at random from one of the bags, and it is found to be black. Create a Python Program to find the probability that it was drawn from Bag 2."
   ]
  },
  {
   "cell_type": "markdown",
   "metadata": {},
   "source": [
    "![Q1](https://github.com/afscomercial/introduction-artificial-intelligence/blob/main/assets/q2.jpeg?raw=true)"
   ]
  },
  {
   "cell_type": "code",
   "execution_count": 14,
   "metadata": {},
   "outputs": [
    {
     "name": "stdout",
     "output_type": "stream",
     "text": [
      "probability of black_ball that drawn from bag 2 is : 0.6153846153846154\n"
     ]
    }
   ],
   "source": [
    "# defining the probability\n",
    "pro_a = 0.5 # probability of bag 1\n",
    "pro_b = 0.5 # probability of bag 2\n",
    "\n",
    "pro_black_from_a = 0.8 # probability of getting black ball from bag 1\n",
    "pro_black_from_b = 0.5 # probability of getting black ball from bag 2\n",
    "\n",
    "# calculating total probability of getting black ball\n",
    "pro_black = (pro_black_from_a * pro_b) + (pro_black_from_b * pro_a)\n",
    "\n",
    "# calculating the probability that black ball was drawn from bag 2\n",
    "pro_a_from_black = (pro_black_from_a * pro_b) / pro_black\n",
    "\n",
    "# printing the result\n",
    "print(\"probability of black_ball that drawn from bag 2 is :\", pro_a_from_black )"
   ]
  },
  {
   "cell_type": "markdown",
   "metadata": {},
   "source": [
    "Q3. There are 3 red and 7 black balls in a bag. You are asked to draw 3 balls at random (with replacement) in three different trials. Create a Python program to find the probability of getting two red balls and one black ball? "
   ]
  },
  {
   "cell_type": "markdown",
   "metadata": {},
   "source": [
    "\n",
    "\n",
    "![Q3](https://github.com/afscomercial/introduction-artificial-intelligence/blob/main/assets/q3.jpeg?raw=true)\n"
   ]
  },
  {
   "cell_type": "code",
   "execution_count": 6,
   "metadata": {},
   "outputs": [
    {
     "name": "stdout",
     "output_type": "stream",
     "text": [
      "Probability to get 2 red and 1 black ball is with replacement is 0.035721\n"
     ]
    }
   ],
   "source": [
    "# total ball\n",
    "total_balls = 10\n",
    "\n",
    "# probality of red balls\n",
    "p_red_balls = 3/total_balls\n",
    "\n",
    "# probability of black balls\n",
    "p_black_balls = 7/total_balls\n",
    "\n",
    "# number trials provided\n",
    "trials = 3\n",
    "\n",
    "# calculating binomial as the number of trials are 3 and we there is replacement we need specific value\n",
    "def binomial(x,trials,p):\n",
    "    return comb(trials,x)*(p**x)*((1-p)**(trials-x))\n",
    "\n",
    "# calculating probability for getting 2 red and 1 black\n",
    "p_2r_1b = binomial(2,trials,p_red_balls)*binomial(1,trials,p_black_balls)\n",
    "\n",
    "# printing the results\n",
    "print(\"Probability to get 2 red and 1 black ball is with replacement is\", p_2r_1b)"
   ]
  },
  {
   "cell_type": "markdown",
   "metadata": {},
   "source": [
    "Q4. A Customer Call center receives on average 3.5 calls every hour. Write a Python Program to find the probability that it will receive at most 4 calls every hour?"
   ]
  },
  {
   "cell_type": "markdown",
   "metadata": {},
   "source": [
    "![Q4](https://github.com/afscomercial/introduction-artificial-intelligence/blob/main/assets/q4_1.jpg?raw=true)\n"
   ]
  },
  {
   "cell_type": "markdown",
   "metadata": {},
   "source": [
    "![Q1](https://github.com/afscomercial/introduction-artificial-intelligence/blob/main/assets/q4_2.jpg?raw=true)"
   ]
  },
  {
   "cell_type": "code",
   "execution_count": 10,
   "metadata": {},
   "outputs": [
    {
     "name": "stdout",
     "output_type": "stream",
     "text": [
      "Probability to get at most 4 calls every hour is 0.7254466612154337\n"
     ]
    }
   ],
   "source": [
    "avgcalls = 3.5 # this are given in question\n",
    "\n",
    "# defining Poisson distribution as there time interval\n",
    "def poisson(k, lamda_rate):\n",
    "    # using the formula in getting its value to variable\n",
    "    poission_prob=(lamda_rate**k)*(2.71828**(-lamda_rate))/factorial(k)\n",
    "    return poission_prob # return the value function\n",
    "\n",
    "# initial value of variable to 0\n",
    "p_4calls = 0\n",
    "\n",
    "# use for t calculate the cumulative probability to get 4 calls every hour\n",
    "for i in range(5):\n",
    "    p_4calls += poisson(i,avgcalls)\n",
    "    \n",
    "print(\"Probability to get at most 4 calls every hour is\", p_4calls)"
   ]
  },
  {
   "cell_type": "markdown",
   "metadata": {},
   "source": [
    "Q5. The Student Services at Cestar College receive 2 phone calls per hour. Write a Python Program to find the probability that a phone call will come within the next hour."
   ]
  },
  {
   "cell_type": "markdown",
   "metadata": {},
   "source": [
    "![Q5](https://github.com/afscomercial/introduction-artificial-intelligence/blob/main/assets/q5.jpeg?raw=true)"
   ]
  },
  {
   "cell_type": "code",
   "execution_count": 11,
   "metadata": {},
   "outputs": [
    {
     "name": "stdout",
     "output_type": "stream",
     "text": [
      "The probability that at least one phone call will come within the next hour is: 0.8647\n"
     ]
    }
   ],
   "source": [
    "calls_per_hour = 2\n",
    "\n",
    "# Probability of no calls in the next hour (k = 0)\n",
    "P_0_calls = poisson(k=0, lamda_rate=calls_per_hour)\n",
    "\n",
    "# Probability of at least one call\n",
    "P_at_least_1_call = 1 - P_0_calls\n",
    "\n",
    "print(f\"The probability that at least one phone call will come within the next hour is: {P_at_least_1_call:.4f}\")\n"
   ]
  },
  {
   "cell_type": "markdown",
   "metadata": {},
   "source": [
    "Q6. Create a Python Program to generate the Eigen Value and Eigen Vector for the following Matrix (3x3 dimension) (4 Marks)\n",
    "[8  5  3]\n",
    "[5  6  5]\n",
    "[9  7  4]"
   ]
  },
  {
   "cell_type": "markdown",
   "metadata": {},
   "source": [
    "![Q6](https://github.com/afscomercial/introduction-artificial-intelligence/blob/main/assets/q6_1.jpg?raw=true)"
   ]
  },
  {
   "cell_type": "markdown",
   "metadata": {},
   "source": [
    "![Q6](https://github.com/afscomercial/introduction-artificial-intelligence/blob/main/assets/q6_2.jpg?raw=true)"
   ]
  },
  {
   "cell_type": "markdown",
   "metadata": {},
   "source": [
    "![Q6](https://github.com/afscomercial/introduction-artificial-intelligence/blob/main/assets/q6_3.jpg?raw=true)"
   ]
  },
  {
   "cell_type": "markdown",
   "metadata": {},
   "source": [
    "![Q6](https://github.com/afscomercial/introduction-artificial-intelligence/blob/main/assets/q6_4.jpg?raw=true)"
   ]
  },
  {
   "cell_type": "markdown",
   "metadata": {},
   "source": [
    "![Q6](https://github.com/afscomercial/introduction-artificial-intelligence/blob/main/assets/q6_5.jpg?raw=true)"
   ]
  },
  {
   "cell_type": "markdown",
   "metadata": {},
   "source": [
    "![Q6](https://github.com/afscomercial/introduction-artificial-intelligence/blob/main/assets/q6_7.jpg?raw=true)"
   ]
  },
  {
   "cell_type": "code",
   "execution_count": 16,
   "metadata": {},
   "outputs": [
    {
     "name": "stdout",
     "output_type": "stream",
     "text": [
      "Original matrix:\n",
      " [[8 5 3]\n",
      " [5 6 5]\n",
      " [9 7 4]]\n",
      "Eigen values of the matrix:\n",
      " [16.9258042   1.74957549 -0.67537969]\n",
      "Right eigenvectors of the matrix:\n",
      " [[-0.52409766 -0.60009754  0.11371532]\n",
      " [-0.54089356  0.79623451 -0.64876924]\n",
      " [-0.65784177 -0.0767694   0.75244089]]\n"
     ]
    }
   ],
   "source": [
    "m = np.array([[8, 5, 3], \n",
    "             [5, 6, 5],\n",
    "             [9, 7, 4]])\n",
    "\n",
    "def eigen(m) -> None:\n",
    "    print(\"Original matrix:\\n\", \n",
    "      m) \n",
    "  \n",
    "    # finding eigenvalues and eigenvectors \n",
    "    eigenvalues, eigenvectors = np.linalg.eig(m) \n",
    "    \n",
    "    # printing eigen values \n",
    "    print(\"Eigen values of the matrix:\\n\", \n",
    "        eigenvalues) \n",
    "    \n",
    "    # printing eigen vectors \n",
    "    print(\"Right eigenvectors of the matrix:\\n\", \n",
    "        eigenvectors)\n",
    "\n",
    "eigen(m)"
   ]
  }
 ],
 "metadata": {
  "kernelspec": {
   "display_name": "base",
   "language": "python",
   "name": "python3"
  },
  "language_info": {
   "codemirror_mode": {
    "name": "ipython",
    "version": 3
   },
   "file_extension": ".py",
   "mimetype": "text/x-python",
   "name": "python",
   "nbconvert_exporter": "python",
   "pygments_lexer": "ipython3",
   "version": "3.11.7"
  }
 },
 "nbformat": 4,
 "nbformat_minor": 2
}
